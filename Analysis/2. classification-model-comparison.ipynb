{
 "cells": [
  {
   "cell_type": "code",
   "execution_count": 1,
   "id": "8163882c",
   "metadata": {
    "_cell_guid": "b1076dfc-b9ad-4769-8c92-a6c4dae69d19",
    "_uuid": "8f2839f25d086af736a60e9eeb907d3b93b6e0e5",
    "execution": {
     "iopub.execute_input": "2024-08-31T19:07:09.596574Z",
     "iopub.status.busy": "2024-08-31T19:07:09.596000Z",
     "iopub.status.idle": "2024-08-31T19:07:12.876600Z",
     "shell.execute_reply": "2024-08-31T19:07:12.875353Z"
    },
    "papermill": {
     "duration": 3.290667,
     "end_time": "2024-08-31T19:07:12.880163",
     "exception": false,
     "start_time": "2024-08-31T19:07:09.589496",
     "status": "completed"
    },
    "tags": []
   },
   "outputs": [],
   "source": [
    "import numpy as np \n",
    "import pandas as pd\n",
    "import seaborn as sns\n",
    "import matplotlib.pyplot as plt"
   ]
  },
  {
   "cell_type": "code",
   "execution_count": 2,
   "id": "9ad3cfb3",
   "metadata": {
    "execution": {
     "iopub.execute_input": "2024-08-31T19:07:12.892132Z",
     "iopub.status.busy": "2024-08-31T19:07:12.891376Z",
     "iopub.status.idle": "2024-08-31T19:07:12.899946Z",
     "shell.execute_reply": "2024-08-31T19:07:12.898182Z"
    },
    "papermill": {
     "duration": 0.0185,
     "end_time": "2024-08-31T19:07:12.902903",
     "exception": false,
     "start_time": "2024-08-31T19:07:12.884403",
     "status": "completed"
    },
    "tags": []
   },
   "outputs": [],
   "source": [
    "# BASE MODELS\n",
    "\n",
    "logreg_cm = np.array([[65,65],[5,7]])\n",
    "dtc_cm = np.array([[82,49],[4,7]])\n",
    "knn_cm = np.array([[116,14],[8,4]])"
   ]
  },
  {
   "cell_type": "code",
   "execution_count": 3,
   "id": "410a1323",
   "metadata": {
    "execution": {
     "iopub.execute_input": "2024-08-31T19:07:12.912962Z",
     "iopub.status.busy": "2024-08-31T19:07:12.912466Z",
     "iopub.status.idle": "2024-08-31T19:07:12.943951Z",
     "shell.execute_reply": "2024-08-31T19:07:12.942587Z"
    },
    "papermill": {
     "duration": 0.040228,
     "end_time": "2024-08-31T19:07:12.946986",
     "exception": false,
     "start_time": "2024-08-31T19:07:12.906758",
     "status": "completed"
    },
    "tags": []
   },
   "outputs": [
    {
     "data": {
      "text/html": [
       "<div>\n",
       "<style scoped>\n",
       "    .dataframe tbody tr th:only-of-type {\n",
       "        vertical-align: middle;\n",
       "    }\n",
       "\n",
       "    .dataframe tbody tr th {\n",
       "        vertical-align: top;\n",
       "    }\n",
       "\n",
       "    .dataframe thead th {\n",
       "        text-align: right;\n",
       "    }\n",
       "</style>\n",
       "<table border=\"1\" class=\"dataframe\">\n",
       "  <thead>\n",
       "    <tr style=\"text-align: right;\">\n",
       "      <th></th>\n",
       "      <th>model</th>\n",
       "      <th>output</th>\n",
       "      <th>count</th>\n",
       "    </tr>\n",
       "  </thead>\n",
       "  <tbody>\n",
       "    <tr>\n",
       "      <th>0</th>\n",
       "      <td>Logistic Regression</td>\n",
       "      <td>True Positive</td>\n",
       "      <td>65</td>\n",
       "    </tr>\n",
       "    <tr>\n",
       "      <th>1</th>\n",
       "      <td>Logistic Regression</td>\n",
       "      <td>False Negative</td>\n",
       "      <td>65</td>\n",
       "    </tr>\n",
       "    <tr>\n",
       "      <th>2</th>\n",
       "      <td>Logistic Regression</td>\n",
       "      <td>False Positive</td>\n",
       "      <td>5</td>\n",
       "    </tr>\n",
       "    <tr>\n",
       "      <th>3</th>\n",
       "      <td>Logistic Regression</td>\n",
       "      <td>True Negative</td>\n",
       "      <td>7</td>\n",
       "    </tr>\n",
       "    <tr>\n",
       "      <th>4</th>\n",
       "      <td>Decision Tree Classifier</td>\n",
       "      <td>True Positive</td>\n",
       "      <td>82</td>\n",
       "    </tr>\n",
       "    <tr>\n",
       "      <th>5</th>\n",
       "      <td>Decision Tree Classifier</td>\n",
       "      <td>False Negative</td>\n",
       "      <td>49</td>\n",
       "    </tr>\n",
       "    <tr>\n",
       "      <th>6</th>\n",
       "      <td>Decision Tree Classifier</td>\n",
       "      <td>False Positive</td>\n",
       "      <td>4</td>\n",
       "    </tr>\n",
       "    <tr>\n",
       "      <th>7</th>\n",
       "      <td>Decision Tree Classifier</td>\n",
       "      <td>True Negative</td>\n",
       "      <td>7</td>\n",
       "    </tr>\n",
       "    <tr>\n",
       "      <th>8</th>\n",
       "      <td>K-Nearest Neighbors</td>\n",
       "      <td>True Positive</td>\n",
       "      <td>116</td>\n",
       "    </tr>\n",
       "    <tr>\n",
       "      <th>9</th>\n",
       "      <td>K-Nearest Neighbors</td>\n",
       "      <td>False Negative</td>\n",
       "      <td>14</td>\n",
       "    </tr>\n",
       "    <tr>\n",
       "      <th>10</th>\n",
       "      <td>K-Nearest Neighbors</td>\n",
       "      <td>False Positive</td>\n",
       "      <td>8</td>\n",
       "    </tr>\n",
       "    <tr>\n",
       "      <th>11</th>\n",
       "      <td>K-Nearest Neighbors</td>\n",
       "      <td>True Negative</td>\n",
       "      <td>4</td>\n",
       "    </tr>\n",
       "  </tbody>\n",
       "</table>\n",
       "</div>"
      ],
      "text/plain": [
       "                       model          output  count\n",
       "0        Logistic Regression   True Positive     65\n",
       "1        Logistic Regression  False Negative     65\n",
       "2        Logistic Regression  False Positive      5\n",
       "3        Logistic Regression   True Negative      7\n",
       "4   Decision Tree Classifier   True Positive     82\n",
       "5   Decision Tree Classifier  False Negative     49\n",
       "6   Decision Tree Classifier  False Positive      4\n",
       "7   Decision Tree Classifier   True Negative      7\n",
       "8        K-Nearest Neighbors   True Positive    116\n",
       "9        K-Nearest Neighbors  False Negative     14\n",
       "10       K-Nearest Neighbors  False Positive      8\n",
       "11       K-Nearest Neighbors   True Negative      4"
      ]
     },
     "execution_count": 3,
     "metadata": {},
     "output_type": "execute_result"
    }
   ],
   "source": [
    "base = pd.DataFrame({\n",
    "    'model':['Logistic Regression']*4 + ['Decision Tree Classifier']*4 + ['K-Nearest Neighbors']*4,\n",
    "    'output':['True Positive', 'False Negative', 'False Positive', 'True Negative']*3,\n",
    "    'count': [65,65,5,7,82,49,4,7,116,14,8,4]})\n",
    "base"
   ]
  },
  {
   "cell_type": "code",
   "execution_count": 4,
   "id": "ab699474",
   "metadata": {
    "execution": {
     "iopub.execute_input": "2024-08-31T19:07:12.956898Z",
     "iopub.status.busy": "2024-08-31T19:07:12.956428Z",
     "iopub.status.idle": "2024-08-31T19:07:14.200764Z",
     "shell.execute_reply": "2024-08-31T19:07:14.199275Z"
    },
    "papermill": {
     "duration": 1.253056,
     "end_time": "2024-08-31T19:07:14.204111",
     "exception": false,
     "start_time": "2024-08-31T19:07:12.951055",
     "status": "completed"
    },
    "tags": []
   },
   "outputs": [
    {
     "data": {
      "image/png": "[encoded data removed]",
      "text/plain": [
       "<Figure size 1200x400 with 1 Axes>"
      ]
     },
     "metadata": {},
     "output_type": "display_data"
    }
   ],
   "source": [
    "plt.figure(figsize=(12,4))\n",
    "ax = sns.barplot(\n",
    "    data=base,\n",
    "    x='output',\n",
    "    y='count',\n",
    "    hue='model',\n",
    "    palette=sns.color_palette(\"husl\", 3),\n",
    "    linewidth=0\n",
    ")\n",
    "plt.xlabel(\"Output\")\n",
    "plt.ylabel(\"Count\")\n",
    "plt.title(\"Confustion Matrix Outputs by Model\\n \")\n",
    "plt.legend(title=\"Model\")\n",
    "plt.ylim(0,140)\n",
    "\n",
    "for i in ax.containers:\n",
    "    ax.bar_label(i,)\n",
    "\n",
    "plt.savefig('/kaggle/working/Confustion Matrix Outputs by Model.png', dpi=300, bbox_inches='tight')\n",
    "plt.show()"
   ]
  },
  {
   "cell_type": "code",
   "execution_count": 5,
   "id": "029ce3fc",
   "metadata": {
    "execution": {
     "iopub.execute_input": "2024-08-31T19:07:14.217322Z",
     "iopub.status.busy": "2024-08-31T19:07:14.216770Z",
     "iopub.status.idle": "2024-08-31T19:07:14.225252Z",
     "shell.execute_reply": "2024-08-31T19:07:14.223535Z"
    },
    "papermill": {
     "duration": 0.018564,
     "end_time": "2024-08-31T19:07:14.228156",
     "exception": false,
     "start_time": "2024-08-31T19:07:14.209592",
     "status": "completed"
    },
    "tags": []
   },
   "outputs": [],
   "source": [
    "# OPTIMIZED MODELS\n",
    "\n",
    "logreg_cm = np.array([[73,57],[5,7]])\n",
    "dtc_cm = np.array([[98,33],[7,4]])\n",
    "knn_cm = np.array([[128,2],[11,1]])"
   ]
  },
  {
   "cell_type": "code",
   "execution_count": 6,
   "id": "27c5a496",
   "metadata": {
    "execution": {
     "iopub.execute_input": "2024-08-31T19:07:14.241950Z",
     "iopub.status.busy": "2024-08-31T19:07:14.241333Z",
     "iopub.status.idle": "2024-08-31T19:07:14.259974Z",
     "shell.execute_reply": "2024-08-31T19:07:14.258733Z"
    },
    "papermill": {
     "duration": 0.029124,
     "end_time": "2024-08-31T19:07:14.262702",
     "exception": false,
     "start_time": "2024-08-31T19:07:14.233578",
     "status": "completed"
    },
    "tags": []
   },
   "outputs": [
    {
     "data": {
      "text/html": [
       "<div>\n",
       "<style scoped>\n",
       "    .dataframe tbody tr th:only-of-type {\n",
       "        vertical-align: middle;\n",
       "    }\n",
       "\n",
       "    .dataframe tbody tr th {\n",
       "        vertical-align: top;\n",
       "    }\n",
       "\n",
       "    .dataframe thead th {\n",
       "        text-align: right;\n",
       "    }\n",
       "</style>\n",
       "<table border=\"1\" class=\"dataframe\">\n",
       "  <thead>\n",
       "    <tr style=\"text-align: right;\">\n",
       "      <th></th>\n",
       "      <th>model</th>\n",
       "      <th>output</th>\n",
       "      <th>count</th>\n",
       "    </tr>\n",
       "  </thead>\n",
       "  <tbody>\n",
       "    <tr>\n",
       "      <th>0</th>\n",
       "      <td>Logistic Regression</td>\n",
       "      <td>True Positive</td>\n",
       "      <td>73</td>\n",
       "    </tr>\n",
       "    <tr>\n",
       "      <th>1</th>\n",
       "      <td>Logistic Regression</td>\n",
       "      <td>False Negative</td>\n",
       "      <td>57</td>\n",
       "    </tr>\n",
       "    <tr>\n",
       "      <th>2</th>\n",
       "      <td>Logistic Regression</td>\n",
       "      <td>False Positive</td>\n",
       "      <td>5</td>\n",
       "    </tr>\n",
       "    <tr>\n",
       "      <th>3</th>\n",
       "      <td>Logistic Regression</td>\n",
       "      <td>True Negative</td>\n",
       "      <td>7</td>\n",
       "    </tr>\n",
       "    <tr>\n",
       "      <th>4</th>\n",
       "      <td>Decision Tree Classifier</td>\n",
       "      <td>True Positive</td>\n",
       "      <td>98</td>\n",
       "    </tr>\n",
       "    <tr>\n",
       "      <th>5</th>\n",
       "      <td>Decision Tree Classifier</td>\n",
       "      <td>False Negative</td>\n",
       "      <td>33</td>\n",
       "    </tr>\n",
       "    <tr>\n",
       "      <th>6</th>\n",
       "      <td>Decision Tree Classifier</td>\n",
       "      <td>False Positive</td>\n",
       "      <td>7</td>\n",
       "    </tr>\n",
       "    <tr>\n",
       "      <th>7</th>\n",
       "      <td>Decision Tree Classifier</td>\n",
       "      <td>True Negative</td>\n",
       "      <td>4</td>\n",
       "    </tr>\n",
       "    <tr>\n",
       "      <th>8</th>\n",
       "      <td>K-Nearest Neighbors</td>\n",
       "      <td>True Positive</td>\n",
       "      <td>124</td>\n",
       "    </tr>\n",
       "    <tr>\n",
       "      <th>9</th>\n",
       "      <td>K-Nearest Neighbors</td>\n",
       "      <td>False Negative</td>\n",
       "      <td>2</td>\n",
       "    </tr>\n",
       "    <tr>\n",
       "      <th>10</th>\n",
       "      <td>K-Nearest Neighbors</td>\n",
       "      <td>False Positive</td>\n",
       "      <td>11</td>\n",
       "    </tr>\n",
       "    <tr>\n",
       "      <th>11</th>\n",
       "      <td>K-Nearest Neighbors</td>\n",
       "      <td>True Negative</td>\n",
       "      <td>1</td>\n",
       "    </tr>\n",
       "  </tbody>\n",
       "</table>\n",
       "</div>"
      ],
      "text/plain": [
       "                       model          output  count\n",
       "0        Logistic Regression   True Positive     73\n",
       "1        Logistic Regression  False Negative     57\n",
       "2        Logistic Regression  False Positive      5\n",
       "3        Logistic Regression   True Negative      7\n",
       "4   Decision Tree Classifier   True Positive     98\n",
       "5   Decision Tree Classifier  False Negative     33\n",
       "6   Decision Tree Classifier  False Positive      7\n",
       "7   Decision Tree Classifier   True Negative      4\n",
       "8        K-Nearest Neighbors   True Positive    124\n",
       "9        K-Nearest Neighbors  False Negative      2\n",
       "10       K-Nearest Neighbors  False Positive     11\n",
       "11       K-Nearest Neighbors   True Negative      1"
      ]
     },
     "execution_count": 6,
     "metadata": {},
     "output_type": "execute_result"
    }
   ],
   "source": [
    "base = pd.DataFrame({\n",
    "    'model':['Logistic Regression']*4 + ['Decision Tree Classifier']*4 + ['K-Nearest Neighbors']*4,\n",
    "    'output':['True Positive', 'False Negative', 'False Positive', 'True Negative']*3,\n",
    "    'count': [73,57,5,7,98,33,7,4,124,2,11,1]})\n",
    "base"
   ]
  },
  {
   "cell_type": "code",
   "execution_count": 7,
   "id": "7298e32b",
   "metadata": {
    "execution": {
     "iopub.execute_input": "2024-08-31T19:07:14.276997Z",
     "iopub.status.busy": "2024-08-31T19:07:14.276370Z",
     "iopub.status.idle": "2024-08-31T19:07:15.503196Z",
     "shell.execute_reply": "2024-08-31T19:07:15.501425Z"
    },
    "papermill": {
     "duration": 1.238225,
     "end_time": "2024-08-31T19:07:15.506585",
     "exception": false,
     "start_time": "2024-08-31T19:07:14.268360",
     "status": "completed"
    },
    "tags": []
   },
   "outputs": [
    {
     "data": {
      "image/png": "[encoded data removed]",
      "text/plain": [
       "<Figure size 1200x400 with 1 Axes>"
      ]
     },
     "metadata": {},
     "output_type": "display_data"
    }
   ],
   "source": [
    "plt.figure(figsize=(12,4))\n",
    "ax = sns.barplot(\n",
    "    data=base,\n",
    "    x='output',\n",
    "    y='count',\n",
    "    hue='model',\n",
    "    palette=sns.color_palette(\"husl\", 3),\n",
    "    linewidth=0\n",
    ")\n",
    "plt.xlabel(\"Output\")\n",
    "plt.ylabel(\"Count\")\n",
    "plt.title(\"Confustion Matrix Outputs by Model\\n \")\n",
    "plt.legend(title=\"Model\")\n",
    "plt.ylim(0,140)\n",
    "\n",
    "for i in ax.containers:\n",
    "    ax.bar_label(i,)\n",
    "\n",
    "plt.savefig('/kaggle/working/Confustion Matrix Outputs by Model Optimized.png', dpi=300, bbox_inches='tight')\n",
    "plt.show()"
   ]
  }
 ],
 "metadata": {
  "kaggle": {
   "accelerator": "none",
   "dataSources": [],
   "dockerImageVersionId": 30761,
   "isGpuEnabled": false,
   "isInternetEnabled": true,
   "language": "python",
   "sourceType": "notebook"
  },
  "kernelspec": {
   "display_name": "Python 3",
   "language": "python",
   "name": "python3"
  },
  "language_info": {
   "codemirror_mode": {
    "name": "ipython",
    "version": 3
   },
   "file_extension": ".py",
   "mimetype": "text/x-python",
   "name": "python",
   "nbconvert_exporter": "python",
   "pygments_lexer": "ipython3",
   "version": "3.10.14"
  },
  "papermill": {
   "default_parameters": {},
   "duration": 10.640869,
   "end_time": "2024-08-31T19:07:16.341836",
   "environment_variables": {},
   "exception": null,
   "input_path": "__notebook__.ipynb",
   "output_path": "__notebook__.ipynb",
   "parameters": {},
   "start_time": "2024-08-31T19:07:05.700967",
   "version": "2.6.0"
  }
 },
 "nbformat": 4,
 "nbformat_minor": 5
}
