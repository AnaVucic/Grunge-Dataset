{
 "cells": [
  {
   "cell_type": "code",
   "execution_count": 1,
   "id": "3fcf54f8",
   "metadata": {
    "_cell_guid": "b1076dfc-b9ad-4769-8c92-a6c4dae69d19",
    "_uuid": "8f2839f25d086af736a60e9eeb907d3b93b6e0e5",
    "execution": {
     "iopub.execute_input": "2024-08-31T18:13:54.264440Z",
     "iopub.status.busy": "2024-08-31T18:13:54.263316Z",
     "iopub.status.idle": "2024-08-31T18:13:56.542879Z",
     "shell.execute_reply": "2024-08-31T18:13:56.541810Z"
    },
    "papermill": {
     "duration": 2.291119,
     "end_time": "2024-08-31T18:13:56.545328",
     "exception": false,
     "start_time": "2024-08-31T18:13:54.254209",
     "status": "completed"
    },
    "tags": []
   },
   "outputs": [],
   "source": [
    "import pandas as pd\n",
    "import numpy as np\n",
    "import seaborn as sns\n",
    "import matplotlib.pyplot as plt\n",
    "import warnings\n",
    "import os\n",
    "\n",
    "from sklearn.impute import KNNImputer\n",
    "from sklearn.model_selection import train_test_split, cross_val_score\n",
    "from sklearn.feature_selection import mutual_info_classif as MIC\n",
    "from sklearn.preprocessing import StandardScaler \n",
    "from sklearn.neighbors import KNeighborsClassifier\n",
    "from sklearn.metrics import accuracy_score, precision_score, recall_score, f1_score, confusion_matrix, make_scorer\n",
    "\n",
    "warnings.filterwarnings(\"ignore\")\n",
    "pd.options.display.max_rows = 750\n",
    "pd.options.display.max_columns = 100\n",
    "\n",
    "df = pd.read_csv(\"../input/grunge.csv\")"
   ]
  },
  {
   "cell_type": "markdown",
   "id": "553d6962",
   "metadata": {
    "papermill": {
     "duration": 0.006725,
     "end_time": "2024-08-31T18:13:56.559402",
     "exception": false,
     "start_time": "2024-08-31T18:13:56.552677",
     "status": "completed"
    },
    "tags": []
   },
   "source": [
    "### Function for Printing and Saving\n",
    "* Confustion Matrix"
   ]
  },
  {
   "cell_type": "code",
   "execution_count": 2,
   "id": "2633daaa",
   "metadata": {
    "execution": {
     "iopub.execute_input": "2024-08-31T18:13:56.575434Z",
     "iopub.status.busy": "2024-08-31T18:13:56.574538Z",
     "iopub.status.idle": "2024-08-31T18:13:56.582089Z",
     "shell.execute_reply": "2024-08-31T18:13:56.581071Z"
    },
    "papermill": {
     "duration": 0.017779,
     "end_time": "2024-08-31T18:13:56.584115",
     "exception": false,
     "start_time": "2024-08-31T18:13:56.566336",
     "status": "completed"
    },
    "tags": []
   },
   "outputs": [],
   "source": [
    "def print_save_confusion_matrix(test, pred, suffix=''):\n",
    "\n",
    "    cnf_matrix = confusion_matrix(test, pred, labels=['no', 'yes'])\n",
    "\n",
    "    fig, axe = plt.subplots(figsize=(5,4))\n",
    "    ax =sns.heatmap(\n",
    "        pd.DataFrame(cnf_matrix), \n",
    "        annot=True, \n",
    "        cmap=sns.light_palette(\"#459e97\", as_cmap=True),\n",
    "        fmt='g',)\n",
    "    plt.title('Confusion Matrix of '+suffix.title()+' Model', y=1.1)\n",
    "    ax.set_xticklabels(['no', 'yes'])\n",
    "    ax.set_yticklabels(['no', 'yes'])\n",
    "    axe.tick_params(top=True, labeltop=True)\n",
    "    plt.ylabel('Actual charting')\n",
    "    plt.xlabel('Predicted charting')\n",
    "    plt.savefig('/kaggle/working/Confusion Matrix ['+suffix.lower()+'].png', dpi=300, bbox_inches='tight')\n",
    "    plt.show()"
   ]
  },
  {
   "cell_type": "markdown",
   "id": "aca46ae7",
   "metadata": {
    "papermill": {
     "duration": 0.006737,
     "end_time": "2024-08-31T18:13:56.597873",
     "exception": false,
     "start_time": "2024-08-31T18:13:56.591136",
     "status": "completed"
    },
    "tags": []
   },
   "source": [
    "# 1. Preprocessing"
   ]
  },
  {
   "cell_type": "markdown",
   "id": "6320efbe",
   "metadata": {
    "execution": {
     "iopub.execute_input": "2024-08-09T15:16:14.427714Z",
     "iopub.status.busy": "2024-08-09T15:16:14.426854Z",
     "iopub.status.idle": "2024-08-09T15:16:14.437029Z",
     "shell.execute_reply": "2024-08-09T15:16:14.435673Z",
     "shell.execute_reply.started": "2024-08-09T15:16:14.427670Z"
    },
    "papermill": {
     "duration": 0.006672,
     "end_time": "2024-08-31T18:13:56.611501",
     "exception": false,
     "start_time": "2024-08-31T18:13:56.604829",
     "status": "completed"
    },
    "tags": []
   },
   "source": [
    "### Creating the target variable `on_chart`\n",
    "\n",
    "For songs that have not reached any postition on Billboard top lists, column `on_chart` will be an empty string.<br>\n",
    "Otherwise, column will contain concatenated strings from all Billboard top lists."
   ]
  },
  {
   "cell_type": "code",
   "execution_count": 3,
   "id": "1bd5af78",
   "metadata": {
    "execution": {
     "iopub.execute_input": "2024-08-31T18:13:56.627457Z",
     "iopub.status.busy": "2024-08-31T18:13:56.626556Z",
     "iopub.status.idle": "2024-08-31T18:13:56.674626Z",
     "shell.execute_reply": "2024-08-31T18:13:56.673616Z"
    },
    "papermill": {
     "duration": 0.058451,
     "end_time": "2024-08-31T18:13:56.676855",
     "exception": false,
     "start_time": "2024-08-31T18:13:56.618404",
     "status": "completed"
    },
    "tags": []
   },
   "outputs": [
    {
     "name": "stdout",
     "output_type": "stream",
     "text": [
      "on_chart\n",
      "no     644\n",
      "yes     63\n",
      "Name: count, dtype: int64\n",
      "(707, 34)\n"
     ]
    }
   ],
   "source": [
    "df['on_chart'] = df.iloc[:,33:].replace(np.nan, '').astype(str).apply(''.join, axis=1).str.strip()\n",
    "\n",
    "# If column `on_chart` contains empty string - label `no` <br>\n",
    "# Otherwise - label `yes`\n",
    "df['on_chart'] = ['yes'  if x != '' else 'no' for x in df['on_chart']]\n",
    "\n",
    "# Removing all Billboard top lists columns.\n",
    "df.drop(df.columns[33:97], axis=1, inplace=True)\n",
    "\n",
    "# `on_chart` - apsolute value counts.\n",
    "print(df['on_chart'].value_counts())\n",
    "print(df.shape)"
   ]
  },
  {
   "cell_type": "markdown",
   "id": "830c509d",
   "metadata": {
    "papermill": {
     "duration": 0.006724,
     "end_time": "2024-08-31T18:13:56.691308",
     "exception": false,
     "start_time": "2024-08-31T18:13:56.684584",
     "status": "completed"
    },
    "tags": []
   },
   "source": [
    "### Creating new index as `track_name` + `album_name`"
   ]
  },
  {
   "cell_type": "code",
   "execution_count": 4,
   "id": "d4cd7eba",
   "metadata": {
    "execution": {
     "iopub.execute_input": "2024-08-31T18:13:56.708003Z",
     "iopub.status.busy": "2024-08-31T18:13:56.707128Z",
     "iopub.status.idle": "2024-08-31T18:13:56.720460Z",
     "shell.execute_reply": "2024-08-31T18:13:56.719513Z"
    },
    "papermill": {
     "duration": 0.023424,
     "end_time": "2024-08-31T18:13:56.722493",
     "exception": false,
     "start_time": "2024-08-31T18:13:56.699069",
     "status": "completed"
    },
    "tags": []
   },
   "outputs": [],
   "source": [
    "df['id'] = df.iloc[:,[0,1]].apply(', '.join, axis=1)\n",
    "df.drop(['track_name','album_name'], axis=1, inplace=True)\n",
    "df.set_index('id', inplace=True)"
   ]
  },
  {
   "cell_type": "markdown",
   "id": "2b55e02f",
   "metadata": {
    "papermill": {
     "duration": 0.007023,
     "end_time": "2024-08-31T18:13:56.736621",
     "exception": false,
     "start_time": "2024-08-31T18:13:56.729598",
     "status": "completed"
    },
    "tags": []
   },
   "source": [
    "### Isolating numerical features"
   ]
  },
  {
   "cell_type": "code",
   "execution_count": 5,
   "id": "acf7e195",
   "metadata": {
    "execution": {
     "iopub.execute_input": "2024-08-31T18:13:56.752636Z",
     "iopub.status.busy": "2024-08-31T18:13:56.751799Z",
     "iopub.status.idle": "2024-08-31T18:13:56.758212Z",
     "shell.execute_reply": "2024-08-31T18:13:56.757273Z"
    },
    "papermill": {
     "duration": 0.016698,
     "end_time": "2024-08-31T18:13:56.760283",
     "exception": false,
     "start_time": "2024-08-31T18:13:56.743585",
     "status": "completed"
    },
    "tags": []
   },
   "outputs": [],
   "source": [
    "data = df.iloc[:,np.r_[1:3,4:16,30, -1]]"
   ]
  },
  {
   "cell_type": "markdown",
   "id": "8c677253",
   "metadata": {
    "papermill": {
     "duration": 0.0068,
     "end_time": "2024-08-31T18:13:56.774276",
     "exception": false,
     "start_time": "2024-08-31T18:13:56.767476",
     "status": "completed"
    },
    "tags": []
   },
   "source": [
    "### Missing Data Imputation"
   ]
  },
  {
   "cell_type": "code",
   "execution_count": 6,
   "id": "2b0a4f5c",
   "metadata": {
    "execution": {
     "iopub.execute_input": "2024-08-31T18:13:56.790443Z",
     "iopub.status.busy": "2024-08-31T18:13:56.789539Z",
     "iopub.status.idle": "2024-08-31T18:13:56.799191Z",
     "shell.execute_reply": "2024-08-31T18:13:56.798272Z"
    },
    "papermill": {
     "duration": 0.019818,
     "end_time": "2024-08-31T18:13:56.801140",
     "exception": false,
     "start_time": "2024-08-31T18:13:56.781322",
     "status": "completed"
    },
    "tags": []
   },
   "outputs": [
    {
     "data": {
      "text/plain": [
       "duration             0\n",
       "release_year         0\n",
       "acousticness         0\n",
       "danceability         0\n",
       "energy               0\n",
       "instrumentalness     0\n",
       "key                  0\n",
       "liveness             0\n",
       "loudness             0\n",
       "mode                 0\n",
       "speechiness          0\n",
       "tempo                0\n",
       "time_signature       0\n",
       "valence              0\n",
       "album_rating        61\n",
       "on_chart             0\n",
       "dtype: int64"
      ]
     },
     "execution_count": 6,
     "metadata": {},
     "output_type": "execute_result"
    }
   ],
   "source": [
    "data.isna().sum()"
   ]
  },
  {
   "cell_type": "code",
   "execution_count": 7,
   "id": "3bd6563c",
   "metadata": {
    "execution": {
     "iopub.execute_input": "2024-08-31T18:13:56.817431Z",
     "iopub.status.busy": "2024-08-31T18:13:56.816516Z",
     "iopub.status.idle": "2024-08-31T18:13:56.826149Z",
     "shell.execute_reply": "2024-08-31T18:13:56.825214Z"
    },
    "papermill": {
     "duration": 0.019712,
     "end_time": "2024-08-31T18:13:56.828055",
     "exception": false,
     "start_time": "2024-08-31T18:13:56.808343",
     "status": "completed"
    },
    "tags": []
   },
   "outputs": [
    {
     "name": "stdout",
     "output_type": "stream",
     "text": [
      "Percentage of missing values of album_rating: 8.6 %\n",
      "\n",
      "Frequencies\n",
      "album_rating\n",
      "4.0    269\n",
      "3.0    106\n",
      "4.5    102\n",
      "5.0     87\n",
      "NaN     61\n",
      "2.5     42\n",
      "3.5     38\n",
      "2.0      2\n",
      "Name: count, dtype: int64\n"
     ]
    }
   ],
   "source": [
    "print(f'Percentage of missing values of album_rating: {data.album_rating.isna().sum()/data.shape[0]*100:.2} %\\n')\n",
    "print('Frequencies')\n",
    "print(data.album_rating.value_counts(dropna=False))"
   ]
  },
  {
   "cell_type": "code",
   "execution_count": 8,
   "id": "45f7f713",
   "metadata": {
    "execution": {
     "iopub.execute_input": "2024-08-31T18:13:56.844262Z",
     "iopub.status.busy": "2024-08-31T18:13:56.843553Z",
     "iopub.status.idle": "2024-08-31T18:13:56.882928Z",
     "shell.execute_reply": "2024-08-31T18:13:56.881881Z"
    },
    "papermill": {
     "duration": 0.050347,
     "end_time": "2024-08-31T18:13:56.885724",
     "exception": false,
     "start_time": "2024-08-31T18:13:56.835377",
     "status": "completed"
    },
    "tags": []
   },
   "outputs": [
    {
     "data": {
      "text/html": [
       "<div>\n",
       "<style scoped>\n",
       "    .dataframe tbody tr th:only-of-type {\n",
       "        vertical-align: middle;\n",
       "    }\n",
       "\n",
       "    .dataframe tbody tr th {\n",
       "        vertical-align: top;\n",
       "    }\n",
       "\n",
       "    .dataframe thead th {\n",
       "        text-align: right;\n",
       "    }\n",
       "</style>\n",
       "<table border=\"1\" class=\"dataframe\">\n",
       "  <thead>\n",
       "    <tr style=\"text-align: right;\">\n",
       "      <th></th>\n",
       "      <th>imputed</th>\n",
       "      <th>original</th>\n",
       "      <th>diff</th>\n",
       "    </tr>\n",
       "    <tr>\n",
       "      <th>album_rating</th>\n",
       "      <th></th>\n",
       "      <th></th>\n",
       "      <th></th>\n",
       "    </tr>\n",
       "  </thead>\n",
       "  <tbody>\n",
       "    <tr>\n",
       "      <th>4.0</th>\n",
       "      <td>295</td>\n",
       "      <td>269</td>\n",
       "      <td>26</td>\n",
       "    </tr>\n",
       "    <tr>\n",
       "      <th>4.5</th>\n",
       "      <td>116</td>\n",
       "      <td>102</td>\n",
       "      <td>14</td>\n",
       "    </tr>\n",
       "    <tr>\n",
       "      <th>3.0</th>\n",
       "      <td>115</td>\n",
       "      <td>106</td>\n",
       "      <td>9</td>\n",
       "    </tr>\n",
       "    <tr>\n",
       "      <th>5.0</th>\n",
       "      <td>97</td>\n",
       "      <td>87</td>\n",
       "      <td>10</td>\n",
       "    </tr>\n",
       "    <tr>\n",
       "      <th>2.5</th>\n",
       "      <td>43</td>\n",
       "      <td>42</td>\n",
       "      <td>1</td>\n",
       "    </tr>\n",
       "    <tr>\n",
       "      <th>3.5</th>\n",
       "      <td>39</td>\n",
       "      <td>38</td>\n",
       "      <td>1</td>\n",
       "    </tr>\n",
       "    <tr>\n",
       "      <th>2.0</th>\n",
       "      <td>2</td>\n",
       "      <td>2</td>\n",
       "      <td>0</td>\n",
       "    </tr>\n",
       "  </tbody>\n",
       "</table>\n",
       "</div>"
      ],
      "text/plain": [
       "              imputed  original  diff\n",
       "album_rating                         \n",
       "4.0               295       269    26\n",
       "4.5               116       102    14\n",
       "3.0               115       106     9\n",
       "5.0                97        87    10\n",
       "2.5                43        42     1\n",
       "3.5                39        38     1\n",
       "2.0                 2         2     0"
      ]
     },
     "execution_count": 8,
     "metadata": {},
     "output_type": "execute_result"
    }
   ],
   "source": [
    "imputer = KNNImputer(n_neighbors=1)\n",
    "imputed_data = pd.DataFrame(imputer.fit_transform(data.drop('on_chart', axis=1)), columns=data.columns[:-1])\n",
    "\n",
    "imputed_data.set_index(data.index.values, inplace=True)\n",
    "\n",
    "imputed = pd.DataFrame({'imputed': imputed_data['album_rating'].value_counts()})\n",
    "original = pd.DataFrame({'original': data.album_rating.value_counts()})\n",
    "compare_imputed = pd.concat([imputed, original], axis=1)\n",
    "compare_imputed['diff'] = compare_imputed.imputed - compare_imputed.original\n",
    "compare_imputed"
   ]
  },
  {
   "cell_type": "code",
   "execution_count": 9,
   "id": "fccb6770",
   "metadata": {
    "execution": {
     "iopub.execute_input": "2024-08-31T18:13:56.912634Z",
     "iopub.status.busy": "2024-08-31T18:13:56.912112Z",
     "iopub.status.idle": "2024-08-31T18:13:56.918390Z",
     "shell.execute_reply": "2024-08-31T18:13:56.917305Z"
    },
    "papermill": {
     "duration": 0.022999,
     "end_time": "2024-08-31T18:13:56.921277",
     "exception": false,
     "start_time": "2024-08-31T18:13:56.898278",
     "status": "completed"
    },
    "tags": []
   },
   "outputs": [],
   "source": [
    "data['album_rating'] = pd.Series(imputed_data['album_rating'])"
   ]
  },
  {
   "cell_type": "markdown",
   "id": "4db70eb7",
   "metadata": {
    "papermill": {
     "duration": 0.012018,
     "end_time": "2024-08-31T18:13:56.945770",
     "exception": false,
     "start_time": "2024-08-31T18:13:56.933752",
     "status": "completed"
    },
    "tags": []
   },
   "source": [
    "### Feature Selection - Mutual Information"
   ]
  },
  {
   "cell_type": "code",
   "execution_count": 10,
   "id": "dfd5b01f",
   "metadata": {
    "execution": {
     "iopub.execute_input": "2024-08-31T18:13:56.972121Z",
     "iopub.status.busy": "2024-08-31T18:13:56.971768Z",
     "iopub.status.idle": "2024-08-31T18:13:57.056957Z",
     "shell.execute_reply": "2024-08-31T18:13:57.055817Z"
    },
    "papermill": {
     "duration": 0.101053,
     "end_time": "2024-08-31T18:13:57.059261",
     "exception": false,
     "start_time": "2024-08-31T18:13:56.958208",
     "status": "completed"
    },
    "tags": []
   },
   "outputs": [
    {
     "data": {
      "text/html": [
       "<div>\n",
       "<style scoped>\n",
       "    .dataframe tbody tr th:only-of-type {\n",
       "        vertical-align: middle;\n",
       "    }\n",
       "\n",
       "    .dataframe tbody tr th {\n",
       "        vertical-align: top;\n",
       "    }\n",
       "\n",
       "    .dataframe thead th {\n",
       "        text-align: right;\n",
       "    }\n",
       "</style>\n",
       "<table border=\"1\" class=\"dataframe\">\n",
       "  <thead>\n",
       "    <tr style=\"text-align: right;\">\n",
       "      <th></th>\n",
       "      <th>release_year</th>\n",
       "      <th>liveness</th>\n",
       "      <th>speechiness</th>\n",
       "      <th>time_signature</th>\n",
       "      <th>album_rating</th>\n",
       "    </tr>\n",
       "    <tr>\n",
       "      <th>id</th>\n",
       "      <th></th>\n",
       "      <th></th>\n",
       "      <th></th>\n",
       "      <th></th>\n",
       "      <th></th>\n",
       "    </tr>\n",
       "  </thead>\n",
       "  <tbody>\n",
       "    <tr>\n",
       "      <th>Blew, Bleach</th>\n",
       "      <td>1989</td>\n",
       "      <td>0.2980</td>\n",
       "      <td>0.0556</td>\n",
       "      <td>4</td>\n",
       "      <td>3.5</td>\n",
       "    </tr>\n",
       "    <tr>\n",
       "      <th>Floyd The Barber, Bleach</th>\n",
       "      <td>1989</td>\n",
       "      <td>0.0623</td>\n",
       "      <td>0.0418</td>\n",
       "      <td>4</td>\n",
       "      <td>3.5</td>\n",
       "    </tr>\n",
       "    <tr>\n",
       "      <th>About A Girl, Bleach</th>\n",
       "      <td>1989</td>\n",
       "      <td>0.2090</td>\n",
       "      <td>0.0310</td>\n",
       "      <td>4</td>\n",
       "      <td>3.5</td>\n",
       "    </tr>\n",
       "    <tr>\n",
       "      <th>School, Bleach</th>\n",
       "      <td>1989</td>\n",
       "      <td>0.0739</td>\n",
       "      <td>0.0785</td>\n",
       "      <td>4</td>\n",
       "      <td>3.5</td>\n",
       "    </tr>\n",
       "    <tr>\n",
       "      <th>Love Buzz, Bleach</th>\n",
       "      <td>1989</td>\n",
       "      <td>0.1820</td>\n",
       "      <td>0.0339</td>\n",
       "      <td>4</td>\n",
       "      <td>3.5</td>\n",
       "    </tr>\n",
       "  </tbody>\n",
       "</table>\n",
       "</div>"
      ],
      "text/plain": [
       "                          release_year  liveness  speechiness  time_signature  \\\n",
       "id                                                                              \n",
       "Blew, Bleach                      1989    0.2980       0.0556               4   \n",
       "Floyd The Barber, Bleach          1989    0.0623       0.0418               4   \n",
       "About A Girl, Bleach              1989    0.2090       0.0310               4   \n",
       "School, Bleach                    1989    0.0739       0.0785               4   \n",
       "Love Buzz, Bleach                 1989    0.1820       0.0339               4   \n",
       "\n",
       "                          album_rating  \n",
       "id                                      \n",
       "Blew, Bleach                       3.5  \n",
       "Floyd The Barber, Bleach           3.5  \n",
       "About A Girl, Bleach               3.5  \n",
       "School, Bleach                     3.5  \n",
       "Love Buzz, Bleach                  3.5  "
      ]
     },
     "execution_count": 10,
     "metadata": {},
     "output_type": "execute_result"
    }
   ],
   "source": [
    "X = data.drop('on_chart', axis=1) # Features\n",
    "y = data['on_chart'] # Target variable\n",
    "\n",
    "mi_scores = pd.DataFrame(data={'mi':MIC(X, y, random_state=2024)},index=X.columns)\n",
    "to_keep = mi_scores.mi[mi_scores.mi>0.02].index\n",
    "\n",
    "X = X[to_keep]\n",
    "X.head()"
   ]
  },
  {
   "cell_type": "markdown",
   "id": "96ca4caf",
   "metadata": {
    "papermill": {
     "duration": 0.007645,
     "end_time": "2024-08-31T18:13:57.074717",
     "exception": false,
     "start_time": "2024-08-31T18:13:57.067072",
     "status": "completed"
    },
    "tags": []
   },
   "source": [
    "# 2. Building Base Model"
   ]
  },
  {
   "cell_type": "markdown",
   "id": "7ceac596",
   "metadata": {
    "papermill": {
     "duration": 0.007406,
     "end_time": "2024-08-31T18:13:57.089873",
     "exception": false,
     "start_time": "2024-08-31T18:13:57.082467",
     "status": "completed"
    },
    "tags": []
   },
   "source": [
    "### Splitting the Data"
   ]
  },
  {
   "cell_type": "code",
   "execution_count": 11,
   "id": "da1f48f6",
   "metadata": {
    "execution": {
     "iopub.execute_input": "2024-08-31T18:13:57.107632Z",
     "iopub.status.busy": "2024-08-31T18:13:57.106663Z",
     "iopub.status.idle": "2024-08-31T18:13:57.118774Z",
     "shell.execute_reply": "2024-08-31T18:13:57.117491Z"
    },
    "papermill": {
     "duration": 0.023091,
     "end_time": "2024-08-31T18:13:57.120808",
     "exception": false,
     "start_time": "2024-08-31T18:13:57.097717",
     "status": "completed"
    },
    "tags": []
   },
   "outputs": [
    {
     "name": "stdout",
     "output_type": "stream",
     "text": [
      "on_chart\n",
      "no     0.909735\n",
      "yes    0.090265\n",
      "Name: proportion, dtype: float64\n",
      "on_chart\n",
      "no     0.915493\n",
      "yes    0.084507\n",
      "Name: proportion, dtype: float64\n"
     ]
    }
   ],
   "source": [
    "X_train, X_test, y_train, y_test = train_test_split(X, y, test_size=0.20, random_state=2024)\n",
    "print(y_train.value_counts(normalize=True))\n",
    "print(y_test.value_counts(normalize=True))"
   ]
  },
  {
   "cell_type": "markdown",
   "id": "367926d5",
   "metadata": {
    "papermill": {
     "duration": 0.007615,
     "end_time": "2024-08-31T18:13:57.136264",
     "exception": false,
     "start_time": "2024-08-31T18:13:57.128649",
     "status": "completed"
    },
    "tags": []
   },
   "source": [
    "### Feature Scaling"
   ]
  },
  {
   "cell_type": "code",
   "execution_count": 12,
   "id": "a23dad89",
   "metadata": {
    "execution": {
     "iopub.execute_input": "2024-08-31T18:13:57.153665Z",
     "iopub.status.busy": "2024-08-31T18:13:57.152898Z",
     "iopub.status.idle": "2024-08-31T18:13:57.176096Z",
     "shell.execute_reply": "2024-08-31T18:13:57.175083Z"
    },
    "papermill": {
     "duration": 0.034334,
     "end_time": "2024-08-31T18:13:57.178305",
     "exception": false,
     "start_time": "2024-08-31T18:13:57.143971",
     "status": "completed"
    },
    "tags": []
   },
   "outputs": [
    {
     "data": {
      "text/html": [
       "<div>\n",
       "<style scoped>\n",
       "    .dataframe tbody tr th:only-of-type {\n",
       "        vertical-align: middle;\n",
       "    }\n",
       "\n",
       "    .dataframe tbody tr th {\n",
       "        vertical-align: top;\n",
       "    }\n",
       "\n",
       "    .dataframe thead th {\n",
       "        text-align: right;\n",
       "    }\n",
       "</style>\n",
       "<table border=\"1\" class=\"dataframe\">\n",
       "  <thead>\n",
       "    <tr style=\"text-align: right;\">\n",
       "      <th></th>\n",
       "      <th>release_year</th>\n",
       "      <th>liveness</th>\n",
       "      <th>speechiness</th>\n",
       "      <th>time_signature</th>\n",
       "      <th>album_rating</th>\n",
       "    </tr>\n",
       "  </thead>\n",
       "  <tbody>\n",
       "    <tr>\n",
       "      <th>count</th>\n",
       "      <td>565.000000</td>\n",
       "      <td>565.000000</td>\n",
       "      <td>565.000000</td>\n",
       "      <td>565.000000</td>\n",
       "      <td>565.000000</td>\n",
       "    </tr>\n",
       "    <tr>\n",
       "      <th>mean</th>\n",
       "      <td>2002.408850</td>\n",
       "      <td>0.278196</td>\n",
       "      <td>0.062323</td>\n",
       "      <td>3.851327</td>\n",
       "      <td>3.935398</td>\n",
       "    </tr>\n",
       "    <tr>\n",
       "      <th>std</th>\n",
       "      <td>8.515584</td>\n",
       "      <td>0.253772</td>\n",
       "      <td>0.039855</td>\n",
       "      <td>0.561014</td>\n",
       "      <td>0.697503</td>\n",
       "    </tr>\n",
       "    <tr>\n",
       "      <th>min</th>\n",
       "      <td>1989.000000</td>\n",
       "      <td>0.028000</td>\n",
       "      <td>0.000000</td>\n",
       "      <td>0.000000</td>\n",
       "      <td>2.000000</td>\n",
       "    </tr>\n",
       "    <tr>\n",
       "      <th>25%</th>\n",
       "      <td>1995.000000</td>\n",
       "      <td>0.104000</td>\n",
       "      <td>0.036100</td>\n",
       "      <td>4.000000</td>\n",
       "      <td>3.500000</td>\n",
       "    </tr>\n",
       "    <tr>\n",
       "      <th>50%</th>\n",
       "      <td>2002.000000</td>\n",
       "      <td>0.170000</td>\n",
       "      <td>0.050100</td>\n",
       "      <td>4.000000</td>\n",
       "      <td>4.000000</td>\n",
       "    </tr>\n",
       "    <tr>\n",
       "      <th>75%</th>\n",
       "      <td>2009.000000</td>\n",
       "      <td>0.355000</td>\n",
       "      <td>0.074600</td>\n",
       "      <td>4.000000</td>\n",
       "      <td>4.500000</td>\n",
       "    </tr>\n",
       "    <tr>\n",
       "      <th>max</th>\n",
       "      <td>2020.000000</td>\n",
       "      <td>0.993000</td>\n",
       "      <td>0.356000</td>\n",
       "      <td>5.000000</td>\n",
       "      <td>5.000000</td>\n",
       "    </tr>\n",
       "  </tbody>\n",
       "</table>\n",
       "</div>"
      ],
      "text/plain": [
       "       release_year    liveness  speechiness  time_signature  album_rating\n",
       "count    565.000000  565.000000   565.000000      565.000000    565.000000\n",
       "mean    2002.408850    0.278196     0.062323        3.851327      3.935398\n",
       "std        8.515584    0.253772     0.039855        0.561014      0.697503\n",
       "min     1989.000000    0.028000     0.000000        0.000000      2.000000\n",
       "25%     1995.000000    0.104000     0.036100        4.000000      3.500000\n",
       "50%     2002.000000    0.170000     0.050100        4.000000      4.000000\n",
       "75%     2009.000000    0.355000     0.074600        4.000000      4.500000\n",
       "max     2020.000000    0.993000     0.356000        5.000000      5.000000"
      ]
     },
     "execution_count": 12,
     "metadata": {},
     "output_type": "execute_result"
    }
   ],
   "source": [
    "X_train.describe()"
   ]
  },
  {
   "cell_type": "code",
   "execution_count": 13,
   "id": "52706126",
   "metadata": {
    "execution": {
     "iopub.execute_input": "2024-08-31T18:13:57.196086Z",
     "iopub.status.busy": "2024-08-31T18:13:57.195736Z",
     "iopub.status.idle": "2024-08-31T18:13:57.206910Z",
     "shell.execute_reply": "2024-08-31T18:13:57.205529Z"
    },
    "papermill": {
     "duration": 0.022648,
     "end_time": "2024-08-31T18:13:57.209208",
     "exception": false,
     "start_time": "2024-08-31T18:13:57.186560",
     "status": "completed"
    },
    "tags": []
   },
   "outputs": [],
   "source": [
    "scaler = StandardScaler()\n",
    "\n",
    "X_train_scaled = scaler.fit_transform(X_train)\n",
    "X_test_scaled = scaler.transform(X_test)"
   ]
  },
  {
   "cell_type": "markdown",
   "id": "9cba8d24",
   "metadata": {
    "papermill": {
     "duration": 0.008003,
     "end_time": "2024-08-31T18:13:57.225596",
     "exception": false,
     "start_time": "2024-08-31T18:13:57.217593",
     "status": "completed"
    },
    "tags": []
   },
   "source": [
    "### Training Base Model\n",
    "* K is set to **3**"
   ]
  },
  {
   "cell_type": "code",
   "execution_count": 14,
   "id": "3a3d33ef",
   "metadata": {
    "execution": {
     "iopub.execute_input": "2024-08-31T18:13:57.243481Z",
     "iopub.status.busy": "2024-08-31T18:13:57.243107Z",
     "iopub.status.idle": "2024-08-31T18:13:57.262051Z",
     "shell.execute_reply": "2024-08-31T18:13:57.260997Z"
    },
    "papermill": {
     "duration": 0.030779,
     "end_time": "2024-08-31T18:13:57.264436",
     "exception": false,
     "start_time": "2024-08-31T18:13:57.233657",
     "status": "completed"
    },
    "tags": []
   },
   "outputs": [
    {
     "name": "stdout",
     "output_type": "stream",
     "text": [
      "Testing accuracy:\t84.51%\n",
      "\n",
      "Testing precision:\t93.55%\n",
      "\n",
      "Testing recall:\t\t89.23%\n",
      "\n",
      "Testing f1 score:\t91.34%\n",
      "\n"
     ]
    }
   ],
   "source": [
    "knn = KNeighborsClassifier(n_neighbors=3, weights='distance')\n",
    "knn.fit(X_train_scaled, y_train)\n",
    "y_pred = knn.predict(X_test_scaled)\n",
    "\n",
    "print(f'Testing accuracy:\\t{accuracy_score(y_test, y_pred)*100:.4}%\\n')\n",
    "\n",
    "print(f\"Testing precision:\\t{precision_score(y_test, y_pred, pos_label='no')*100:.4}%\\n\")\n",
    "\n",
    "print(f\"Testing recall:\\t\\t{recall_score(y_test, y_pred, pos_label='no')*100:.4}%\\n\")\n",
    "\n",
    "print(f\"Testing f1 score:\\t{f1_score(y_test, y_pred, pos_label='no')*100:.4}%\\n\")"
   ]
  },
  {
   "cell_type": "code",
   "execution_count": 15,
   "id": "2fd57759",
   "metadata": {
    "execution": {
     "iopub.execute_input": "2024-08-31T18:13:57.282730Z",
     "iopub.status.busy": "2024-08-31T18:13:57.282081Z",
     "iopub.status.idle": "2024-08-31T18:13:57.781723Z",
     "shell.execute_reply": "2024-08-31T18:13:57.780633Z"
    },
    "papermill": {
     "duration": 0.511259,
     "end_time": "2024-08-31T18:13:57.784007",
     "exception": false,
     "start_time": "2024-08-31T18:13:57.272748",
     "status": "completed"
    },
    "tags": []
   },
   "outputs": [
    {
     "data": {
      "image/png": "[encoded data removed]",
      "text/plain": [
       "<Figure size 500x400 with 2 Axes>"
      ]
     },
     "metadata": {},
     "output_type": "display_data"
    }
   ],
   "source": [
    "print_save_confusion_matrix(y_test, y_pred, suffix='base')"
   ]
  },
  {
   "cell_type": "markdown",
   "id": "3c6f2331",
   "metadata": {
    "papermill": {
     "duration": 0.008329,
     "end_time": "2024-08-31T18:13:57.800906",
     "exception": false,
     "start_time": "2024-08-31T18:13:57.792577",
     "status": "completed"
    },
    "tags": []
   },
   "source": [
    "# 3. Hyperparameter Optimization"
   ]
  },
  {
   "cell_type": "markdown",
   "id": "190e5a5a",
   "metadata": {
    "papermill": {
     "duration": 0.00824,
     "end_time": "2024-08-31T18:13:57.817563",
     "exception": false,
     "start_time": "2024-08-31T18:13:57.809323",
     "status": "completed"
    },
    "tags": []
   },
   "source": [
    "### Plotting Value of K VS. Validation Scores"
   ]
  },
  {
   "cell_type": "markdown",
   "id": "c0898d24",
   "metadata": {
    "papermill": {
     "duration": 0.008129,
     "end_time": "2024-08-31T18:13:57.834115",
     "exception": false,
     "start_time": "2024-08-31T18:13:57.825986",
     "status": "completed"
    },
    "tags": []
   },
   "source": [
    "* K is set to values between **1** and **30**"
   ]
  },
  {
   "cell_type": "code",
   "execution_count": 16,
   "id": "21007df3",
   "metadata": {
    "execution": {
     "iopub.execute_input": "2024-08-31T18:13:57.852791Z",
     "iopub.status.busy": "2024-08-31T18:13:57.852056Z",
     "iopub.status.idle": "2024-08-31T18:14:02.288918Z",
     "shell.execute_reply": "2024-08-31T18:14:02.287901Z"
    },
    "papermill": {
     "duration": 4.449267,
     "end_time": "2024-08-31T18:14:02.291699",
     "exception": false,
     "start_time": "2024-08-31T18:13:57.842432",
     "status": "completed"
    },
    "tags": []
   },
   "outputs": [
    {
     "data": {
      "image/png": "[encoded data removed]",
      "text/plain": [
       "<Figure size 1000x400 with 1 Axes>"
      ]
     },
     "metadata": {},
     "output_type": "display_data"
    }
   ],
   "source": [
    "k_values = [i for i in range (1,31)]\n",
    "validation_scores_a = []\n",
    "validation_scores_p = []\n",
    "validation_scores_r = []\n",
    "validation_scores_f = []\n",
    "p = make_scorer(precision_score, pos_label='no')\n",
    "r = make_scorer(recall_score, pos_label='no')\n",
    "f = make_scorer(f1_score, pos_label='no')\n",
    "\n",
    "for k in k_values:\n",
    "    knn = KNeighborsClassifier(n_neighbors=k,  weights='distance')\n",
    "    knn.fit(X_train_scaled, y_train)\n",
    "    y_pred = knn.predict(X_test_scaled)\n",
    "    \n",
    "    validation_score_a = cross_val_score(knn, X_train_scaled, y_train, cv=5)\n",
    "    validation_scores_a.append(np.mean(validation_score_a))\n",
    "    \n",
    "    validation_score_p = cross_val_score(knn, X_train_scaled, y_train, cv=5, scoring=p)\n",
    "    validation_scores_p.append(np.mean(validation_score_p))\n",
    "    \n",
    "    validation_score_r = cross_val_score(knn, X_train_scaled, y_train, cv=5, scoring=r)\n",
    "    validation_scores_r.append(np.mean(validation_score_r))\n",
    "    \n",
    "    validation_score_f = cross_val_score(knn, X_train_scaled, y_train, cv=5, scoring=f)\n",
    "    validation_scores_f.append(np.mean(validation_score_f))\n",
    "\n",
    "fig = plt.figure(figsize=(10,4))\n",
    "plt.style.use('seaborn-v0_8-muted')\n",
    "plt.plot(k_values,validation_scores_a, label='Accuracy')\n",
    "plt.plot(k_values,validation_scores_p, label='Precision')\n",
    "plt.plot(k_values,validation_scores_r, label='Recall')\n",
    "plt.plot(k_values,validation_scores_f, label='F1 Score')\n",
    "plt.title('Mean Validation Scores of Different k Values\\n')\n",
    "plt.xticks(ticks=range(0,31))\n",
    "plt.xlabel(\"K Values\")\n",
    "plt.ylabel(\"Mean Validation Scores\")\n",
    "plt.grid(axis='x')\n",
    "plt.legend()\n",
    "plt.savefig('/kaggle/working/Mean Validation Scores VS. k Values.png', dpi=300, bbox_inches='tight')\n",
    "plt.show()"
   ]
  },
  {
   "cell_type": "markdown",
   "id": "dc7a9507",
   "metadata": {
    "papermill": {
     "duration": 0.009172,
     "end_time": "2024-08-31T18:14:02.310252",
     "exception": false,
     "start_time": "2024-08-31T18:14:02.301080",
     "status": "completed"
    },
    "tags": []
   },
   "source": [
    "### Scores Table View\n",
    "* Each cell contains a tuple (k, score)"
   ]
  },
  {
   "cell_type": "code",
   "execution_count": 17,
   "id": "fa93432a",
   "metadata": {
    "execution": {
     "iopub.execute_input": "2024-08-31T18:14:02.330466Z",
     "iopub.status.busy": "2024-08-31T18:14:02.329801Z",
     "iopub.status.idle": "2024-08-31T18:14:02.352634Z",
     "shell.execute_reply": "2024-08-31T18:14:02.351755Z"
    },
    "papermill": {
     "duration": 0.035315,
     "end_time": "2024-08-31T18:14:02.354797",
     "exception": false,
     "start_time": "2024-08-31T18:14:02.319482",
     "status": "completed"
    },
    "tags": []
   },
   "outputs": [
    {
     "data": {
      "text/html": [
       "<div>\n",
       "<style scoped>\n",
       "    .dataframe tbody tr th:only-of-type {\n",
       "        vertical-align: middle;\n",
       "    }\n",
       "\n",
       "    .dataframe tbody tr th {\n",
       "        vertical-align: top;\n",
       "    }\n",
       "\n",
       "    .dataframe thead th {\n",
       "        text-align: right;\n",
       "    }\n",
       "</style>\n",
       "<table border=\"1\" class=\"dataframe\">\n",
       "  <thead>\n",
       "    <tr style=\"text-align: right;\">\n",
       "      <th></th>\n",
       "      <th>Accuracy</th>\n",
       "      <th>Precision</th>\n",
       "      <th>Recall</th>\n",
       "      <th>F1 Scores</th>\n",
       "    </tr>\n",
       "  </thead>\n",
       "  <tbody>\n",
       "    <tr>\n",
       "      <th>0</th>\n",
       "      <td>(12, 0.9132743362831859)</td>\n",
       "      <td>(1, 0.9263400055866894)</td>\n",
       "      <td>(17, 1.0)</td>\n",
       "      <td>(12, 0.9543475148912425)</td>\n",
       "    </tr>\n",
       "    <tr>\n",
       "      <th>1</th>\n",
       "      <td>(30, 0.9097345132743362)</td>\n",
       "      <td>(2, 0.9263400055866894)</td>\n",
       "      <td>(19, 1.0)</td>\n",
       "      <td>(17, 0.9527304048234282)</td>\n",
       "    </tr>\n",
       "    <tr>\n",
       "      <th>2</th>\n",
       "      <td>(22, 0.9097345132743362)</td>\n",
       "      <td>(4, 0.9201449395721639)</td>\n",
       "      <td>(20, 1.0)</td>\n",
       "      <td>(19, 0.9527304048234282)</td>\n",
       "    </tr>\n",
       "    <tr>\n",
       "      <th>3</th>\n",
       "      <td>(19, 0.9097345132743362)</td>\n",
       "      <td>(3, 0.9175777130952827)</td>\n",
       "      <td>(21, 1.0)</td>\n",
       "      <td>(20, 0.9527304048234282)</td>\n",
       "    </tr>\n",
       "    <tr>\n",
       "      <th>4</th>\n",
       "      <td>(20, 0.9097345132743362)</td>\n",
       "      <td>(5, 0.9168747523290811)</td>\n",
       "      <td>(22, 1.0)</td>\n",
       "      <td>(21, 0.9527304048234282)</td>\n",
       "    </tr>\n",
       "  </tbody>\n",
       "</table>\n",
       "</div>"
      ],
      "text/plain": [
       "                   Accuracy                Precision     Recall  \\\n",
       "0  (12, 0.9132743362831859)  (1, 0.9263400055866894)  (17, 1.0)   \n",
       "1  (30, 0.9097345132743362)  (2, 0.9263400055866894)  (19, 1.0)   \n",
       "2  (22, 0.9097345132743362)  (4, 0.9201449395721639)  (20, 1.0)   \n",
       "3  (19, 0.9097345132743362)  (3, 0.9175777130952827)  (21, 1.0)   \n",
       "4  (20, 0.9097345132743362)  (5, 0.9168747523290811)  (22, 1.0)   \n",
       "\n",
       "                  F1 Scores  \n",
       "0  (12, 0.9543475148912425)  \n",
       "1  (17, 0.9527304048234282)  \n",
       "2  (19, 0.9527304048234282)  \n",
       "3  (20, 0.9527304048234282)  \n",
       "4  (21, 0.9527304048234282)  "
      ]
     },
     "execution_count": 17,
     "metadata": {},
     "output_type": "execute_result"
    }
   ],
   "source": [
    "scores = pd.DataFrame({'Accuracy' : [(i, validation_scores_a[i-1]) for i in range(1,31)]}).sort_values(by='Accuracy', ascending=False,key=lambda x: x.apply(lambda y:y[1])).reset_index(drop=True)\n",
    "scores['Precision'] = sorted([(i, validation_scores_p[i-1]) for i in range(1,31)], key=lambda x: x[1], reverse=True)\n",
    "scores['Recall'] = sorted([(i, validation_scores_r[i-1]) for i in range(1,31)], key=lambda x: x[1], reverse=True)\n",
    "scores['F1 Scores'] = sorted([(i, validation_scores_f[i-1]) for i in range(1,31)], key=lambda x: x[1], reverse=True)\n",
    "\n",
    "scores.head()"
   ]
  },
  {
   "cell_type": "markdown",
   "id": "dba1d92e",
   "metadata": {
    "papermill": {
     "duration": 0.009488,
     "end_time": "2024-08-31T18:14:02.374064",
     "exception": false,
     "start_time": "2024-08-31T18:14:02.364576",
     "status": "completed"
    },
    "tags": []
   },
   "source": [
    "### Training Optimized Model\n",
    "* K is set to **12**"
   ]
  },
  {
   "cell_type": "code",
   "execution_count": 18,
   "id": "3d0b872d",
   "metadata": {
    "execution": {
     "iopub.execute_input": "2024-08-31T18:14:02.395095Z",
     "iopub.status.busy": "2024-08-31T18:14:02.394410Z",
     "iopub.status.idle": "2024-08-31T18:14:02.413553Z",
     "shell.execute_reply": "2024-08-31T18:14:02.412372Z"
    },
    "papermill": {
     "duration": 0.031991,
     "end_time": "2024-08-31T18:14:02.415697",
     "exception": false,
     "start_time": "2024-08-31T18:14:02.383706",
     "status": "completed"
    },
    "tags": []
   },
   "outputs": [
    {
     "name": "stdout",
     "output_type": "stream",
     "text": [
      "Testing accuracy:\t88.73%\n",
      "\n",
      "Testing precision:\t92.54%\n",
      "\n",
      "Testing recall:\t\t95.38%\n",
      "\n",
      "Testing f1 score:\t93.94%\n",
      "\n"
     ]
    }
   ],
   "source": [
    "best_knn = KNeighborsClassifier(n_neighbors=12, weights='distance')\n",
    "best_knn.fit(X_train_scaled, y_train)\n",
    "\n",
    "y_pred_best_knn = best_knn.predict(X_test_scaled)\n",
    "\n",
    "print(f'Testing accuracy:\\t{accuracy_score(y_test, y_pred_best_knn)*100:.4}%\\n')\n",
    "\n",
    "print(f\"Testing precision:\\t{precision_score(y_test, y_pred_best_knn, pos_label='no')*100:.4}%\\n\")\n",
    "\n",
    "print(f\"Testing recall:\\t\\t{recall_score(y_test, y_pred_best_knn, pos_label='no')*100:.4}%\\n\")\n",
    "\n",
    "print(f\"Testing f1 score:\\t{f1_score(y_test, y_pred_best_knn, pos_label='no')*100:.4}%\\n\")"
   ]
  },
  {
   "cell_type": "code",
   "execution_count": 19,
   "id": "0b49ff28",
   "metadata": {
    "execution": {
     "iopub.execute_input": "2024-08-31T18:14:02.436797Z",
     "iopub.status.busy": "2024-08-31T18:14:02.436402Z",
     "iopub.status.idle": "2024-08-31T18:14:03.017299Z",
     "shell.execute_reply": "2024-08-31T18:14:03.016293Z"
    },
    "papermill": {
     "duration": 0.594019,
     "end_time": "2024-08-31T18:14:03.019532",
     "exception": false,
     "start_time": "2024-08-31T18:14:02.425513",
     "status": "completed"
    },
    "tags": []
   },
   "outputs": [
    {
     "data": {
      "image/png": "[encoded data removed]",
      "text/plain": [
       "<Figure size 500x400 with 2 Axes>"
      ]
     },
     "metadata": {},
     "output_type": "display_data"
    }
   ],
   "source": [
    "print_save_confusion_matrix(y_test, y_pred, suffix='tuned')"
   ]
  },
  {
   "cell_type": "code",
   "execution_count": null,
   "id": "92adf892",
   "metadata": {
    "papermill": {
     "duration": 0.009672,
     "end_time": "2024-08-31T18:14:03.039203",
     "exception": false,
     "start_time": "2024-08-31T18:14:03.029531",
     "status": "completed"
    },
    "tags": []
   },
   "outputs": [],
   "source": []
  }
 ],
 "metadata": {
  "kaggle": {
   "accelerator": "none",
   "dataSources": [
    {
     "datasetId": 3958764,
     "sourceId": 9127042,
     "sourceType": "datasetVersion"
    }
   ],
   "dockerImageVersionId": 30746,
   "isGpuEnabled": false,
   "isInternetEnabled": true,
   "language": "python",
   "sourceType": "notebook"
  },
  "kernelspec": {
   "display_name": "Python 3",
   "language": "python",
   "name": "python3"
  },
  "language_info": {
   "codemirror_mode": {
    "name": "ipython",
    "version": 3
   },
   "file_extension": ".py",
   "mimetype": "text/x-python",
   "name": "python",
   "nbconvert_exporter": "python",
   "pygments_lexer": "ipython3",
   "version": "3.10.13"
  },
  "papermill": {
   "default_parameters": {},
   "duration": 12.232421,
   "end_time": "2024-08-31T18:14:03.568662",
   "environment_variables": {},
   "exception": null,
   "input_path": "__notebook__.ipynb",
   "output_path": "__notebook__.ipynb",
   "parameters": {},
   "start_time": "2024-08-31T18:13:51.336241",
   "version": "2.5.0"
  }
 },
 "nbformat": 4,
 "nbformat_minor": 5
}
