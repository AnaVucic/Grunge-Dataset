{
 "cells": [
  {
   "cell_type": "code",
   "execution_count": 1,
   "id": "d736e3c1",
   "metadata": {
    "execution": {
     "iopub.execute_input": "2024-08-31T17:52:08.784680Z",
     "iopub.status.busy": "2024-08-31T17:52:08.784217Z",
     "iopub.status.idle": "2024-08-31T17:52:12.071436Z",
     "shell.execute_reply": "2024-08-31T17:52:12.070204Z"
    },
    "papermill": {
     "duration": 3.302525,
     "end_time": "2024-08-31T17:52:12.074440",
     "exception": false,
     "start_time": "2024-08-31T17:52:08.771915",
     "status": "completed"
    },
    "tags": []
   },
   "outputs": [],
   "source": [
    "import pandas as pd\n",
    "import numpy as np\n",
    "import seaborn as sns\n",
    "import matplotlib.pyplot as plt\n",
    "import warnings\n",
    "import os\n",
    "\n",
    "from sklearn.preprocessing import StandardScaler\n",
    "from sklearn.linear_model import LogisticRegression\n",
    "from sklearn.metrics import accuracy_score, precision_score, recall_score, confusion_matrix\n",
    "from sklearn.model_selection import GridSearchCV\n",
    "from statsmodels.stats.outliers_influence import variance_inflation_factor\n",
    "from statsmodels.tools.tools import add_constant\n",
    "\n",
    "warnings.filterwarnings(\"ignore\")\n",
    "pd.options.display.max_rows = 750\n",
    "pd.options.display.max_columns = 100\n",
    "\n",
    "df = pd.read_csv(\"../input/grunge-bands-dataset/grunge.csv\")"
   ]
  },
  {
   "cell_type": "markdown",
   "id": "3fdf630e",
   "metadata": {
    "papermill": {
     "duration": 0.009808,
     "end_time": "2024-08-31T17:52:12.094810",
     "exception": false,
     "start_time": "2024-08-31T17:52:12.085002",
     "status": "completed"
    },
    "tags": []
   },
   "source": [
    "### Function for Printing and Saving\n",
    "* Confusion Matrix"
   ]
  },
  {
   "cell_type": "code",
   "execution_count": 2,
   "id": "e197bd3a",
   "metadata": {
    "execution": {
     "iopub.execute_input": "2024-08-31T17:52:12.118290Z",
     "iopub.status.busy": "2024-08-31T17:52:12.117051Z",
     "iopub.status.idle": "2024-08-31T17:52:12.127446Z",
     "shell.execute_reply": "2024-08-31T17:52:12.126311Z"
    },
    "papermill": {
     "duration": 0.024956,
     "end_time": "2024-08-31T17:52:12.130094",
     "exception": false,
     "start_time": "2024-08-31T17:52:12.105138",
     "status": "completed"
    },
    "tags": []
   },
   "outputs": [],
   "source": [
    "def print_save_confusion_matrix(test, pred, suffix=''):\n",
    "\n",
    "    cnf_matrix = confusion_matrix(test, pred, labels=['no', 'yes'])\n",
    "\n",
    "    fig, axe = plt.subplots(figsize=(5,4))\n",
    "    ax =sns.heatmap(\n",
    "        pd.DataFrame(cnf_matrix), \n",
    "        annot=True, \n",
    "        cmap=sns.light_palette(\"#459e97\", as_cmap=True),\n",
    "        fmt='g',)\n",
    "    plt.title('Confusion Matrix of '+suffix.title()+' Model', y=1.1)\n",
    "    ax.set_xticklabels(['no', 'yes'])\n",
    "    ax.set_yticklabels(['no', 'yes'])\n",
    "    axe.tick_params(top=True, labeltop=True)\n",
    "    plt.ylabel('Actual charting')\n",
    "    plt.xlabel('Predicted charting')\n",
    "    plt.savefig('/kaggle/working/Confusion Matrix ['+suffix.lower()+'].png', dpi=300, bbox_inches='tight')\n",
    "    plt.show()"
   ]
  },
  {
   "cell_type": "markdown",
   "id": "05233501",
   "metadata": {
    "papermill": {
     "duration": 0.009647,
     "end_time": "2024-08-31T17:52:12.149969",
     "exception": false,
     "start_time": "2024-08-31T17:52:12.140322",
     "status": "completed"
    },
    "tags": []
   },
   "source": [
    "# 1. Preprocessing"
   ]
  },
  {
   "cell_type": "markdown",
   "id": "f420f80f",
   "metadata": {
    "papermill": {
     "duration": 0.009681,
     "end_time": "2024-08-31T17:52:12.169844",
     "exception": false,
     "start_time": "2024-08-31T17:52:12.160163",
     "status": "completed"
    },
    "tags": []
   },
   "source": [
    "### Creating the target variable `on_chart`\n",
    "For songs that have not reached any postition on Billboard top lists, column `on_chart` will be an empty string.<br>\n",
    "Otherwise, column will contain concatenated strings from all Billboard top lists."
   ]
  },
  {
   "cell_type": "code",
   "execution_count": 3,
   "id": "f243878b",
   "metadata": {
    "execution": {
     "iopub.execute_input": "2024-08-31T17:52:12.192038Z",
     "iopub.status.busy": "2024-08-31T17:52:12.191603Z",
     "iopub.status.idle": "2024-08-31T17:52:12.255120Z",
     "shell.execute_reply": "2024-08-31T17:52:12.253496Z"
    },
    "papermill": {
     "duration": 0.077847,
     "end_time": "2024-08-31T17:52:12.257880",
     "exception": false,
     "start_time": "2024-08-31T17:52:12.180033",
     "status": "completed"
    },
    "tags": []
   },
   "outputs": [
    {
     "name": "stdout",
     "output_type": "stream",
     "text": [
      "on_chart\n",
      "no     644\n",
      "yes     63\n",
      "Name: count, dtype: int64\n",
      "on_chart\n",
      "no     0.910891\n",
      "yes    0.089109\n",
      "Name: proportion, dtype: float64\n"
     ]
    }
   ],
   "source": [
    "df['on_chart'] = df.iloc[:,33:].replace(np.nan, '').astype(str).apply(''.join, axis=1).str.strip()\n",
    "\n",
    "# If column `on_chart` contains empty string - label `no`\n",
    "# Otherwise - label `yes`\n",
    "df['on_chart'] = ['yes'  if x != '' else 'no' for x in df['on_chart']]\n",
    "\n",
    "# # Removing all Billboard top lists columns.\n",
    "df.drop(df.columns[33:97], axis=1, inplace=True)\n",
    "\n",
    "print(df['on_chart'].value_counts())\n",
    "print(df['on_chart'].value_counts(normalize=True))"
   ]
  },
  {
   "cell_type": "markdown",
   "id": "332966da",
   "metadata": {
    "papermill": {
     "duration": 0.00983,
     "end_time": "2024-08-31T17:52:12.278019",
     "exception": false,
     "start_time": "2024-08-31T17:52:12.268189",
     "status": "completed"
    },
    "tags": []
   },
   "source": [
    "### Creating new index as `track_name` + `album_name`"
   ]
  },
  {
   "cell_type": "code",
   "execution_count": 4,
   "id": "7e1a0bea",
   "metadata": {
    "execution": {
     "iopub.execute_input": "2024-08-31T17:52:12.301962Z",
     "iopub.status.busy": "2024-08-31T17:52:12.301578Z",
     "iopub.status.idle": "2024-08-31T17:52:12.322795Z",
     "shell.execute_reply": "2024-08-31T17:52:12.321704Z"
    },
    "papermill": {
     "duration": 0.035934,
     "end_time": "2024-08-31T17:52:12.325576",
     "exception": false,
     "start_time": "2024-08-31T17:52:12.289642",
     "status": "completed"
    },
    "tags": []
   },
   "outputs": [
    {
     "name": "stdout",
     "output_type": "stream",
     "text": [
      "# Observations: 707\n",
      "# Unique id: 707\n"
     ]
    }
   ],
   "source": [
    "df['id'] = df.iloc[:,[0,1]].apply(', '.join, axis=1)\n",
    "print(f\"# Observations: {df.shape[0]}\")\n",
    "print(f\"# Unique id: {len(df['id'].unique())}\")\n",
    "df.drop(['track_name','album_name'], axis=1, inplace=True)\n",
    "df.set_index('id', inplace=True)"
   ]
  },
  {
   "cell_type": "code",
   "execution_count": 5,
   "id": "f83846fe",
   "metadata": {
    "execution": {
     "iopub.execute_input": "2024-08-31T17:52:12.348432Z",
     "iopub.status.busy": "2024-08-31T17:52:12.347989Z",
     "iopub.status.idle": "2024-08-31T17:52:12.384550Z",
     "shell.execute_reply": "2024-08-31T17:52:12.383109Z"
    },
    "papermill": {
     "duration": 0.051261,
     "end_time": "2024-08-31T17:52:12.387154",
     "exception": false,
     "start_time": "2024-08-31T17:52:12.335893",
     "status": "completed"
    },
    "tags": []
   },
   "outputs": [
    {
     "data": {
      "text/html": [
       "<div>\n",
       "<style scoped>\n",
       "    .dataframe tbody tr th:only-of-type {\n",
       "        vertical-align: middle;\n",
       "    }\n",
       "\n",
       "    .dataframe tbody tr th {\n",
       "        vertical-align: top;\n",
       "    }\n",
       "\n",
       "    .dataframe thead th {\n",
       "        text-align: right;\n",
       "    }\n",
       "</style>\n",
       "<table border=\"1\" class=\"dataframe\">\n",
       "  <thead>\n",
       "    <tr style=\"text-align: right;\">\n",
       "      <th></th>\n",
       "      <th>album_type</th>\n",
       "      <th>duration</th>\n",
       "      <th>release_year</th>\n",
       "      <th>artists</th>\n",
       "      <th>acousticness</th>\n",
       "      <th>danceability</th>\n",
       "      <th>energy</th>\n",
       "      <th>instrumentalness</th>\n",
       "      <th>key</th>\n",
       "      <th>liveness</th>\n",
       "      <th>loudness</th>\n",
       "      <th>mode</th>\n",
       "      <th>speechiness</th>\n",
       "      <th>tempo</th>\n",
       "      <th>time_signature</th>\n",
       "      <th>valence</th>\n",
       "      <th>producers</th>\n",
       "      <th>writers</th>\n",
       "      <th>track_composers</th>\n",
       "      <th>track_genres</th>\n",
       "      <th>track_styles</th>\n",
       "      <th>track_moods</th>\n",
       "      <th>track_themes</th>\n",
       "      <th>album_duration</th>\n",
       "      <th>album_genres</th>\n",
       "      <th>album_styles</th>\n",
       "      <th>album_recording_date</th>\n",
       "      <th>album_recording_location</th>\n",
       "      <th>album_moods</th>\n",
       "      <th>album_themes</th>\n",
       "      <th>album_rating</th>\n",
       "      <th>on_chart</th>\n",
       "    </tr>\n",
       "    <tr>\n",
       "      <th>id</th>\n",
       "      <th></th>\n",
       "      <th></th>\n",
       "      <th></th>\n",
       "      <th></th>\n",
       "      <th></th>\n",
       "      <th></th>\n",
       "      <th></th>\n",
       "      <th></th>\n",
       "      <th></th>\n",
       "      <th></th>\n",
       "      <th></th>\n",
       "      <th></th>\n",
       "      <th></th>\n",
       "      <th></th>\n",
       "      <th></th>\n",
       "      <th></th>\n",
       "      <th></th>\n",
       "      <th></th>\n",
       "      <th></th>\n",
       "      <th></th>\n",
       "      <th></th>\n",
       "      <th></th>\n",
       "      <th></th>\n",
       "      <th></th>\n",
       "      <th></th>\n",
       "      <th></th>\n",
       "      <th></th>\n",
       "      <th></th>\n",
       "      <th></th>\n",
       "      <th></th>\n",
       "      <th></th>\n",
       "      <th></th>\n",
       "    </tr>\n",
       "  </thead>\n",
       "  <tbody>\n",
       "    <tr>\n",
       "      <th>Endless, Nameless, Live At The Paramount</th>\n",
       "      <td>live album</td>\n",
       "      <td>384</td>\n",
       "      <td>2011</td>\n",
       "      <td>Nirvana</td>\n",
       "      <td>0.000097</td>\n",
       "      <td>0.331</td>\n",
       "      <td>0.936</td>\n",
       "      <td>0.694</td>\n",
       "      <td>9</td>\n",
       "      <td>0.638</td>\n",
       "      <td>-6.774</td>\n",
       "      <td>0</td>\n",
       "      <td>0.193</td>\n",
       "      <td>135.702</td>\n",
       "      <td>4</td>\n",
       "      <td>0.332</td>\n",
       "      <td>NaN</td>\n",
       "      <td>NaN</td>\n",
       "      <td>Kurt Cobain, Dave Grohl, Krist Novoselic</td>\n",
       "      <td>Pop/Rock</td>\n",
       "      <td>Alternative Pop/Rock, Alternative/Indie Rock, ...</td>\n",
       "      <td>Aggressive, Angst-Ridden, Cathartic, Fiery, In...</td>\n",
       "      <td>Cool &amp; Cocky, Guys Night Out, Late Night</td>\n",
       "      <td>01:06:37</td>\n",
       "      <td>Pop/Rock</td>\n",
       "      <td>Alternative/Indie Rock, Grunge, Indie Rock</td>\n",
       "      <td>NaN</td>\n",
       "      <td>NaN</td>\n",
       "      <td>Aggressive, Cathartic, Fiery, Intense, Rebelli...</td>\n",
       "      <td>Empowerment, Revolution, Feeling Blue, Freedom...</td>\n",
       "      <td>4.0</td>\n",
       "      <td>no</td>\n",
       "    </tr>\n",
       "  </tbody>\n",
       "</table>\n",
       "</div>"
      ],
      "text/plain": [
       "                                          album_type  duration  release_year  \\\n",
       "id                                                                             \n",
       "Endless, Nameless, Live At The Paramount  live album       384          2011   \n",
       "\n",
       "                                          artists  acousticness  danceability  \\\n",
       "id                                                                              \n",
       "Endless, Nameless, Live At The Paramount  Nirvana      0.000097         0.331   \n",
       "\n",
       "                                          energy  instrumentalness  key  \\\n",
       "id                                                                        \n",
       "Endless, Nameless, Live At The Paramount   0.936             0.694    9   \n",
       "\n",
       "                                          liveness  loudness  mode  \\\n",
       "id                                                                   \n",
       "Endless, Nameless, Live At The Paramount     0.638    -6.774     0   \n",
       "\n",
       "                                          speechiness    tempo  \\\n",
       "id                                                               \n",
       "Endless, Nameless, Live At The Paramount        0.193  135.702   \n",
       "\n",
       "                                          time_signature  valence producers  \\\n",
       "id                                                                            \n",
       "Endless, Nameless, Live At The Paramount               4    0.332       NaN   \n",
       "\n",
       "                                         writers  \\\n",
       "id                                                 \n",
       "Endless, Nameless, Live At The Paramount     NaN   \n",
       "\n",
       "                                                                   track_composers  \\\n",
       "id                                                                                   \n",
       "Endless, Nameless, Live At The Paramount  Kurt Cobain, Dave Grohl, Krist Novoselic   \n",
       "\n",
       "                                         track_genres  \\\n",
       "id                                                      \n",
       "Endless, Nameless, Live At The Paramount     Pop/Rock   \n",
       "\n",
       "                                                                               track_styles  \\\n",
       "id                                                                                            \n",
       "Endless, Nameless, Live At The Paramount  Alternative Pop/Rock, Alternative/Indie Rock, ...   \n",
       "\n",
       "                                                                                track_moods  \\\n",
       "id                                                                                            \n",
       "Endless, Nameless, Live At The Paramount  Aggressive, Angst-Ridden, Cathartic, Fiery, In...   \n",
       "\n",
       "                                                                      track_themes  \\\n",
       "id                                                                                   \n",
       "Endless, Nameless, Live At The Paramount  Cool & Cocky, Guys Night Out, Late Night   \n",
       "\n",
       "                                         album_duration album_genres  \\\n",
       "id                                                                     \n",
       "Endless, Nameless, Live At The Paramount       01:06:37     Pop/Rock   \n",
       "\n",
       "                                                                        album_styles  \\\n",
       "id                                                                                     \n",
       "Endless, Nameless, Live At The Paramount  Alternative/Indie Rock, Grunge, Indie Rock   \n",
       "\n",
       "                                         album_recording_date  \\\n",
       "id                                                              \n",
       "Endless, Nameless, Live At The Paramount                  NaN   \n",
       "\n",
       "                                         album_recording_location  \\\n",
       "id                                                                  \n",
       "Endless, Nameless, Live At The Paramount                      NaN   \n",
       "\n",
       "                                                                                album_moods  \\\n",
       "id                                                                                            \n",
       "Endless, Nameless, Live At The Paramount  Aggressive, Cathartic, Fiery, Intense, Rebelli...   \n",
       "\n",
       "                                                                               album_themes  \\\n",
       "id                                                                                            \n",
       "Endless, Nameless, Live At The Paramount  Empowerment, Revolution, Feeling Blue, Freedom...   \n",
       "\n",
       "                                          album_rating on_chart  \n",
       "id                                                               \n",
       "Endless, Nameless, Live At The Paramount           4.0       no  "
      ]
     },
     "execution_count": 5,
     "metadata": {},
     "output_type": "execute_result"
    }
   ],
   "source": [
    "df.sample()"
   ]
  },
  {
   "cell_type": "markdown",
   "id": "85e6bce9",
   "metadata": {
    "papermill": {
     "duration": 0.010593,
     "end_time": "2024-08-31T17:52:12.408533",
     "exception": false,
     "start_time": "2024-08-31T17:52:12.397940",
     "status": "completed"
    },
    "tags": []
   },
   "source": [
    "### Isolating  numerical columns"
   ]
  },
  {
   "cell_type": "code",
   "execution_count": 6,
   "id": "554bba41",
   "metadata": {
    "execution": {
     "iopub.execute_input": "2024-08-31T17:52:12.432548Z",
     "iopub.status.busy": "2024-08-31T17:52:12.431679Z",
     "iopub.status.idle": "2024-08-31T17:52:12.459035Z",
     "shell.execute_reply": "2024-08-31T17:52:12.457873Z"
    },
    "papermill": {
     "duration": 0.042122,
     "end_time": "2024-08-31T17:52:12.461675",
     "exception": false,
     "start_time": "2024-08-31T17:52:12.419553",
     "status": "completed"
    },
    "tags": []
   },
   "outputs": [
    {
     "data": {
      "text/html": [
       "<div>\n",
       "<style scoped>\n",
       "    .dataframe tbody tr th:only-of-type {\n",
       "        vertical-align: middle;\n",
       "    }\n",
       "\n",
       "    .dataframe tbody tr th {\n",
       "        vertical-align: top;\n",
       "    }\n",
       "\n",
       "    .dataframe thead th {\n",
       "        text-align: right;\n",
       "    }\n",
       "</style>\n",
       "<table border=\"1\" class=\"dataframe\">\n",
       "  <thead>\n",
       "    <tr style=\"text-align: right;\">\n",
       "      <th></th>\n",
       "      <th>duration</th>\n",
       "      <th>release_year</th>\n",
       "      <th>acousticness</th>\n",
       "      <th>danceability</th>\n",
       "      <th>energy</th>\n",
       "      <th>instrumentalness</th>\n",
       "      <th>key</th>\n",
       "      <th>liveness</th>\n",
       "      <th>loudness</th>\n",
       "      <th>mode</th>\n",
       "      <th>speechiness</th>\n",
       "      <th>tempo</th>\n",
       "      <th>time_signature</th>\n",
       "      <th>valence</th>\n",
       "      <th>album_rating</th>\n",
       "      <th>on_chart</th>\n",
       "    </tr>\n",
       "    <tr>\n",
       "      <th>id</th>\n",
       "      <th></th>\n",
       "      <th></th>\n",
       "      <th></th>\n",
       "      <th></th>\n",
       "      <th></th>\n",
       "      <th></th>\n",
       "      <th></th>\n",
       "      <th></th>\n",
       "      <th></th>\n",
       "      <th></th>\n",
       "      <th></th>\n",
       "      <th></th>\n",
       "      <th></th>\n",
       "      <th></th>\n",
       "      <th></th>\n",
       "      <th></th>\n",
       "    </tr>\n",
       "  </thead>\n",
       "  <tbody>\n",
       "    <tr>\n",
       "      <th>Blew, Bleach</th>\n",
       "      <td>174</td>\n",
       "      <td>1989</td>\n",
       "      <td>0.000006</td>\n",
       "      <td>0.411</td>\n",
       "      <td>0.882</td>\n",
       "      <td>0.01470</td>\n",
       "      <td>1</td>\n",
       "      <td>0.2980</td>\n",
       "      <td>-6.618</td>\n",
       "      <td>1</td>\n",
       "      <td>0.0556</td>\n",
       "      <td>129.848</td>\n",
       "      <td>4</td>\n",
       "      <td>0.531</td>\n",
       "      <td>3.5</td>\n",
       "      <td>no</td>\n",
       "    </tr>\n",
       "    <tr>\n",
       "      <th>Floyd The Barber, Bleach</th>\n",
       "      <td>138</td>\n",
       "      <td>1989</td>\n",
       "      <td>0.000788</td>\n",
       "      <td>0.443</td>\n",
       "      <td>0.878</td>\n",
       "      <td>0.56000</td>\n",
       "      <td>8</td>\n",
       "      <td>0.0623</td>\n",
       "      <td>-6.717</td>\n",
       "      <td>0</td>\n",
       "      <td>0.0418</td>\n",
       "      <td>136.567</td>\n",
       "      <td>4</td>\n",
       "      <td>0.683</td>\n",
       "      <td>3.5</td>\n",
       "      <td>no</td>\n",
       "    </tr>\n",
       "    <tr>\n",
       "      <th>About A Girl, Bleach</th>\n",
       "      <td>168</td>\n",
       "      <td>1989</td>\n",
       "      <td>0.000005</td>\n",
       "      <td>0.413</td>\n",
       "      <td>0.875</td>\n",
       "      <td>0.00058</td>\n",
       "      <td>6</td>\n",
       "      <td>0.2090</td>\n",
       "      <td>-7.480</td>\n",
       "      <td>0</td>\n",
       "      <td>0.0310</td>\n",
       "      <td>131.951</td>\n",
       "      <td>4</td>\n",
       "      <td>0.575</td>\n",
       "      <td>3.5</td>\n",
       "      <td>yes</td>\n",
       "    </tr>\n",
       "    <tr>\n",
       "      <th>School, Bleach</th>\n",
       "      <td>162</td>\n",
       "      <td>1989</td>\n",
       "      <td>0.000012</td>\n",
       "      <td>0.210</td>\n",
       "      <td>0.943</td>\n",
       "      <td>0.49300</td>\n",
       "      <td>4</td>\n",
       "      <td>0.0739</td>\n",
       "      <td>-7.656</td>\n",
       "      <td>1</td>\n",
       "      <td>0.0785</td>\n",
       "      <td>164.844</td>\n",
       "      <td>4</td>\n",
       "      <td>0.130</td>\n",
       "      <td>3.5</td>\n",
       "      <td>no</td>\n",
       "    </tr>\n",
       "    <tr>\n",
       "      <th>Love Buzz, Bleach</th>\n",
       "      <td>215</td>\n",
       "      <td>1989</td>\n",
       "      <td>0.000031</td>\n",
       "      <td>0.479</td>\n",
       "      <td>0.865</td>\n",
       "      <td>0.22800</td>\n",
       "      <td>5</td>\n",
       "      <td>0.1820</td>\n",
       "      <td>-8.281</td>\n",
       "      <td>0</td>\n",
       "      <td>0.0339</td>\n",
       "      <td>137.902</td>\n",
       "      <td>4</td>\n",
       "      <td>0.770</td>\n",
       "      <td>3.5</td>\n",
       "      <td>no</td>\n",
       "    </tr>\n",
       "  </tbody>\n",
       "</table>\n",
       "</div>"
      ],
      "text/plain": [
       "                          duration  release_year  acousticness  danceability  \\\n",
       "id                                                                             \n",
       "Blew, Bleach                   174          1989      0.000006         0.411   \n",
       "Floyd The Barber, Bleach       138          1989      0.000788         0.443   \n",
       "About A Girl, Bleach           168          1989      0.000005         0.413   \n",
       "School, Bleach                 162          1989      0.000012         0.210   \n",
       "Love Buzz, Bleach              215          1989      0.000031         0.479   \n",
       "\n",
       "                          energy  instrumentalness  key  liveness  loudness  \\\n",
       "id                                                                            \n",
       "Blew, Bleach               0.882           0.01470    1    0.2980    -6.618   \n",
       "Floyd The Barber, Bleach   0.878           0.56000    8    0.0623    -6.717   \n",
       "About A Girl, Bleach       0.875           0.00058    6    0.2090    -7.480   \n",
       "School, Bleach             0.943           0.49300    4    0.0739    -7.656   \n",
       "Love Buzz, Bleach          0.865           0.22800    5    0.1820    -8.281   \n",
       "\n",
       "                          mode  speechiness    tempo  time_signature  valence  \\\n",
       "id                                                                              \n",
       "Blew, Bleach                 1       0.0556  129.848               4    0.531   \n",
       "Floyd The Barber, Bleach     0       0.0418  136.567               4    0.683   \n",
       "About A Girl, Bleach         0       0.0310  131.951               4    0.575   \n",
       "School, Bleach               1       0.0785  164.844               4    0.130   \n",
       "Love Buzz, Bleach            0       0.0339  137.902               4    0.770   \n",
       "\n",
       "                          album_rating on_chart  \n",
       "id                                               \n",
       "Blew, Bleach                       3.5       no  \n",
       "Floyd The Barber, Bleach           3.5       no  \n",
       "About A Girl, Bleach               3.5      yes  \n",
       "School, Bleach                     3.5       no  \n",
       "Love Buzz, Bleach                  3.5       no  "
      ]
     },
     "execution_count": 6,
     "metadata": {},
     "output_type": "execute_result"
    }
   ],
   "source": [
    "data = df\n",
    "data = data.iloc[:,np.r_[1:3,4:16,30:32]]\n",
    "data.head()"
   ]
  },
  {
   "cell_type": "markdown",
   "id": "0ce03e25",
   "metadata": {
    "papermill": {
     "duration": 0.010745,
     "end_time": "2024-08-31T17:52:12.483714",
     "exception": false,
     "start_time": "2024-08-31T17:52:12.472969",
     "status": "completed"
    },
    "tags": []
   },
   "source": [
    "### Detecting outliers"
   ]
  },
  {
   "cell_type": "code",
   "execution_count": 7,
   "id": "9575e61b",
   "metadata": {
    "execution": {
     "iopub.execute_input": "2024-08-31T17:52:12.508061Z",
     "iopub.status.busy": "2024-08-31T17:52:12.507536Z",
     "iopub.status.idle": "2024-08-31T17:52:14.786582Z",
     "shell.execute_reply": "2024-08-31T17:52:14.785246Z"
    },
    "papermill": {
     "duration": 2.294644,
     "end_time": "2024-08-31T17:52:14.789540",
     "exception": false,
     "start_time": "2024-08-31T17:52:12.494896",
     "status": "completed"
    },
    "tags": []
   },
   "outputs": [
    {
     "data": {
      "image/png": "[encoded data removed]",
      "text/plain": [
       "<Figure size 700x700 with 15 Axes>"
      ]
     },
     "metadata": {},
     "output_type": "display_data"
    }
   ],
   "source": [
    "fig, axs = plt.subplots(4, 4, figsize=(7, 7))\n",
    "axs = axs.flatten()\n",
    "for i, col in enumerate(data.drop(['on_chart'], axis=1).columns):\n",
    "    ax = axs[i]\n",
    "    \n",
    "    q1 = np.nanpercentile(data[col], 25.)\n",
    "    q3 = np.nanpercentile(data[col], 75.)\n",
    "    r = (q3 - q1) * 1.5\n",
    "    upper, lower = q3 + r, q1 - r\n",
    "    outliers_index = data[col][(data[col] < lower) | (data[col] > upper)].index.tolist()\n",
    "    outliers = data[col][(data[col] < lower) | (data[col] > upper)].values\n",
    "\n",
    "    ax = sns.boxplot(data[col], ax=ax, palette=sns.color_palette('husl'), linewidth=0.7)\n",
    "    title = col + f', {len(outliers)}'\n",
    "    ax.set_title(title, fontsize=10)\n",
    "    \n",
    "for i in range(len(data.columns)-1, len(axs)):\n",
    "    fig.delaxes(axs[i])\n",
    "    \n",
    "plt.tight_layout()\n",
    "plt.show()"
   ]
  },
  {
   "cell_type": "markdown",
   "id": "0e3270ff",
   "metadata": {
    "papermill": {
     "duration": 0.01203,
     "end_time": "2024-08-31T17:52:14.813868",
     "exception": false,
     "start_time": "2024-08-31T17:52:14.801838",
     "status": "completed"
    },
    "tags": []
   },
   "source": [
    "### Correlation Matrix"
   ]
  },
  {
   "cell_type": "code",
   "execution_count": 8,
   "id": "a8cd0899",
   "metadata": {
    "execution": {
     "iopub.execute_input": "2024-08-31T17:52:14.840156Z",
     "iopub.status.busy": "2024-08-31T17:52:14.839755Z",
     "iopub.status.idle": "2024-08-31T17:52:16.103203Z",
     "shell.execute_reply": "2024-08-31T17:52:16.101863Z"
    },
    "papermill": {
     "duration": 1.281219,
     "end_time": "2024-08-31T17:52:16.107429",
     "exception": false,
     "start_time": "2024-08-31T17:52:14.826210",
     "status": "completed"
    },
    "tags": []
   },
   "outputs": [
    {
     "data": {
      "image/png": "[encoded data removed]",
      "text/plain": [
       "<Figure size 900x700 with 2 Axes>"
      ]
     },
     "metadata": {},
     "output_type": "display_data"
    }
   ],
   "source": [
    "# Transform on_chart to numerical value\n",
    "data['on_chart'][data['on_chart'] == 'yes'] = 1\n",
    "data['on_chart'][data['on_chart'] == 'no'] = 0\n",
    "\n",
    "plt.figure(figsize=(9,7))\n",
    "ax = sns.heatmap (\n",
    "    data=data.corr(),\n",
    "    annot=True,\n",
    "    annot_kws={'size': 6},\n",
    "    fmt='.2f',\n",
    "    cmap=sns.diverging_palette(190, 355, s=90, l=65, sep=1, as_cmap=True),\n",
    "    linewidths=0.5,\n",
    "    center=0\n",
    ")\n",
    "plt.title('Correlation Matrix Heatmap\\n', fontsize=10)\n",
    "plt.show()"
   ]
  },
  {
   "cell_type": "code",
   "execution_count": 9,
   "id": "69161bbd",
   "metadata": {
    "execution": {
     "iopub.execute_input": "2024-08-31T17:52:16.140095Z",
     "iopub.status.busy": "2024-08-31T17:52:16.139692Z",
     "iopub.status.idle": "2024-08-31T17:52:16.157490Z",
     "shell.execute_reply": "2024-08-31T17:52:16.156308Z"
    },
    "papermill": {
     "duration": 0.036542,
     "end_time": "2024-08-31T17:52:16.160121",
     "exception": false,
     "start_time": "2024-08-31T17:52:16.123579",
     "status": "completed"
    },
    "tags": []
   },
   "outputs": [
    {
     "data": {
      "text/html": [
       "<div>\n",
       "<style scoped>\n",
       "    .dataframe tbody tr th:only-of-type {\n",
       "        vertical-align: middle;\n",
       "    }\n",
       "\n",
       "    .dataframe tbody tr th {\n",
       "        vertical-align: top;\n",
       "    }\n",
       "\n",
       "    .dataframe thead th {\n",
       "        text-align: right;\n",
       "    }\n",
       "</style>\n",
       "<table border=\"1\" class=\"dataframe\">\n",
       "  <thead>\n",
       "    <tr style=\"text-align: right;\">\n",
       "      <th></th>\n",
       "      <th>danceability</th>\n",
       "      <th>liveness</th>\n",
       "      <th>speechiness</th>\n",
       "      <th>on_chart</th>\n",
       "    </tr>\n",
       "    <tr>\n",
       "      <th>id</th>\n",
       "      <th></th>\n",
       "      <th></th>\n",
       "      <th></th>\n",
       "      <th></th>\n",
       "    </tr>\n",
       "  </thead>\n",
       "  <tbody>\n",
       "    <tr>\n",
       "      <th>Blew, Bleach</th>\n",
       "      <td>0.411</td>\n",
       "      <td>0.2980</td>\n",
       "      <td>0.0556</td>\n",
       "      <td>0</td>\n",
       "    </tr>\n",
       "    <tr>\n",
       "      <th>Floyd The Barber, Bleach</th>\n",
       "      <td>0.443</td>\n",
       "      <td>0.0623</td>\n",
       "      <td>0.0418</td>\n",
       "      <td>0</td>\n",
       "    </tr>\n",
       "    <tr>\n",
       "      <th>About A Girl, Bleach</th>\n",
       "      <td>0.413</td>\n",
       "      <td>0.2090</td>\n",
       "      <td>0.0310</td>\n",
       "      <td>1</td>\n",
       "    </tr>\n",
       "    <tr>\n",
       "      <th>School, Bleach</th>\n",
       "      <td>0.210</td>\n",
       "      <td>0.0739</td>\n",
       "      <td>0.0785</td>\n",
       "      <td>0</td>\n",
       "    </tr>\n",
       "    <tr>\n",
       "      <th>Love Buzz, Bleach</th>\n",
       "      <td>0.479</td>\n",
       "      <td>0.1820</td>\n",
       "      <td>0.0339</td>\n",
       "      <td>0</td>\n",
       "    </tr>\n",
       "  </tbody>\n",
       "</table>\n",
       "</div>"
      ],
      "text/plain": [
       "                          danceability  liveness  speechiness on_chart\n",
       "id                                                                    \n",
       "Blew, Bleach                     0.411    0.2980       0.0556        0\n",
       "Floyd The Barber, Bleach         0.443    0.0623       0.0418        0\n",
       "About A Girl, Bleach             0.413    0.2090       0.0310        1\n",
       "School, Bleach                   0.210    0.0739       0.0785        0\n",
       "Love Buzz, Bleach                0.479    0.1820       0.0339        0"
      ]
     },
     "execution_count": 9,
     "metadata": {},
     "output_type": "execute_result"
    }
   ],
   "source": [
    "# Selection of features with target correlation higher than 0.05\n",
    "\n",
    "corr_matrix = data.corr()\n",
    "cor_target = abs(corr_matrix['on_chart'])\n",
    "to_drop = cor_target[cor_target<0.1]\n",
    "data.drop(to_drop.index, axis=1, inplace=True)\n",
    "data.head()"
   ]
  },
  {
   "cell_type": "markdown",
   "id": "34dc4572",
   "metadata": {
    "papermill": {
     "duration": 0.014102,
     "end_time": "2024-08-31T17:52:16.188818",
     "exception": false,
     "start_time": "2024-08-31T17:52:16.174716",
     "status": "completed"
    },
    "tags": []
   },
   "source": [
    "### Computing the VIF"
   ]
  },
  {
   "cell_type": "code",
   "execution_count": 10,
   "id": "b4891096",
   "metadata": {
    "execution": {
     "iopub.execute_input": "2024-08-31T17:52:16.221125Z",
     "iopub.status.busy": "2024-08-31T17:52:16.220741Z",
     "iopub.status.idle": "2024-08-31T17:52:16.255723Z",
     "shell.execute_reply": "2024-08-31T17:52:16.254590Z"
    },
    "papermill": {
     "duration": 0.05494,
     "end_time": "2024-08-31T17:52:16.258380",
     "exception": false,
     "start_time": "2024-08-31T17:52:16.203440",
     "status": "completed"
    },
    "tags": []
   },
   "outputs": [
    {
     "data": {
      "text/html": [
       "<div>\n",
       "<style scoped>\n",
       "    .dataframe tbody tr th:only-of-type {\n",
       "        vertical-align: middle;\n",
       "    }\n",
       "\n",
       "    .dataframe tbody tr th {\n",
       "        vertical-align: top;\n",
       "    }\n",
       "\n",
       "    .dataframe thead th {\n",
       "        text-align: right;\n",
       "    }\n",
       "</style>\n",
       "<table border=\"1\" class=\"dataframe\">\n",
       "  <thead>\n",
       "    <tr style=\"text-align: right;\">\n",
       "      <th></th>\n",
       "      <th>Variable</th>\n",
       "      <th>VIF</th>\n",
       "    </tr>\n",
       "  </thead>\n",
       "  <tbody>\n",
       "    <tr>\n",
       "      <th>2</th>\n",
       "      <td>speechiness</td>\n",
       "      <td>1.123246</td>\n",
       "    </tr>\n",
       "    <tr>\n",
       "      <th>0</th>\n",
       "      <td>danceability</td>\n",
       "      <td>1.100645</td>\n",
       "    </tr>\n",
       "    <tr>\n",
       "      <th>1</th>\n",
       "      <td>liveness</td>\n",
       "      <td>1.073967</td>\n",
       "    </tr>\n",
       "  </tbody>\n",
       "</table>\n",
       "</div>"
      ],
      "text/plain": [
       "       Variable       VIF\n",
       "2   speechiness  1.123246\n",
       "0  danceability  1.100645\n",
       "1      liveness  1.073967"
      ]
     },
     "execution_count": 10,
     "metadata": {},
     "output_type": "execute_result"
    }
   ],
   "source": [
    "# comute_vif funtion from \n",
    "# https://towardsdatascience.com/targeting-multicollinearity-with-python-3bd3b4088d0b\n",
    "\n",
    "def compute_vif(considered_features):\n",
    "    \n",
    "    X = df[considered_features]\n",
    "    # the calculation of variance inflation requires a constant\n",
    "    X['intercept'] = 1\n",
    "    \n",
    "    # create dataframe to store vif values\n",
    "    vif = pd.DataFrame()\n",
    "    vif[\"Variable\"] = X.columns\n",
    "    vif[\"VIF\"] = [variance_inflation_factor(X.values, i) for i in range(X.shape[1])]\n",
    "    vif = vif[vif['Variable']!='intercept']\n",
    "    return vif\n",
    "\n",
    "considered_features = data.drop('on_chart', axis=1).columns\n",
    "compute_vif(considered_features).sort_values('VIF', ascending=False)"
   ]
  },
  {
   "cell_type": "markdown",
   "id": "a21e9317",
   "metadata": {
    "papermill": {
     "duration": 0.014449,
     "end_time": "2024-08-31T17:52:16.288030",
     "exception": false,
     "start_time": "2024-08-31T17:52:16.273581",
     "status": "completed"
    },
    "tags": []
   },
   "source": [
    "### Box-Tidwell Test"
   ]
  },
  {
   "cell_type": "code",
   "execution_count": 11,
   "id": "934647f1",
   "metadata": {
    "execution": {
     "iopub.execute_input": "2024-08-31T17:52:16.320158Z",
     "iopub.status.busy": "2024-08-31T17:52:16.319614Z",
     "iopub.status.idle": "2024-08-31T17:52:16.334780Z",
     "shell.execute_reply": "2024-08-31T17:52:16.333618Z"
    },
    "papermill": {
     "duration": 0.034663,
     "end_time": "2024-08-31T17:52:16.337584",
     "exception": false,
     "start_time": "2024-08-31T17:52:16.302921",
     "status": "completed"
    },
    "tags": []
   },
   "outputs": [
    {
     "data": {
      "text/html": [
       "<div>\n",
       "<style scoped>\n",
       "    .dataframe tbody tr th:only-of-type {\n",
       "        vertical-align: middle;\n",
       "    }\n",
       "\n",
       "    .dataframe tbody tr th {\n",
       "        vertical-align: top;\n",
       "    }\n",
       "\n",
       "    .dataframe thead th {\n",
       "        text-align: right;\n",
       "    }\n",
       "</style>\n",
       "<table border=\"1\" class=\"dataframe\">\n",
       "  <thead>\n",
       "    <tr style=\"text-align: right;\">\n",
       "      <th></th>\n",
       "      <th>danceability</th>\n",
       "      <th>liveness</th>\n",
       "      <th>speechiness</th>\n",
       "      <th>on_chart</th>\n",
       "    </tr>\n",
       "    <tr>\n",
       "      <th>id</th>\n",
       "      <th></th>\n",
       "      <th></th>\n",
       "      <th></th>\n",
       "      <th></th>\n",
       "    </tr>\n",
       "  </thead>\n",
       "  <tbody>\n",
       "    <tr>\n",
       "      <th>Blew, Bleach</th>\n",
       "      <td>0.411</td>\n",
       "      <td>0.2980</td>\n",
       "      <td>0.0556</td>\n",
       "      <td>0</td>\n",
       "    </tr>\n",
       "    <tr>\n",
       "      <th>Floyd The Barber, Bleach</th>\n",
       "      <td>0.443</td>\n",
       "      <td>0.0623</td>\n",
       "      <td>0.0418</td>\n",
       "      <td>0</td>\n",
       "    </tr>\n",
       "    <tr>\n",
       "      <th>About A Girl, Bleach</th>\n",
       "      <td>0.413</td>\n",
       "      <td>0.2090</td>\n",
       "      <td>0.0310</td>\n",
       "      <td>1</td>\n",
       "    </tr>\n",
       "    <tr>\n",
       "      <th>School, Bleach</th>\n",
       "      <td>0.210</td>\n",
       "      <td>0.0739</td>\n",
       "      <td>0.0785</td>\n",
       "      <td>0</td>\n",
       "    </tr>\n",
       "    <tr>\n",
       "      <th>Love Buzz, Bleach</th>\n",
       "      <td>0.479</td>\n",
       "      <td>0.1820</td>\n",
       "      <td>0.0339</td>\n",
       "      <td>0</td>\n",
       "    </tr>\n",
       "  </tbody>\n",
       "</table>\n",
       "</div>"
      ],
      "text/plain": [
       "                          danceability  liveness  speechiness on_chart\n",
       "id                                                                    \n",
       "Blew, Bleach                     0.411    0.2980       0.0556        0\n",
       "Floyd The Barber, Bleach         0.443    0.0623       0.0418        0\n",
       "About A Girl, Bleach             0.413    0.2090       0.0310        1\n",
       "School, Bleach                   0.210    0.0739       0.0785        0\n",
       "Love Buzz, Bleach                0.479    0.1820       0.0339        0"
      ]
     },
     "execution_count": 11,
     "metadata": {},
     "output_type": "execute_result"
    }
   ],
   "source": [
    "data.head()"
   ]
  },
  {
   "cell_type": "code",
   "execution_count": 12,
   "id": "5fa3b5dc",
   "metadata": {
    "execution": {
     "iopub.execute_input": "2024-08-31T17:52:16.369762Z",
     "iopub.status.busy": "2024-08-31T17:52:16.369355Z",
     "iopub.status.idle": "2024-08-31T17:52:18.008874Z",
     "shell.execute_reply": "2024-08-31T17:52:18.007144Z"
    },
    "papermill": {
     "duration": 1.659405,
     "end_time": "2024-08-31T17:52:18.012236",
     "exception": false,
     "start_time": "2024-08-31T17:52:16.352831",
     "status": "completed"
    },
    "tags": []
   },
   "outputs": [
    {
     "name": "stdout",
     "output_type": "stream",
     "text": [
      "                 Generalized Linear Model Regression Results                  \n",
      "==============================================================================\n",
      "Dep. Variable:               on_chart   No. Observations:                  706\n",
      "Model:                            GLM   Df Residuals:                      699\n",
      "Model Family:                Binomial   Df Model:                            6\n",
      "Link Function:                  Logit   Scale:                          1.0000\n",
      "Method:                          IRLS   Log-Likelihood:                -196.38\n",
      "Date:                Sat, 31 Aug 2024   Deviance:                       392.76\n",
      "Time:                        17:52:17   Pearson chi2:                     693.\n",
      "No. Iterations:                     8   Pseudo R-squ. (CS):            0.04421\n",
      "Covariance Type:            nonrobust                                         \n",
      "==================================================================================\n",
      "                     coef    std err          z      P>|z|      [0.025      0.975]\n",
      "----------------------------------------------------------------------------------\n",
      "danceability       2.2758      1.335      1.705      0.088      -0.341       4.892\n",
      "liveness          -1.8566      0.895     -2.074      0.038      -3.611      -0.102\n",
      "speechiness      -15.4765     37.607     -0.412      0.681     -89.186      58.233\n",
      "danceability_t     0.8865      5.423      0.163      0.870      -9.742      11.515\n",
      "liveness_t        -1.4131      2.201     -0.642      0.521      -5.727       2.901\n",
      "speechiness_t      1.5474     20.937      0.074      0.941     -39.488      42.583\n",
      "const             -1.9029      2.630     -0.723      0.469      -7.059       3.253\n",
      "==================================================================================\n"
     ]
    }
   ],
   "source": [
    "# Code from https://github.com/sandipanpaul21/Logistic-regression-in-python/blob/main/07_LR_Assumptions.ipynb\n",
    "import statsmodels.api as sm\n",
    "from statsmodels.genmod.generalized_linear_model import GLM\n",
    "from statsmodels.genmod import families\n",
    "\n",
    "# Consider only continous predictors\n",
    "data.head()\n",
    "test_data = data[['danceability','liveness', 'speechiness','on_chart']]\n",
    "\n",
    "# Transform continous variables X * ln(X)\n",
    "for col in test_data.drop('on_chart', axis=1).columns:\n",
    "    test_data.drop(test_data[test_data[col] == 0].index, inplace=True)\n",
    "    test_data[f'{col}_t'] = test_data[col].apply(lambda x: x * np.log(x))\n",
    "test_data.dropna(axis=0, inplace=True)\n",
    "\n",
    "# Split and add constant\n",
    "X = test_data.drop('on_chart', axis=1)\n",
    "y = test_data['on_chart']\n",
    "X = sm.add_constant(X, prepend=False)\n",
    "\n",
    "# Build model and fit the data\n",
    "logit_results = GLM(y.astype(float), X.astype(float), family=families.Binomial()).fit()\n",
    "\n",
    "# Display summary results\n",
    "print(logit_results.summary())"
   ]
  },
  {
   "cell_type": "markdown",
   "id": "9f3fddb3",
   "metadata": {
    "papermill": {
     "duration": 0.015679,
     "end_time": "2024-08-31T17:52:18.044171",
     "exception": false,
     "start_time": "2024-08-31T17:52:18.028492",
     "status": "completed"
    },
    "tags": []
   },
   "source": [
    "# 2. Building Base Model "
   ]
  },
  {
   "cell_type": "markdown",
   "id": "96b6a90e",
   "metadata": {
    "papermill": {
     "duration": 0.014779,
     "end_time": "2024-08-31T17:52:18.074810",
     "exception": false,
     "start_time": "2024-08-31T17:52:18.060031",
     "status": "completed"
    },
    "tags": []
   },
   "source": [
    "### Splitting the data"
   ]
  },
  {
   "cell_type": "code",
   "execution_count": 13,
   "id": "43ba1871",
   "metadata": {
    "execution": {
     "iopub.execute_input": "2024-08-31T17:52:18.107371Z",
     "iopub.status.busy": "2024-08-31T17:52:18.106758Z",
     "iopub.status.idle": "2024-08-31T17:52:18.168760Z",
     "shell.execute_reply": "2024-08-31T17:52:18.167495Z"
    },
    "papermill": {
     "duration": 0.081367,
     "end_time": "2024-08-31T17:52:18.171538",
     "exception": false,
     "start_time": "2024-08-31T17:52:18.090171",
     "status": "completed"
    },
    "tags": []
   },
   "outputs": [
    {
     "data": {
      "text/html": [
       "<div>\n",
       "<style scoped>\n",
       "    .dataframe tbody tr th:only-of-type {\n",
       "        vertical-align: middle;\n",
       "    }\n",
       "\n",
       "    .dataframe tbody tr th {\n",
       "        vertical-align: top;\n",
       "    }\n",
       "\n",
       "    .dataframe thead th {\n",
       "        text-align: right;\n",
       "    }\n",
       "</style>\n",
       "<table border=\"1\" class=\"dataframe\">\n",
       "  <thead>\n",
       "    <tr style=\"text-align: right;\">\n",
       "      <th></th>\n",
       "      <th>danceability</th>\n",
       "      <th>liveness</th>\n",
       "      <th>speechiness</th>\n",
       "    </tr>\n",
       "    <tr>\n",
       "      <th>id</th>\n",
       "      <th></th>\n",
       "      <th></th>\n",
       "      <th></th>\n",
       "    </tr>\n",
       "  </thead>\n",
       "  <tbody>\n",
       "    <tr>\n",
       "      <th>You Are, Riot Act</th>\n",
       "      <td>0.609</td>\n",
       "      <td>0.107</td>\n",
       "      <td>0.0256</td>\n",
       "    </tr>\n",
       "    <tr>\n",
       "      <th>Spank Thru, Live At Reading</th>\n",
       "      <td>0.265</td>\n",
       "      <td>0.544</td>\n",
       "      <td>0.0591</td>\n",
       "    </tr>\n",
       "    <tr>\n",
       "      <th>No Excuses, Jar Of Flies</th>\n",
       "      <td>0.527</td>\n",
       "      <td>0.070</td>\n",
       "      <td>0.0323</td>\n",
       "    </tr>\n",
       "    <tr>\n",
       "      <th>Check My Brain, Black Gives Way to Blue</th>\n",
       "      <td>0.441</td>\n",
       "      <td>0.723</td>\n",
       "      <td>0.0462</td>\n",
       "    </tr>\n",
       "    <tr>\n",
       "      <th>665, Ultramega OK</th>\n",
       "      <td>0.497</td>\n",
       "      <td>0.148</td>\n",
       "      <td>0.0536</td>\n",
       "    </tr>\n",
       "  </tbody>\n",
       "</table>\n",
       "</div>"
      ],
      "text/plain": [
       "                                         danceability  liveness  speechiness\n",
       "id                                                                          \n",
       "You Are, Riot Act                               0.609     0.107       0.0256\n",
       "Spank Thru, Live At Reading                     0.265     0.544       0.0591\n",
       "No Excuses, Jar Of Flies                        0.527     0.070       0.0323\n",
       "Check My Brain, Black Gives Way to Blue         0.441     0.723       0.0462\n",
       "665, Ultramega OK                               0.497     0.148       0.0536"
      ]
     },
     "execution_count": 13,
     "metadata": {},
     "output_type": "execute_result"
    }
   ],
   "source": [
    "from sklearn.model_selection import train_test_split\n",
    "\n",
    "data['on_chart'][data['on_chart'] == 1] = 'yes'\n",
    "data['on_chart'][data['on_chart'] == 0] = 'no'\n",
    "\n",
    "X = data.drop('on_chart', axis=1) # Features\n",
    "y = data['on_chart'] # Target variable\n",
    "\n",
    "X_train, X_test, y_train, y_test = train_test_split(X, y, test_size=0.20, random_state=2024)\n",
    "\n",
    "X_train.head()"
   ]
  },
  {
   "cell_type": "markdown",
   "id": "56815bf8",
   "metadata": {
    "papermill": {
     "duration": 0.015384,
     "end_time": "2024-08-31T17:52:18.202862",
     "exception": false,
     "start_time": "2024-08-31T17:52:18.187478",
     "status": "completed"
    },
    "tags": []
   },
   "source": [
    "### Feature scaling"
   ]
  },
  {
   "cell_type": "code",
   "execution_count": 14,
   "id": "14b66910",
   "metadata": {
    "execution": {
     "iopub.execute_input": "2024-08-31T17:52:18.236391Z",
     "iopub.status.busy": "2024-08-31T17:52:18.235950Z",
     "iopub.status.idle": "2024-08-31T17:52:18.248719Z",
     "shell.execute_reply": "2024-08-31T17:52:18.247526Z"
    },
    "papermill": {
     "duration": 0.032908,
     "end_time": "2024-08-31T17:52:18.251477",
     "exception": false,
     "start_time": "2024-08-31T17:52:18.218569",
     "status": "completed"
    },
    "tags": []
   },
   "outputs": [],
   "source": [
    "scaler = StandardScaler()\n",
    "\n",
    "X_train_scaled = scaler.fit_transform(X_train)\n",
    "X_test_scaled = scaler.transform(X_test)"
   ]
  },
  {
   "cell_type": "markdown",
   "id": "cf32f7bd",
   "metadata": {
    "papermill": {
     "duration": 0.015333,
     "end_time": "2024-08-31T17:52:18.282578",
     "exception": false,
     "start_time": "2024-08-31T17:52:18.267245",
     "status": "completed"
    },
    "tags": []
   },
   "source": [
    "### Training base model"
   ]
  },
  {
   "cell_type": "code",
   "execution_count": 15,
   "id": "a1003813",
   "metadata": {
    "execution": {
     "iopub.execute_input": "2024-08-31T17:52:18.315741Z",
     "iopub.status.busy": "2024-08-31T17:52:18.315330Z",
     "iopub.status.idle": "2024-08-31T17:52:18.338270Z",
     "shell.execute_reply": "2024-08-31T17:52:18.336880Z"
    },
    "papermill": {
     "duration": 0.043258,
     "end_time": "2024-08-31T17:52:18.341491",
     "exception": false,
     "start_time": "2024-08-31T17:52:18.298233",
     "status": "completed"
    },
    "tags": []
   },
   "outputs": [],
   "source": [
    "logreg = LogisticRegression(class_weight='balanced', random_state=23)\n",
    "\n",
    "logreg.fit(X_train, y_train)\n",
    "\n",
    "y_pred = logreg.predict(X_test_scaled)"
   ]
  },
  {
   "cell_type": "markdown",
   "id": "cf80f701",
   "metadata": {
    "papermill": {
     "duration": 0.015193,
     "end_time": "2024-08-31T17:52:18.373742",
     "exception": false,
     "start_time": "2024-08-31T17:52:18.358549",
     "status": "completed"
    },
    "tags": []
   },
   "source": [
    "### Evaluation of Base Model"
   ]
  },
  {
   "cell_type": "code",
   "execution_count": 16,
   "id": "85a8371a",
   "metadata": {
    "execution": {
     "iopub.execute_input": "2024-08-31T17:52:18.407101Z",
     "iopub.status.busy": "2024-08-31T17:52:18.406103Z",
     "iopub.status.idle": "2024-08-31T17:52:19.023594Z",
     "shell.execute_reply": "2024-08-31T17:52:19.022383Z"
    },
    "papermill": {
     "duration": 0.636944,
     "end_time": "2024-08-31T17:52:19.026303",
     "exception": false,
     "start_time": "2024-08-31T17:52:18.389359",
     "status": "completed"
    },
    "tags": []
   },
   "outputs": [
    {
     "name": "stdout",
     "output_type": "stream",
     "text": [
      "Accuracy: 0.51\n",
      "Precision: 0.93\n",
      "Recall: 0.5\n"
     ]
    },
    {
     "data": {
      "image/png": "[encoded data removed]",
      "text/plain": [
       "<Figure size 500x400 with 2 Axes>"
      ]
     },
     "metadata": {},
     "output_type": "display_data"
    }
   ],
   "source": [
    "accuracy = accuracy_score(y_test, y_pred)\n",
    "precision = precision_score(y_test, y_pred, pos_label='no')\n",
    "recall = recall_score(y_test, y_pred, pos_label='no')\n",
    "\n",
    "print(f'Accuracy: {round(accuracy, 2)}')\n",
    "print(f'Precision: {round(precision, 2)}')\n",
    "print(f'Recall: {round(recall, 2)}')\n",
    "\n",
    "print_save_confusion_matrix(y_test, y_pred, suffix='base')"
   ]
  },
  {
   "cell_type": "markdown",
   "id": "eadecf54",
   "metadata": {
    "papermill": {
     "duration": 0.015777,
     "end_time": "2024-08-31T17:52:19.058446",
     "exception": false,
     "start_time": "2024-08-31T17:52:19.042669",
     "status": "completed"
    },
    "tags": []
   },
   "source": [
    "# 3. Hyperparameter Tuning"
   ]
  },
  {
   "cell_type": "markdown",
   "id": "88293a3f",
   "metadata": {
    "papermill": {
     "duration": 0.015744,
     "end_time": "2024-08-31T17:52:19.090292",
     "exception": false,
     "start_time": "2024-08-31T17:52:19.074548",
     "status": "completed"
    },
    "tags": []
   },
   "source": [
    "### Grid Search Cross Validation"
   ]
  },
  {
   "cell_type": "code",
   "execution_count": 17,
   "id": "69aaa126",
   "metadata": {
    "execution": {
     "iopub.execute_input": "2024-08-31T17:52:19.125609Z",
     "iopub.status.busy": "2024-08-31T17:52:19.124282Z",
     "iopub.status.idle": "2024-08-31T17:52:22.038721Z",
     "shell.execute_reply": "2024-08-31T17:52:22.037059Z"
    },
    "papermill": {
     "duration": 2.93496,
     "end_time": "2024-08-31T17:52:22.041501",
     "exception": false,
     "start_time": "2024-08-31T17:52:19.106541",
     "status": "completed"
    },
    "tags": []
   },
   "outputs": [
    {
     "name": "stdout",
     "output_type": "stream",
     "text": [
      "Fitting 10 folds for each of 24 candidates, totalling 240 fits\n",
      "Best parameters: {'penalty': None, 'solver': 'lbfgs'}\n"
     ]
    }
   ],
   "source": [
    "param_grid = {\n",
    "    \"penalty\" : [None, 'l1','l2', 'elasticnet'],\n",
    "    \"solver\" : ['lbfgs', 'liblinear', 'newton-cg', 'newton-cholesky', 'sag', 'saga']\n",
    "}\n",
    "\n",
    "grid_search = GridSearchCV(estimator=logreg, param_grid=param_grid, \n",
    "                           cv=10, n_jobs=-1, verbose=1, scoring='accuracy')\n",
    "\n",
    "grid_search.fit(X_train_scaled, y_train)\n",
    "\n",
    "best_params = grid_search.best_params_\n",
    "print(f\"Best parameters: {best_params}\")\n"
   ]
  },
  {
   "cell_type": "markdown",
   "id": "d7ef5724",
   "metadata": {
    "papermill": {
     "duration": 0.016173,
     "end_time": "2024-08-31T17:52:22.074230",
     "exception": false,
     "start_time": "2024-08-31T17:52:22.058057",
     "status": "completed"
    },
    "tags": []
   },
   "source": [
    "### Evaluation of Tuned Model "
   ]
  },
  {
   "cell_type": "code",
   "execution_count": 18,
   "id": "eb8fca63",
   "metadata": {
    "execution": {
     "iopub.execute_input": "2024-08-31T17:52:22.109223Z",
     "iopub.status.busy": "2024-08-31T17:52:22.108798Z",
     "iopub.status.idle": "2024-08-31T17:52:22.860928Z",
     "shell.execute_reply": "2024-08-31T17:52:22.859749Z"
    },
    "papermill": {
     "duration": 0.773215,
     "end_time": "2024-08-31T17:52:22.863981",
     "exception": false,
     "start_time": "2024-08-31T17:52:22.090766",
     "status": "completed"
    },
    "tags": []
   },
   "outputs": [
    {
     "name": "stdout",
     "output_type": "stream",
     "text": [
      "Accuracy: 0.56\n",
      "Precision: 0.94\n",
      "Recall: 0.56\n"
     ]
    },
    {
     "data": {
      "image/png": "[encoded data removed]",
      "text/plain": [
       "<Figure size 500x400 with 2 Axes>"
      ]
     },
     "metadata": {},
     "output_type": "display_data"
    }
   ],
   "source": [
    "best_logreg = grid_search.best_estimator_\n",
    "best_logreg.fit(X_train_scaled, y_train)\n",
    "y_pred = best_logreg.predict(X_test_scaled)\n",
    "\n",
    "accuracy = accuracy_score(y_test, y_pred)\n",
    "precision = precision_score(y_test, y_pred, pos_label='no')\n",
    "recall = recall_score(y_test, y_pred, pos_label='no')\n",
    "\n",
    "print(f'Accuracy: {round(accuracy, 2)}')\n",
    "print(f'Precision: {round(precision, 2)}')\n",
    "print(f'Recall: {round(recall, 2)}')\n",
    "\n",
    "print_save_confusion_matrix(y_test, y_pred, suffix='tuned')"
   ]
  }
 ],
 "metadata": {
  "kaggle": {
   "accelerator": "none",
   "dataSources": [
    {
     "datasetId": 3958764,
     "sourceId": 9127042,
     "sourceType": "datasetVersion"
    }
   ],
   "dockerImageVersionId": 30746,
   "isGpuEnabled": false,
   "isInternetEnabled": true,
   "language": "python",
   "sourceType": "notebook"
  },
  "kernelspec": {
   "display_name": "Python 3",
   "language": "python",
   "name": "python3"
  },
  "language_info": {
   "codemirror_mode": {
    "name": "ipython",
    "version": 3
   },
   "file_extension": ".py",
   "mimetype": "text/x-python",
   "name": "python",
   "nbconvert_exporter": "python",
   "pygments_lexer": "ipython3",
   "version": "3.10.13"
  },
  "papermill": {
   "default_parameters": {},
   "duration": 20.476583,
   "end_time": "2024-08-31T17:52:25.504213",
   "environment_variables": {},
   "exception": null,
   "input_path": "__notebook__.ipynb",
   "output_path": "__notebook__.ipynb",
   "parameters": {},
   "start_time": "2024-08-31T17:52:05.027630",
   "version": "2.5.0"
  }
 },
 "nbformat": 4,
 "nbformat_minor": 5
}
