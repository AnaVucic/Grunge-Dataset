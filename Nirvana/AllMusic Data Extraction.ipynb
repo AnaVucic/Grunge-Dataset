{
 "cells": [
  {
   "cell_type": "code",
   "execution_count": 5,
   "id": "33c9c26c-14ac-4e64-8242-0537a6f81a68",
   "metadata": {},
   "outputs": [],
   "source": [
    "from requests_html import HTMLSession\n",
    "from bs4 import BeautifulSoup\n",
    "import pandas as pd\n",
    "pd.options.display.max_rows = 1399\n",
    "pd.options.display.max_columns = 99"
   ]
  },
  {
   "cell_type": "code",
   "execution_count": 6,
   "id": "1e482486-8de9-48eb-a146-acb45cc6985f",
   "metadata": {},
   "outputs": [],
   "source": [
    "session = HTMLSession()\n",
    "url = 'https://www.allmusic.com/artist/nirvana-mn0000357406/discography/all'\n",
    "response = session.get(url)\n",
    "soup = BeautifulSoup(response.text, 'html.parser')"
   ]
  },
  {
   "cell_type": "code",
   "execution_count": 7,
   "id": "cceb9bd7-a5cb-46d2-917a-5c046ba70fe9",
   "metadata": {},
   "outputs": [],
   "source": [
    "def get_page_data(url):\n",
    "    \"\"\"\n",
    "    Input a page URL to get a BeautifulSoup object from that page.\n",
    "    \"\"\"\n",
    "    response = session.get(url)\n",
    "    soup = BeautifulSoup(response.text, 'html.parser')\n",
    "    return soup"
   ]
  },
  {
   "cell_type": "code",
   "execution_count": 8,
   "id": "7264241f-d73b-46ae-885d-e40390e7df11",
   "metadata": {},
   "outputs": [],
   "source": [
    "def get_album_page_links(soup):\n",
    "    \"\"\"\n",
    "    Input a BeautifulSoup object to get links to all albums present on that discography page\n",
    "    \"\"\"\n",
    "    links = []\n",
    "    data = soup.find_all('td', class_ = 'title')\n",
    "    for album in data:\n",
    "        if album.find('a'):\n",
    "            links.append(album.find('a')['href'])\n",
    "    return links\n",
    "\n",
    "def get_track_page_links(soup):\n",
    "    \"\"\"\n",
    "    Input a BeautifulSoup object to get links to all tracks present on that album page\n",
    "    \"\"\"\n",
    "    links = []\n",
    "    data = soup.find_all('div', class_ = 'title')\n",
    "    for track in data:\n",
    "        if track.find('a'):\n",
    "            links.append(track.find('a')['href'])\n",
    "    return links\n",
    "\n",
    "album_links = get_album_page_links(soup)"
   ]
  },
  {
   "cell_type": "code",
   "execution_count": 9,
   "id": "6dabb8ed-da77-4c83-8a9e-f8f54e49d102",
   "metadata": {},
   "outputs": [],
   "source": [
    "def calculate_rating(classes):\n",
    "    \"\"\"\n",
    "    A function to parse classes from AllMusic website as a rating on a scale from [0.5-5.0].\n",
    "    This function will expect a list of css classes as a parameter, and output \n",
    "    rating according to present class.\n",
    "    \"\"\"\n",
    "    if 'rating-unrated' in classes: rating = ''\n",
    "    elif 'rating-allmusic-0' in classes: rating = ''\n",
    "    elif 'rating-allmusic-1' in classes: rating = 1.0\n",
    "    elif 'rating-allmusic-2' in classes: rating = 1.5\n",
    "    elif 'rating-allmusic-3' in classes: rating = 2.0\n",
    "    elif 'rating-allmusic-4' in classes: rating = 2.5\n",
    "    elif 'rating-allmusic-5' in classes: rating = 3.0\n",
    "    elif 'rating-allmusic-6' in classes: rating = 3.5\n",
    "    elif 'rating-allmusic-7' in classes: rating = 4.0\n",
    "    elif 'rating-allmusic-8' in classes: rating = 4.5\n",
    "    elif 'rating-allmusic-9' in classes: rating = 5.0\n",
    "    return rating"
   ]
  },
  {
   "cell_type": "code",
   "execution_count": 10,
   "id": "9cdd605b-ed92-4c0f-86c2-0980d6f2113b",
   "metadata": {},
   "outputs": [],
   "source": [
    "def get_track_data(url):\n",
    "    \"\"\"\n",
    "    This function expects a track URL as a parameter. It returns information about the track\n",
    "    as a dictionary\"\"\"\n",
    "    overview_page = get_page_data(url)\n",
    "    attributes_page = get_page_data(str(url +  '/attributes'))\n",
    "        \n",
    "    track_title = overview_page.find('h1').text.strip()\n",
    "    track_composers = [x.a.text for x in overview_page.find_all('p', class_ = 'song-composer')]\n",
    "    genres = [x.text[:-4] for x in attributes_page.find('div', class_ = 'attribute-tab-genres').find_all('a')]\n",
    "    styles = [x.text[:-4] for x in attributes_page.find('div', class_ = 'attribute-tab-styles').find_all('a')] \n",
    "    moods = [x.text[:-4] for x in attributes_page.find('div', class_ = 'attribute-tab-moods').find_all('a')] \n",
    "    themes = [x.text[:-4] for x in attributes_page.find('div', class_ = 'attribute-tab-themes').find_all('a')] \n",
    "        \n",
    "    return {\n",
    "        'track_title' : track_title,\n",
    "        'track_composers' : track_composers,\n",
    "        'track_genres':genres, \n",
    "        'track_styles':styles, \n",
    "        'track_moods':moods, \n",
    "        'track_themes':themes\n",
    "    }\n",
    "        "
   ]
  },
  {
   "cell_type": "code",
   "execution_count": 11,
   "id": "6c3a0066-1db5-48e8-b8e2-bb9f2ec2fccb",
   "metadata": {},
   "outputs": [],
   "source": [
    "def get_data(url):\n",
    "    \"\"\"\n",
    "    This function expects an album page URL. It will scrape all data about the album and all tracks from that album.\n",
    "    It will return a list of all tracks from that album with its corresponding information as a dictionary\"\"\"\n",
    "\n",
    "    # ALBUM data\n",
    "    album_page = get_page_data(url)\n",
    "    album_title = album_page.find('h1', class_ = 'album-title').text.strip()\n",
    "    album_release_date = [album_page.find('div', class_ = 'release-date').span.text if album_page.find('div', class_ = 'release-date') else '']\n",
    "    album_duration = [album_page.find('div', class_ = 'duration').text.strip() if album_page.find('div', class_ = 'duration') else None ]\n",
    "    album_genre = album_page.find('div', class_ = 'genre').div.a.text\n",
    "    album_styles = [[a.text for a in album_page.find('div', class_ = 'styles').find_all('a')] if album_page.find('div', class_ = 'styles') else '']\n",
    "    album_recording_date = [album_page.find('div', class_ = 'recording-date').div.text if album_page.find('div', class_ = 'recording-date') else '']\n",
    "    album_recording_location = [album_page.find('div', class_ = 'recording-location').li.text.strip() if album_page.find('div', class_ = 'recording-location') else '']\n",
    "    album_moods = [x.text.strip() for x in album_page.find_all('span', class_ = 'mood')]\n",
    "    album_themes = [x.text.strip() for x in album_page.find_all('span', class_ = 'theme')]\n",
    "    album_rating = calculate_rating(album_page.find('div', class_ = 'allmusic-rating').get('class'))\n",
    "\n",
    "    # TRACK data\n",
    "    all_tracks_data = []\n",
    "    track_links = get_track_page_links(album_page)\n",
    "    if len(track_links) > 0:\n",
    "        for track_link in track_links:\n",
    "            all_tracks_data.append(get_track_data(track_link))\n",
    "\n",
    "    # FINAL data\n",
    "    final_data = []\n",
    "    \n",
    "    for track in all_tracks_data:\n",
    "        final_data.append({\n",
    "            'track_title' : track['track_title'],\n",
    "            'track_composers' : track['track_composers'],\n",
    "            'track_genres': track['track_genres'], \n",
    "            'track_styles': track['track_styles'], \n",
    "            'track_moods': track['track_moods'], \n",
    "            'track_themes': track['track_themes'],\n",
    "            'album_title': album_title,\n",
    "            'album_release_date': album_release_date,\n",
    "            'album_duration' : album_duration,\n",
    "            'album_genres' : album_genre,\n",
    "            'album_styles' : album_styles,\n",
    "            'album_recording_date' : album_recording_date,\n",
    "            'album_recording_location' : album_recording_location,\n",
    "            'album_moods' : album_moods,\n",
    "            'album_themes' : album_themes,\n",
    "            'album_rating' : album_rating\n",
    "        })\n",
    "    return final_data"
   ]
  },
  {
   "cell_type": "markdown",
   "id": "638a2981-eca1-44c8-be07-325c1d8fbbdc",
   "metadata": {},
   "source": [
    "### Fetching all data from AllMusic"
   ]
  },
  {
   "cell_type": "code",
   "execution_count": 12,
   "id": "3d298e32-901c-4db6-9008-06b1205c91ee",
   "metadata": {},
   "outputs": [],
   "source": [
    "all_tracks = []\n",
    "for i in range(len(album_links)):\n",
    "    all_tracks.extend(get_data(album_links[i]))\n",
    "# get_data(album_links[0])"
   ]
  },
  {
   "cell_type": "markdown",
   "id": "bd55ad79-8a37-4d22-ab57-4f68e195bd38",
   "metadata": {},
   "source": [
    "### Cleaning fetched data"
   ]
  },
  {
   "cell_type": "code",
   "execution_count": 41,
   "id": "18dea205-b422-4ea5-9b9b-f4bc8cfa9792",
   "metadata": {},
   "outputs": [],
   "source": [
    "import pandas as pd"
   ]
  },
  {
   "cell_type": "code",
   "execution_count": 42,
   "id": "ae5ca8b8-6f5a-407c-b4d1-2bba44618acd",
   "metadata": {},
   "outputs": [],
   "source": [
    "df = pd.DataFrame(all_tracks)"
   ]
  },
  {
   "cell_type": "code",
   "execution_count": 43,
   "id": "ff4a164c-786c-4069-a585-c2846b96e166",
   "metadata": {},
   "outputs": [],
   "source": [
    "df.drop('album_release_date', axis=1, inplace=True)"
   ]
  },
  {
   "cell_type": "code",
   "execution_count": 44,
   "id": "0716ca6c-3b35-453b-821b-da57d7cf463c",
   "metadata": {},
   "outputs": [
    {
     "name": "stdout",
     "output_type": "stream",
     "text": [
      "Columns:\t15\n",
      "Rows:\t\t1224\n"
     ]
    }
   ],
   "source": [
    "print(f'Columns:\\t{df.shape[1]}\\nRows:\\t\\t{df.shape[0]}')"
   ]
  },
  {
   "cell_type": "code",
   "execution_count": 45,
   "id": "1c09a400-17e2-4c1c-8894-32ff263f68dd",
   "metadata": {},
   "outputs": [],
   "source": [
    "df['track_composers'] = df['track_composers'].apply(lambda x: ', '.join(x))\n",
    "df['track_genres'] = df['track_genres'].apply(lambda x: ', '.join(x))\n",
    "df['track_styles'] = df['track_styles'].apply(lambda x: ', '.join(x))\n",
    "df['track_moods'] = df['track_moods'].apply(lambda x: ', '.join(x))\n",
    "df['track_themes'] = df['track_themes'].apply(lambda x: ', '.join(x))\n",
    "df['album_duration'] = df['album_duration'].apply(lambda x: str(x[0])[9:])\n",
    "df['album_styles'] = df['album_styles'].apply(lambda x: ''.join(x[0]))\n",
    "df['album_recording_date'] = df['album_recording_date'].apply(lambda x: ', '.join(x))\n",
    "df['album_recording_location'] = df['album_recording_location'].apply(lambda x: ', '.join(x))\n",
    "df['album_moods'] = df['album_moods'].apply(lambda x: ', '.join(x))\n",
    "df['album_themes'] = df['album_themes'].apply(lambda x: ', '.join(x))"
   ]
  },
  {
   "cell_type": "code",
   "execution_count": 46,
   "id": "dafa0c5e-152f-4f92-9270-c0538fe2c8e9",
   "metadata": {},
   "outputs": [],
   "source": [
    "# Capializing every word in every track and album title and renaming the columns\n",
    "\n",
    "df.rename(columns={'track_title':'track_name','album_title':'album_name'}, inplace=True)\n",
    "df.loc[:,['track_name', 'album_name']] = df.loc[:,['track_name', 'album_name']].apply(lambda x: x.str.title())"
   ]
  },
  {
   "cell_type": "code",
   "execution_count": 47,
   "id": "fe7b494f-63c0-46d1-a166-bcd724a95b32",
   "metadata": {},
   "outputs": [],
   "source": [
    "# Cleaning album names\n",
    "\n",
    "df.loc[df['album_name'] == 'Sliver: The Best Of The Box','album_name'] = 'Sliver - The Best Of The Box'\n",
    "df.loc[df['album_name'] == 'Live & Loud','album_name'] = 'Live And Loud'\n",
    "df.drop(df.loc[(df['album_name'] == 'Live And Loud') & (df['track_composers'] == '')].index, inplace=True)"
   ]
  },
  {
   "cell_type": "code",
   "execution_count": 52,
   "id": "8b06696e-aa93-471b-a2e4-e55d6f30a93c",
   "metadata": {},
   "outputs": [],
   "source": [
    "# Cleaning track names\n",
    "\n",
    "df.loc[108, 'track_name'] = 'Oh Me'\n",
    "df.loc[111, 'track_name'] = 'Where Did You Sleep Last Night'\n",
    "df.loc[[80, 386, 559], 'track_name'] = 'Heart-Shaped Box'\n",
    "df.loc[568, 'track_name'] = 'Help Me, I\\'M Hungry'\n",
    "df.loc[592, 'track_name'] = 'Where Did You Sleep Last Night'\n",
    "df.loc[[604, 684], 'track_name'] = 'Oh The Guilt'"
   ]
  },
  {
   "cell_type": "code",
   "execution_count": 53,
   "id": "e0a19e67-aa09-4ab3-a855-1bc8cf3b503c",
   "metadata": {},
   "outputs": [],
   "source": [
    "# Cleaning the missing data format\n",
    "df.loc[df['track_genres'] == 'Would you like to contrib', 'track_genres'] = ''\n",
    "df.loc[df['track_styles'] == 'Would you like to contrib', 'track_styles'] = ''\n",
    "df.loc[df['track_moods'] == 'Would you like to contrib', 'track_moods'] = ''\n",
    "df.loc[df['track_themes'] == 'Would you like to contrib', 'track_themes'] = ''"
   ]
  },
  {
   "cell_type": "markdown",
   "id": "59e3e89c-44a1-4bc7-9e9d-2f5dc60a170c",
   "metadata": {},
   "source": [
    "### Saving data to .csv file"
   ]
  },
  {
   "cell_type": "code",
   "execution_count": 54,
   "id": "00bd8f8f-f3ae-4bd0-b11e-3c567b74b33f",
   "metadata": {},
   "outputs": [],
   "source": [
    "df.to_csv('nirvana_allmusic.csv', index=False)"
   ]
  },
  {
   "cell_type": "code",
   "execution_count": null,
   "id": "c825cb1a-e230-4cc1-ab63-07d186d3bc1c",
   "metadata": {},
   "outputs": [],
   "source": []
  }
 ],
 "metadata": {
  "kernelspec": {
   "display_name": "Python 3 (ipykernel)",
   "language": "python",
   "name": "python3"
  },
  "language_info": {
   "codemirror_mode": {
    "name": "ipython",
    "version": 3
   },
   "file_extension": ".py",
   "mimetype": "text/x-python",
   "name": "python",
   "nbconvert_exporter": "python",
   "pygments_lexer": "ipython3",
   "version": "3.10.9"
  }
 },
 "nbformat": 4,
 "nbformat_minor": 5
}
