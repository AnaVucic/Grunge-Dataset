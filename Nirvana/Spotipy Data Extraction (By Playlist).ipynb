{
 "cells": [
  {
   "cell_type": "code",
   "execution_count": 2,
   "id": "d14a7ea2",
   "metadata": {},
   "outputs": [],
   "source": [
    "import spotipy\n",
    "import pandas as pd\n",
    "import math\n",
    "from spotipy.oauth2 import SpotifyClientCredentials\n",
    "\n",
    "pd.options.display.max_rows = 999"
   ]
  },
  {
   "cell_type": "code",
   "execution_count": 3,
   "id": "e27376ba",
   "metadata": {},
   "outputs": [],
   "source": [
    "sp = spotipy.Spotify(\n",
    "    client_credentials_manager=SpotifyClientCredentials(\n",
    "        client_id='c3c6cbaa304c4c86b120e8d9603d44a4', \n",
    "        client_secret='b8819ea70b3142819602499ee139c24f'))\n",
    "\n",
    "nirvana_uri = 'spotify:artist:6olE6TJLqED3rqDCT0FyPh'"
   ]
  },
  {
   "cell_type": "markdown",
   "id": "cc8d0803",
   "metadata": {},
   "source": [
    "## Collecting data from playlist Nirvana all songs (Original)"
   ]
  },
  {
   "cell_type": "code",
   "execution_count": 4,
   "id": "b13f08b8",
   "metadata": {},
   "outputs": [
    {
     "name": "stdout",
     "output_type": "stream",
     "text": [
      "Total tracks: 401\n"
     ]
    }
   ],
   "source": [
    "playlist_id = \"spotify:playlist:5PCYPdeq31cVX5pOH2vkpV\"\n",
    "\n",
    "offset = 0\n",
    "limit = 100\n",
    "\n",
    "all_tracks = []\n",
    "\n",
    "while(True):\n",
    "    results = sp.playlist_tracks(playlist_id, offset=offset, limit=limit)\n",
    "    \n",
    "    tracks = results['items']\n",
    "    \n",
    "    for track in tracks:\n",
    "        all_tracks.append(track['track'])\n",
    "    \n",
    "    if len(tracks) < limit:\n",
    "        break\n",
    "    \n",
    "    offset += limit\n",
    "\n",
    "\n",
    "print(\"Total tracks:\", len(all_tracks))\n"
   ]
  },
  {
   "cell_type": "markdown",
   "id": "6806f86a",
   "metadata": {},
   "source": [
    "Excluding Home Recordings"
   ]
  },
  {
   "cell_type": "code",
   "execution_count": 5,
   "id": "d520ca43",
   "metadata": {},
   "outputs": [
    {
     "name": "stdout",
     "output_type": "stream",
     "text": [
      "Total tracks: 358\n"
     ]
    }
   ],
   "source": [
    "all_tracks = all_tracks[43:]\n",
    "print(\"Total tracks:\", len(all_tracks))\n",
    "playlist_1 = all_tracks"
   ]
  },
  {
   "cell_type": "markdown",
   "id": "bb98398c",
   "metadata": {},
   "source": [
    "## Collecting data from playlist Nirvana Best Of"
   ]
  },
  {
   "cell_type": "code",
   "execution_count": 6,
   "id": "2c6f401c",
   "metadata": {},
   "outputs": [
    {
     "name": "stdout",
     "output_type": "stream",
     "text": [
      "Total tracks: 33\n"
     ]
    }
   ],
   "source": [
    "playlist_id = \"spotify:playlist:7ETnL4fbHNcIdV1JmRuCZd\"\n",
    "\n",
    "offset = 0\n",
    "limit = 100\n",
    "\n",
    "all_tracks = []\n",
    "\n",
    "while(True):\n",
    "    results = sp.playlist_tracks(playlist_id, offset=offset, limit=limit)\n",
    "    \n",
    "    tracks = results['items']\n",
    "    for track in tracks:\n",
    "        all_tracks.append(track['track'])\n",
    "    \n",
    "    if len(tracks) < limit:\n",
    "        break\n",
    "    \n",
    "    offset += limit\n",
    "\n",
    "print(\"Total tracks:\", len(all_tracks))"
   ]
  },
  {
   "cell_type": "code",
   "execution_count": 7,
   "id": "4d7d4dec",
   "metadata": {},
   "outputs": [],
   "source": [
    "playlist_2 = all_tracks"
   ]
  },
  {
   "cell_type": "markdown",
   "id": "485c5054",
   "metadata": {},
   "source": [
    "## Collecting data from playlist This Is Nirvana"
   ]
  },
  {
   "cell_type": "code",
   "execution_count": 8,
   "id": "ea089749",
   "metadata": {},
   "outputs": [
    {
     "name": "stdout",
     "output_type": "stream",
     "text": [
      "Total tracks: 39\n"
     ]
    }
   ],
   "source": [
    "playlist_id = \"spotify:playlist:37i9dQZF1DZ06evO3M0Fbi\"\n",
    "\n",
    "offset = 0\n",
    "limit = 100\n",
    "\n",
    "all_tracks = []\n",
    "\n",
    "while(True):\n",
    "    results = sp.playlist_tracks(playlist_id, offset=offset, limit=limit)\n",
    "    \n",
    "    tracks = results['items']\n",
    "    \n",
    "    for track in tracks:\n",
    "        all_tracks.append(track['track'])\n",
    "    \n",
    "    if len(tracks) < limit:\n",
    "        break\n",
    "    \n",
    "    offset += limit\n",
    "\n",
    "\n",
    "print(\"Total tracks:\", len(all_tracks))"
   ]
  },
  {
   "cell_type": "code",
   "execution_count": 9,
   "id": "4269c653",
   "metadata": {},
   "outputs": [],
   "source": [
    "playlist_3 = all_tracks"
   ]
  },
  {
   "cell_type": "markdown",
   "id": "c44402fb-853f-4f56-a393-4f99d9a9f19f",
   "metadata": {},
   "source": [
    "## Collecting data from Nevermind album (original 1991 release)"
   ]
  },
  {
   "cell_type": "code",
   "execution_count": 10,
   "id": "1f88166b-f770-4b75-9f86-8b7b331556da",
   "metadata": {},
   "outputs": [
    {
     "name": "stdout",
     "output_type": "stream",
     "text": [
      "Total tracks: 12\n"
     ]
    }
   ],
   "source": [
    "album_id = \"spotify:album:6okv1avxEgYSdc2JYy6ZEi\"\n",
    "\n",
    "all_tracks = []\n",
    "\n",
    "while(True):\n",
    "    results = sp.album_tracks(album_id)\n",
    "    \n",
    "    tracks = results['items']\n",
    "    \n",
    "    for track in tracks:\n",
    "        all_tracks.append(sp.track(track['uri']))\n",
    "    \n",
    "    if len(tracks) < limit:\n",
    "        break\n",
    "    \n",
    "    offset += limit\n",
    "\n",
    "\n",
    "print(\"Total tracks:\", len(all_tracks))"
   ]
  },
  {
   "cell_type": "code",
   "execution_count": 11,
   "id": "443fa9a9-c9a3-40d0-885c-8d976cbdbe80",
   "metadata": {},
   "outputs": [],
   "source": [
    "nevermind = all_tracks"
   ]
  },
  {
   "cell_type": "markdown",
   "id": "542ddbca-e8af-4339-b112-f3e672da53b6",
   "metadata": {},
   "source": [
    "## Collecting data from In Utero album (original 1993 release)"
   ]
  },
  {
   "cell_type": "code",
   "execution_count": 12,
   "id": "e82c56ed-0217-4340-a42b-b1bc49eee2a5",
   "metadata": {},
   "outputs": [
    {
     "name": "stdout",
     "output_type": "stream",
     "text": [
      "Total tracks: 12\n"
     ]
    }
   ],
   "source": [
    "album_id = \"spotify:album:76lXykCRFf2Nlsn9CrzD3G\"\n",
    "\n",
    "all_tracks = []\n",
    "\n",
    "while(True):\n",
    "    results = sp.album_tracks(album_id)\n",
    "    \n",
    "    tracks = results['items']\n",
    "    \n",
    "    for track in tracks:\n",
    "        all_tracks.append(sp.track(track['uri']))\n",
    "    \n",
    "    if len(tracks) < limit:\n",
    "        break\n",
    "    \n",
    "    offset += limit\n",
    "\n",
    "\n",
    "print(\"Total tracks:\", len(all_tracks))"
   ]
  },
  {
   "cell_type": "code",
   "execution_count": 13,
   "id": "45429ecb-80f0-4190-a475-8905622c2897",
   "metadata": {},
   "outputs": [],
   "source": [
    "inutero = all_tracks"
   ]
  },
  {
   "cell_type": "markdown",
   "id": "07cc759e",
   "metadata": {},
   "source": [
    "### Merging data"
   ]
  },
  {
   "cell_type": "code",
   "execution_count": 14,
   "id": "1f2974bc",
   "metadata": {},
   "outputs": [
    {
     "data": {
      "text/plain": [
       "416"
      ]
     },
     "execution_count": 14,
     "metadata": {},
     "output_type": "execute_result"
    }
   ],
   "source": [
    "final_list = playlist_1\n",
    "\n",
    "for track in playlist_2:\n",
    "    if track not in final_list:\n",
    "        final_list.append(track)\n",
    "for track in playlist_3:\n",
    "    if track not in final_list:\n",
    "        final_list.append(track)\n",
    "for track in nevermind:\n",
    "    if track not in final_list:\n",
    "        final_list.append(track)\n",
    "for track in inutero:\n",
    "    if track not in final_list:\n",
    "        final_list.append(track)\n",
    "\n",
    "len(final_list)"
   ]
  },
  {
   "cell_type": "markdown",
   "id": "93edb93d",
   "metadata": {},
   "source": [
    "### Transforming data into a dataset"
   ]
  },
  {
   "cell_type": "code",
   "execution_count": 15,
   "id": "a4393962",
   "metadata": {},
   "outputs": [],
   "source": [
    "tracks_dict = {}\n",
    "\n",
    "track_names = []\n",
    "album_names = []\n",
    "album_types = []\n",
    "duration = []\n",
    "year = []\n",
    "artists = []\n",
    "\n",
    "acousticness = []\n",
    "danceability = []\n",
    "energy = []\n",
    "instrumentalness = []\n",
    "key = []\n",
    "liveness = []\n",
    "loudness = []\n",
    "mode = []\n",
    "speechiness = []\n",
    "tempo = []\n",
    "time_signature = []\n",
    "valence = []\n",
    "\n",
    "for track in final_list:\n",
    "    audio = sp.audio_features(tracks=track['id'])\n",
    "    \n",
    "    track_names.append(track['name'])\n",
    "    album_names.append(track['album']['name'])\n",
    "    album_types.append(track['album']['album_type'])\n",
    "    duration.append(math.floor(track['duration_ms']/1000))\n",
    "    year.append(track['album']['release_date'][0:4])\n",
    "    artists.append(''.join([artist['name'] for artist in track['artists']]))\n",
    "        \n",
    "    acousticness.append(audio[0]['acousticness'])\n",
    "    danceability.append(audio[0]['danceability'])\n",
    "    energy.append(audio[0]['energy'])\n",
    "    instrumentalness.append(audio[0]['instrumentalness'])\n",
    "    key.append(audio[0]['key'])\n",
    "    liveness.append(audio[0]['liveness'])\n",
    "    loudness.append(audio[0]['loudness'])\n",
    "    mode.append(audio[0]['mode'])\n",
    "    speechiness.append(audio[0]['speechiness'])\n",
    "    tempo.append(audio[0]['tempo'])\n",
    "    time_signature.append(audio[0]['time_signature'])\n",
    "    valence.append(audio[0]['valence'])    \n",
    "        \n",
    "tracks_dict['track_name'] = track_names\n",
    "tracks_dict['album_name'] = album_names\n",
    "tracks_dict['album_type'] = album_types\n",
    "tracks_dict['duration'] = duration\n",
    "tracks_dict['release_year'] = year\n",
    "tracks_dict['artists'] = artists\n",
    "\n",
    "tracks_dict['acousticness'] = acousticness\n",
    "tracks_dict['danceability'] = danceability\n",
    "tracks_dict['energy'] = energy\n",
    "tracks_dict['instrumentalness'] = instrumentalness\n",
    "tracks_dict['key'] = key\n",
    "tracks_dict['liveness'] = liveness\n",
    "tracks_dict['loudness'] = loudness\n",
    "tracks_dict['mode'] = mode\n",
    "tracks_dict['speechiness'] = speechiness\n",
    "tracks_dict['tempo'] = tempo\n",
    "tracks_dict['time_signature'] = time_signature\n",
    "tracks_dict['valence'] = valence"
   ]
  },
  {
   "cell_type": "code",
   "execution_count": 27,
   "id": "53ad236a",
   "metadata": {},
   "outputs": [],
   "source": [
    "df = pd.DataFrame(tracks_dict)"
   ]
  },
  {
   "cell_type": "markdown",
   "id": "e4c974b3-e198-498c-936e-efb1ca4c5031",
   "metadata": {},
   "source": [
    "#### Sledeće promene su napravljene zbog stavki navedenih u napomenama."
   ]
  },
  {
   "cell_type": "code",
   "execution_count": 28,
   "id": "f69d2b6f",
   "metadata": {},
   "outputs": [],
   "source": [
    "df.loc[df['album_name'] == 'Bleach (Deluxe Edition)','release_year'] = 2009\n",
    "\n",
    "df.loc[df['album_name'] == 'Nevermind (Super Deluxe Edition)', 'release_year'] = 2011\n",
    "df.loc[df['album_name'] == 'Nevermind (Deluxe Edition)', 'release_year'] = 2011\n",
    "\n",
    "df.loc[df['album_name'] == 'In Utero - 20th Anniversary Super Deluxe', 'release_year'] = 2013\n",
    "df.loc[df['album_name'] == 'In Utero - 20th Anniversary - Deluxe Edition', 'release_year'] = 2013\n",
    "df.loc[df['album_name'] == 'In Utero - 20th Anniversary Remaster', 'release_year'] = 2013\n",
    "\n",
    "df.loc[df['album_name'] == 'Live At The Paramount', 'release_year'] = 2011"
   ]
  },
  {
   "cell_type": "code",
   "execution_count": 29,
   "id": "4b5430c0-7953-433b-b2b1-296179e08c31",
   "metadata": {},
   "outputs": [],
   "source": [
    "df.loc[(df['album_name'] == 'Bleach') | (df['album_name'] == 'Nevermind') | (df['album_name'] == 'In Utero'), 'album_type'] = 'studio album'\n",
    "\n",
    "df.loc[(df['album_name'] == 'MTV Unplugged In New York') \n",
    "| (df['album_name'] == 'From The Muddy Banks Of The Wishkah (Live)') \n",
    "| (df['album_name'] == 'Live at Reading')\n",
    "| (df['album_name'] == 'Live At The Paramount')\n",
    "| (df['album_name'] == 'Live And Loud'), 'album_type'] = 'live album'\n",
    "\n",
    "df.loc[(df['album_name'] == 'Incesticide') \n",
    "| (df['album_name'] == 'Nirvana') \n",
    "| (df['album_name'] == 'Sliver - The Best Of The Box'), 'album_type'] = 'compilation album'\n",
    "\n",
    "df.loc[(df['album_name'] == 'With The Lights Out - Box Set'), 'album_type'] = 'box set'\n",
    "\n",
    "df.loc[df['album_type'] == 'album', 'album_type'] = 'rerelease'"
   ]
  },
  {
   "cell_type": "markdown",
   "id": "a9f8e44b-e0fa-4a07-903a-6f2ebf004470",
   "metadata": {},
   "source": [
    "#### Sledeće promene napravljene su zbog poklapanja podataka u različitim data setovima"
   ]
  },
  {
   "cell_type": "code",
   "execution_count": 30,
   "id": "14868170-639a-493e-94bd-cf23ae172f72",
   "metadata": {},
   "outputs": [],
   "source": [
    "# Capializing every word in every track and album title\n",
    "df.loc[:,['track_name', 'album_name']] = df.loc[:,['track_name', 'album_name']].apply(lambda x: x.str.title())"
   ]
  },
  {
   "cell_type": "code",
   "execution_count": 31,
   "id": "9812d9d9-0dd1-438f-a1d6-bea1259a4218",
   "metadata": {},
   "outputs": [],
   "source": [
    "# Cleaning album names\n",
    "\n",
    "df.loc[df['album_name'] == 'Live At The Paramount', 'track_name'] = df.loc[df['album_name'] == 'Live At The Paramount', 'track_name'].apply(lambda x: x[:-29])\n",
    "df.loc[df['album_name'] == 'Live At Reading', 'track_name'] = df.loc[df['album_name'] == 'Live At Reading', 'track_name'].apply(lambda x: x[:-23])\n",
    "df.loc[df['album_name'] == 'Live And Loud', 'track_name'] = df.loc[df['album_name'] == 'Live And Loud', 'track_name'].apply(lambda x: x[:-14])\n",
    "df.loc[261:321, 'album_name'] = df.loc[261:321, 'album_name'].str.split(' - ').str[0] # With The Lights Out\n",
    "df.loc[244:260,'album_name'] = df.loc[244:260,'album_name'].str.rstrip(' (Live)') #  From The Muddy Banks"
   ]
  },
  {
   "cell_type": "code",
   "execution_count": null,
   "id": "435dbef8-69dd-44ac-8424-c23eb556d1be",
   "metadata": {},
   "outputs": [],
   "source": []
  },
  {
   "cell_type": "code",
   "execution_count": 32,
   "id": "76f6c41a-51d3-4579-b332-4ad2f7ca164d",
   "metadata": {},
   "outputs": [],
   "source": [
    "# Cleaning track names\n",
    "\n",
    "df.loc[[141,145], 'track_name'] = df.loc[[141,145], 'track_name'].str.slice(0,-27) # Incecticide\n",
    "df.loc[[142,143,144], 'track_name'] = df.loc[[142,144], 'track_name'].str.slice(0,-29) # Incecticide\n",
    "\n",
    "df.loc[230:243, 'track_name'] = df.loc[230:243, 'track_name'].str.split(' - ').str[0] # Mtv Unplugged In New York\n",
    "\n",
    "df.loc[244:260, 'track_name'] = df.loc[244:260, 'track_name'].str.split(' - ').str[0] # From The Muddy Banks\n",
    "\n",
    "df.loc[261:321, 'track_name'] = df.loc[261:321, 'track_name'].str.split(' - ').str[0] # With The Lights Out\n",
    "\n",
    "df.loc[321:343,'track_name'] = df.loc[321:343,'track_name'].str.split(' - ').str[0] # Sliver - The Best Of The Box\n",
    "\n",
    "df.loc[344:357,'track_name'] = df.loc[344:357,'track_name'].str.split(' - ').str[0] # Nirvana"
   ]
  },
  {
   "cell_type": "code",
   "execution_count": 33,
   "id": "0cae2943-d19b-4fcc-8b1a-b1e819da50f8",
   "metadata": {},
   "outputs": [],
   "source": [
    "df.loc[143,'track_name'] = 'Molly\\'S Lips'"
   ]
  },
  {
   "cell_type": "markdown",
   "id": "9d43700f-a08d-4fdf-af25-ab081947660a",
   "metadata": {},
   "source": [
    "#### Čuvanje podatka u .csv datoteku."
   ]
  },
  {
   "cell_type": "code",
   "execution_count": 34,
   "id": "bf61f9fa-50bc-47fd-9e21-b7329c845986",
   "metadata": {},
   "outputs": [],
   "source": [
    "df.to_csv('nirvana_spotify.csv', index=False)\n",
    "df.to_csv('nirvana_v2.csv', index=False)"
   ]
  },
  {
   "cell_type": "code",
   "execution_count": null,
   "id": "1089a6f8-9eec-48ee-9e82-5799106e7317",
   "metadata": {},
   "outputs": [],
   "source": []
  }
 ],
 "metadata": {
  "kernelspec": {
   "display_name": "Python 3 (ipykernel)",
   "language": "python",
   "name": "python3"
  },
  "language_info": {
   "codemirror_mode": {
    "name": "ipython",
    "version": 3
   },
   "file_extension": ".py",
   "mimetype": "text/x-python",
   "name": "python",
   "nbconvert_exporter": "python",
   "pygments_lexer": "ipython3",
   "version": "3.10.9"
  }
 },
 "nbformat": 4,
 "nbformat_minor": 5
}
