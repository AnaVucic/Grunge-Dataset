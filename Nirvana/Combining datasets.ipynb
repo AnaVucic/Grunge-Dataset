{
 "cells": [
  {
   "cell_type": "code",
   "execution_count": 57,
   "id": "a6a868ee",
   "metadata": {},
   "outputs": [],
   "source": [
    "import pandas as pd\n",
    "pd.options.display.max_rows = 999\n",
    "pd.options.display.max_columns = 99"
   ]
  },
  {
   "cell_type": "code",
   "execution_count": 58,
   "id": "2f0356a3",
   "metadata": {},
   "outputs": [],
   "source": [
    "spot = pd.read_csv('nirvana_spotify.csv')\n",
    "wiki = pd.read_csv('nirvana_wiki.csv')\n",
    "allmusic = pd.read_csv('nirvana_allmusic.csv')"
   ]
  },
  {
   "cell_type": "code",
   "execution_count": 59,
   "id": "0b7b1c3a",
   "metadata": {},
   "outputs": [
    {
     "name": "stdout",
     "output_type": "stream",
     "text": [
      "Spotify:\t(416, 18)\n",
      "Wiki:\t\t(120, 5)\n",
      "AllMusic:\t(1195, 15)\n"
     ]
    }
   ],
   "source": [
    "print(f'Spotify:\\t{spot.shape}')\n",
    "print(f'Wiki:\\t\\t{wiki.shape}')\n",
    "print(f'AllMusic:\\t{allmusic.shape}')"
   ]
  },
  {
   "cell_type": "markdown",
   "id": "4441e224-f3f8-4216-801e-9b829c2420f7",
   "metadata": {},
   "source": [
    "## Spotify + Wikipedia"
   ]
  },
  {
   "cell_type": "code",
   "execution_count": 60,
   "id": "bd1cc949",
   "metadata": {
    "scrolled": true
   },
   "outputs": [],
   "source": [
    "nirvana = spot.merge(wiki, how='left', on=['track_name','album_name'])\n",
    "# nirvana.drop('songs', axis=1,inplace=True)"
   ]
  },
  {
   "cell_type": "code",
   "execution_count": 61,
   "id": "1f1bbbb8",
   "metadata": {},
   "outputs": [
    {
     "name": "stdout",
     "output_type": "stream",
     "text": [
      "Base + Wiki: (416, 21)\n"
     ]
    }
   ],
   "source": [
    "print(f'Base + Wiki: {nirvana.shape}')"
   ]
  },
  {
   "cell_type": "code",
   "execution_count": 62,
   "id": "7c86b196-7b7f-48f6-859a-0269a9fd4524",
   "metadata": {},
   "outputs": [],
   "source": [
    "nirvana.drop('release_year_y', axis=1, inplace=True)\n",
    "nirvana.rename(columns={'release_year_x':'release_year'},inplace=True)"
   ]
  },
  {
   "cell_type": "code",
   "execution_count": 63,
   "id": "419028dd-bec9-4bbf-af6f-f1940b0cfff6",
   "metadata": {},
   "outputs": [
    {
     "name": "stdout",
     "output_type": "stream",
     "text": [
      "Spotify + Wikipedia:\t(416, 20)\n"
     ]
    }
   ],
   "source": [
    "print(f'Spotify + Wikipedia:\\t{nirvana.shape}')"
   ]
  },
  {
   "cell_type": "code",
   "execution_count": 64,
   "id": "cb70b8b8",
   "metadata": {},
   "outputs": [],
   "source": [
    "nirvana.to_csv('nirvana_v3.csv', index = False)"
   ]
  },
  {
   "cell_type": "markdown",
   "id": "ae8113e7-1b58-4189-9c3e-c93e02d68b21",
   "metadata": {},
   "source": [
    "## Spotify + Wikipdeia + AllMusic"
   ]
  },
  {
   "cell_type": "code",
   "execution_count": 65,
   "id": "2c38b5cf",
   "metadata": {},
   "outputs": [],
   "source": [
    "nirvana2 = nirvana.merge(allmusic, how = 'left', on=['track_name','album_name'])"
   ]
  },
  {
   "cell_type": "code",
   "execution_count": 66,
   "id": "9a36f2d4-2e21-4125-8af7-9850269f1840",
   "metadata": {},
   "outputs": [],
   "source": [
    "# The following albums will be dropped so that only original songs remain in the dataset\n",
    "indices = nirvana2.loc[ \n",
    "(nirvana2['album_name'] == 'Nevermind (Super Deluxe Edition)') | \n",
    "( nirvana2['album_name'] == 'In Utero (Super Deluxe Edition)') |\n",
    "( nirvana2['album_name'] == 'Nevermind (Remastered)') |\n",
    "( nirvana2['album_name'] == 'Bleach (Deluxe Edition)') |\n",
    "( nirvana2['album_name'] == 'In Utero (Deluxe Edition)') |\n",
    "( nirvana2['album_name'] == 'Bleach: Deluxe Edition') |\n",
    "( nirvana2['album_name'] == 'Nevermind (Deluxe Edition)'),].index\n",
    "\n",
    "nirvana2.drop(indices, inplace=True)"
   ]
  },
  {
   "cell_type": "code",
   "execution_count": 67,
   "id": "24f250bf-392b-4b7f-8465-7b2ddaea231a",
   "metadata": {},
   "outputs": [],
   "source": [
    "nirvana2.to_csv('nirvana_v4.csv', index=False)"
   ]
  },
  {
   "cell_type": "code",
   "execution_count": null,
   "id": "8d49a7e8-95b6-4ab8-90f1-4bc02adf262d",
   "metadata": {},
   "outputs": [],
   "source": []
  },
  {
   "cell_type": "code",
   "execution_count": null,
   "id": "c522a4e3-303d-40f2-ac45-1b6d2fceaafa",
   "metadata": {},
   "outputs": [],
   "source": []
  },
  {
   "cell_type": "code",
   "execution_count": null,
   "id": "9a5fe9c4-1c7f-4610-860f-0d4027287125",
   "metadata": {},
   "outputs": [],
   "source": []
  },
  {
   "cell_type": "code",
   "execution_count": null,
   "id": "95b180ac-8c32-402e-be58-b1e6e8ed74ac",
   "metadata": {},
   "outputs": [],
   "source": []
  }
 ],
 "metadata": {
  "kernelspec": {
   "display_name": "Python 3 (ipykernel)",
   "language": "python",
   "name": "python3"
  },
  "language_info": {
   "codemirror_mode": {
    "name": "ipython",
    "version": 3
   },
   "file_extension": ".py",
   "mimetype": "text/x-python",
   "name": "python",
   "nbconvert_exporter": "python",
   "pygments_lexer": "ipython3",
   "version": "3.10.9"
  }
 },
 "nbformat": 4,
 "nbformat_minor": 5
}
