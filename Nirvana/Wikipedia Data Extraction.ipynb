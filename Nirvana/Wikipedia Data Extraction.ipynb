{
 "cells": [
  {
   "cell_type": "code",
   "execution_count": 78,
   "id": "8c319491",
   "metadata": {},
   "outputs": [],
   "source": [
    "import pandas as pd\n",
    "from bs4 import BeautifulSoup\n",
    "import requests\n",
    "import re\n",
    "\n",
    "pd.options.display.max_rows = 999"
   ]
  },
  {
   "cell_type": "code",
   "execution_count": 2,
   "id": "e889e738",
   "metadata": {},
   "outputs": [],
   "source": [
    "url = 'https://en.wikipedia.org/wiki/List_of_songs_recorded_by_Nirvana'\n",
    "response = requests.get(url)\n",
    "soup = BeautifulSoup(response.content, 'html.parser')"
   ]
  },
  {
   "cell_type": "code",
   "execution_count": 21,
   "id": "8de7924b",
   "metadata": {
    "scrolled": true
   },
   "outputs": [
    {
     "name": "stdout",
     "output_type": "stream",
     "text": [
      "124\n",
      "124\n",
      "124\n",
      "124\n",
      "124\n"
     ]
    }
   ],
   "source": [
    "table = soup.find_all('table', class_ = 'wikitable sortable plainrowheaders')[0]\n",
    "\n",
    "column_names = ['track_name', 'writers', 'original_release', 'producers', 'release_year']\n",
    "\n",
    "songs = []\n",
    "writers = []\n",
    "original = []\n",
    "producers = []\n",
    "year = []\n",
    "\n",
    "rows = table.find_all('tr')\n",
    "\n",
    "# SONGS\n",
    "\n",
    "for row in rows[1:]:    \n",
    "    if row.th.string:\n",
    "        songs.append(row.th.string.replace(\"\\n\",\"\").replace('\"','').strip())\n",
    "        continue\n",
    "        \n",
    "    if row.th.a:\n",
    "        songs.append(row.th.a.string.replace(\"\\n\",\"\").replace('\"','').strip())\n",
    "        continue\n",
    "        \n",
    "    if row.th.contents[0].name == 'span':\n",
    "        if row.th.span.string == None:\n",
    "            songs.append(row.th.contents[1].replace(\"\\n\",\"\").replace('\"','').strip())\n",
    "            continue\n",
    "        else:\n",
    "            songs.append(row.th.contents[0].string.replace(\"\\n\",\"\").replace('\"','').strip())\n",
    "            continue\n",
    "    songs.append(row.th.contents[0].string.replace(\"\\n\",\"\").replace('\"','').strip())\n",
    "\n",
    "# WRITERS\n",
    "\n",
    "for row in rows:\n",
    "    if row.td and row.td.a:\n",
    "        writers.append(', '.join([string for string in row.td.strings if string.strip() \n",
    "                                  and not 'note' in string \n",
    "                                  and not ' (' in string \n",
    "                                  and not 'Unleashed' in string \n",
    "                                  and not 'cover' in string]))\n",
    "    if row.td and not row.td.a:\n",
    "        if not row.td.span:\n",
    "            writers.append(row.td.string.strip())\n",
    "        else:\n",
    "            writers.append(row.td.span.string.strip())\n",
    "\n",
    "# ORIGINAL RELEASES \n",
    "\n",
    "for row in rows[1:]:\n",
    "    data = row.find_all('td')[1]\n",
    "    if 'Non-album single' in ''.join([string for string in data.strings]):\n",
    "        original.append('Non-album single')\n",
    "        continue\n",
    "        \n",
    "    if data.i and data.i.a:\n",
    "        original.append(data.i.a.string)\n",
    "        continue\n",
    "    elif data.i:\n",
    "        original.append(data.i.string)\n",
    "        continue\n",
    "    else:\n",
    "        original.append('Unknown')\n",
    "\n",
    "# PRODUCERS\n",
    "\n",
    "for row in rows[1:]:\n",
    "    \n",
    "    data = row.find_all('td')[2]\n",
    "    \n",
    "    if '–' in str(data):\n",
    "        producers.append('Unknown')\n",
    "        continue\n",
    "        \n",
    "    if data.br:\n",
    "        p = []\n",
    "        for a in data.find_all('a'):\n",
    "            p.append(a.string)\n",
    "        producers.append(', '.join(p))\n",
    "        continue\n",
    "        \n",
    "    if data.span and data.span.a:\n",
    "        producers.append(data.span.a.string)\n",
    "        continue\n",
    "    \n",
    "    if data.span:\n",
    "        producers.append(data.span.string)\n",
    "        continue\n",
    "        \n",
    "    if not data.string:\n",
    "        producers.append('Unknown')\n",
    "        continue\n",
    "\n",
    "# RELEASE YEAR\n",
    "\n",
    "for row in rows[1:]:\n",
    "    data = row.find_all('td')[3]\n",
    "    year.append((int(data.string[0:4]) if data.string else -1))\n",
    "\n",
    "    \n",
    "print(len(writers))\n",
    "print(len(songs))\n",
    "print(len(original))\n",
    "print(len(producers))\n",
    "print(len(year))"
   ]
  },
  {
   "cell_type": "code",
   "execution_count": 90,
   "id": "44a06cf3",
   "metadata": {},
   "outputs": [],
   "source": [
    "df = pd.DataFrame({\n",
    "    'track_name': songs,\n",
    "    'album_name' : original,\n",
    "    'release_year': year,\n",
    "    'producers' : producers,\n",
    "    'writers' : writers\n",
    "})"
   ]
  },
  {
   "cell_type": "markdown",
   "id": "55713ddc-28d3-45ca-9dcf-84e445a54969",
   "metadata": {},
   "source": [
    "### Cleaning the data"
   ]
  },
  {
   "cell_type": "code",
   "execution_count": 91,
   "id": "952e8a19-5c28-41bf-bbe0-3f4160b98393",
   "metadata": {},
   "outputs": [],
   "source": [
    "df.drop(labels=[120,121,122, 123], axis=0, inplace=True)"
   ]
  },
  {
   "cell_type": "code",
   "execution_count": 92,
   "id": "d878ad32-1817-421f-b857-6958677f9179",
   "metadata": {},
   "outputs": [],
   "source": [
    "df['release_year'] = df['release_year'].astype('int')"
   ]
  },
  {
   "cell_type": "code",
   "execution_count": 93,
   "id": "c715593b-1b9b-42c7-ba5f-4be972a551c8",
   "metadata": {},
   "outputs": [],
   "source": [
    "df['writers'] = df['writers'].apply(lambda x: x.rstrip(',  †\\n'))"
   ]
  },
  {
   "cell_type": "code",
   "execution_count": 94,
   "id": "e0c13f81-e2e8-4142-ab08-67278cf6e57f",
   "metadata": {},
   "outputs": [],
   "source": [
    "# Capializing every word in every track and album title\n",
    "df.loc[:,['track_name', 'album_name']] = df.loc[:,['track_name', 'album_name']].apply(lambda x: x.str.title())"
   ]
  },
  {
   "cell_type": "code",
   "execution_count": 101,
   "id": "c1f6e6c2-dba8-4e1b-a8a0-53bd6117070f",
   "metadata": {},
   "outputs": [],
   "source": [
    "# Cleaning missing data format\n",
    "df.loc[df['producers'] == 'Unknown'] = ''\n",
    "df.loc[df['writers'] == 'Unknown'] = ''"
   ]
  },
  {
   "cell_type": "code",
   "execution_count": 102,
   "id": "f1a25baa-fef0-48f6-a6ec-c799ffd10892",
   "metadata": {},
   "outputs": [
    {
     "data": {
      "text/plain": [
       "writers\n",
       "Kurt Cobain                                           54\n",
       "                                                      33\n",
       "Kurt Cobain, Dave Grohl, Krist Novoselic               7\n",
       "Traditional                                            4\n",
       "Dave Grohl                                             4\n",
       "Kurt Cobain, Krist Novoselic                           3\n",
       "Eugene Kelly, Frances McKee                            3\n",
       "Curt Kirkwood                                          3\n",
       "Greg Sage                                              2\n",
       "Bob Ezrin, Kim Fowley, Paul Stanley                    1\n",
       "John Cale, Sterling Morrison, Lou Reed, Moe Tucker     1\n",
       "Robbie van Leeuwen                                     1\n",
       "David Bowie                                            1\n",
       "Johnny Hedlund                                         1\n",
       "Kurt Cobain, Mark Lanegan                              1\n",
       "Gerald Casale, Mark Mothersbaugh                       1\n",
       "Name: count, dtype: int64"
      ]
     },
     "execution_count": 102,
     "metadata": {},
     "output_type": "execute_result"
    }
   ],
   "source": [
    "df['writers'].value_counts()"
   ]
  },
  {
   "cell_type": "markdown",
   "id": "073a3346-4c39-4617-9c0b-b98f62c53f55",
   "metadata": {},
   "source": [
    "### Storing the data inside a .csv file"
   ]
  },
  {
   "cell_type": "code",
   "execution_count": 103,
   "id": "33cc490c",
   "metadata": {},
   "outputs": [],
   "source": [
    "df.to_csv('nirvana_wiki.csv', index=False)"
   ]
  },
  {
   "cell_type": "code",
   "execution_count": null,
   "id": "459348a3-bd5e-4186-98fd-d1ffe5958d15",
   "metadata": {},
   "outputs": [],
   "source": []
  }
 ],
 "metadata": {
  "kernelspec": {
   "display_name": "Python 3 (ipykernel)",
   "language": "python",
   "name": "python3"
  },
  "language_info": {
   "codemirror_mode": {
    "name": "ipython",
    "version": 3
   },
   "file_extension": ".py",
   "mimetype": "text/x-python",
   "name": "python",
   "nbconvert_exporter": "python",
   "pygments_lexer": "ipython3",
   "version": "3.10.9"
  }
 },
 "nbformat": 4,
 "nbformat_minor": 5
}
