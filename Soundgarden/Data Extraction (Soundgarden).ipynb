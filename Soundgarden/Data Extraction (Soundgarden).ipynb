{
 "cells": [
  {
   "cell_type": "markdown",
   "id": "225f6368-4e1f-4df7-a6a8-f70be3974f93",
   "metadata": {},
   "source": [
    "# Spotify"
   ]
  },
  {
   "cell_type": "code",
   "execution_count": 145,
   "id": "fd2924f8-a311-4a2b-946b-d310b9083dcb",
   "metadata": {},
   "outputs": [],
   "source": [
    "import spotipy\n",
    "import pandas as pd\n",
    "import math\n",
    "from spotipy.oauth2 import SpotifyClientCredentials\n",
    "\n",
    "import warnings\n",
    "warnings.filterwarnings(\"ignore\")\n",
    "\n",
    "pd.options.display.max_rows = 6000\n",
    "pd.options.display.max_columns = 999"
   ]
  },
  {
   "cell_type": "code",
   "execution_count": 4,
   "id": "9f79affa-d3f2-4735-abe5-9119d6e8c3d9",
   "metadata": {},
   "outputs": [],
   "source": [
    "sp = spotipy.Spotify(\n",
    "    client_credentials_manager=SpotifyClientCredentials(\n",
    "        client_id='c3c6cbaa304c4c86b120e8d9603d44a4', \n",
    "        client_secret='b8819ea70b3142819602499ee139c24f'), retries=20, status_retries=20)\n",
    "\n",
    "sound_uri = 'spotify:artist:5xUf6j4upBrXZPg6AI4MRK'"
   ]
  },
  {
   "cell_type": "code",
   "execution_count": 6,
   "id": "b9ad5bcc-3609-48a3-981b-a706e4ea4fd6",
   "metadata": {},
   "outputs": [],
   "source": [
    "sound_uri = '5xUf6j4upBrXZPg6AI4MRK'\n",
    "\n",
    "all_tracks = []\n",
    "\n",
    "def get_data(results):\n",
    "    albums = results['items']\n",
    "    \n",
    "    while results['next']:\n",
    "        results = sp.next(results)\n",
    "        albums.extend(results['items'])\n",
    "    \n",
    "    for album in albums:\n",
    "        result = sp.album_tracks(album['uri'])\n",
    "        tracks = result['items']\n",
    "        \n",
    "        while result['next']:\n",
    "            result = sp.next(result)\n",
    "            tracks.extend(result['items'])\n",
    "            \n",
    "        for track in tracks:\n",
    "            new_track = {}\n",
    "            new_track['track_name'] = track['name']\n",
    "            new_track['album_name'] = album['name']\n",
    "            new_track['album_type'] = album['album_type']\n",
    "            new_track['release_year'] = album['release_date'][0:4]\n",
    "            new_track['artists'] = ', '.join([artist['name'] for artist in track['artists']])\n",
    "            new_track['duration'] = math.floor(track['duration_ms']/1000)\n",
    "\n",
    "            try:\n",
    "                audio = sp.audio_features(tracks=track['id'])\n",
    "                new_track['acousticness'] = audio[0]['acousticness']\n",
    "                new_track['danceability'] = audio[0]['danceability']\n",
    "                new_track['energy'] = audio[0]['energy']\n",
    "                new_track['instrumentalness'] = audio[0]['instrumentalness']\n",
    "                new_track['key'] = audio[0]['key']\n",
    "                new_track['liveness'] = audio[0]['liveness']\n",
    "                new_track['loudness'] = audio[0]['loudness']\n",
    "                new_track['mode'] = audio[0]['mode']\n",
    "                new_track['speechiness'] = audio[0]['speechiness']\n",
    "                new_track['tempo'] = audio[0]['tempo']\n",
    "                new_track['time_signature'] = audio[0]['time_signature']\n",
    "                new_track['valence'] = audio[0]['valence']\n",
    "            except:\n",
    "                break\n",
    "            \n",
    "            all_tracks.append(new_track)\n",
    "\n",
    "get_data(sp.artist_albums(sound_uri, album_type='album'))\n",
    "get_data(sp.artist_albums(sound_uri, album_type='single')) "
   ]
  },
  {
   "cell_type": "code",
   "execution_count": 102,
   "id": "a0b96151-c768-41ab-9fe5-e4dd13aa6d54",
   "metadata": {},
   "outputs": [],
   "source": [
    "spot = pd.DataFrame(all_tracks)"
   ]
  },
  {
   "cell_type": "markdown",
   "id": "b0e5e62f-a3bc-40aa-9bfe-c1b22e6a27b0",
   "metadata": {},
   "source": [
    "### Cleaning"
   ]
  },
  {
   "cell_type": "code",
   "execution_count": 103,
   "id": "4c9c003e-8cfe-464c-b4e6-82abcbd97a21",
   "metadata": {},
   "outputs": [],
   "source": [
    "# Choosing only original studio albums, singles and extended plays\n",
    "\n",
    "albums = ['Ultramega OK (Expanded Reissue)', 'Louder Than Love', 'Badmotorfinger', 'Superunknown (20th Anniversary)','Down On The Upside', 'King Animal (Deluxe Version)','Screaming Life/Fopp']\n",
    "indices = []\n",
    "for i, v in spot['album_name'].items():\n",
    "    if v in albums: indices.append(i)\n",
    "\n",
    "spot = spot.loc[indices,]\n",
    "spot = spot.reset_index(drop=True)\n",
    "spot['album_type'] = 'studio album'\n",
    "spot.loc[spot['album_name'] == 'Screaming Life/Fopp', 'album_type'] = 'extended play'"
   ]
  },
  {
   "cell_type": "markdown",
   "id": "694fc382-1c80-451b-abae-7899201b72aa",
   "metadata": {},
   "source": [
    "## Saving"
   ]
  },
  {
   "cell_type": "code",
   "execution_count": 104,
   "id": "54ddd011-65bf-4c18-a19c-6366448d0d02",
   "metadata": {},
   "outputs": [],
   "source": [
    "spot.to_csv('soundgarden_spotify.csv')"
   ]
  },
  {
   "cell_type": "markdown",
   "id": "4631c0f0-21af-467a-abba-d3cabb915846",
   "metadata": {},
   "source": [
    "# Wiki"
   ]
  },
  {
   "cell_type": "code",
   "execution_count": 1,
   "id": "19d0e69e-059f-4308-9b42-8ad644f2f199",
   "metadata": {},
   "outputs": [],
   "source": [
    "import pandas as pd\n",
    "import numpy as np\n",
    "from bs4 import BeautifulSoup\n",
    "import requests\n",
    "import re"
   ]
  },
  {
   "cell_type": "code",
   "execution_count": 106,
   "id": "ddea1ef4-271d-4a4f-a10d-1753af8b3594",
   "metadata": {},
   "outputs": [],
   "source": [
    "url = 'https://en.wikipedia.org/wiki/List_of_songs_recorded_by_Soundgarden'\n",
    "response = requests.get(url)\n",
    "soup = BeautifulSoup(response.content, 'html.parser')"
   ]
  },
  {
   "cell_type": "code",
   "execution_count": 112,
   "id": "74323604-f0c7-4324-a81d-a110985f0a7b",
   "metadata": {},
   "outputs": [],
   "source": [
    "table = soup.find_all('table', class_ = 'wikitable')[1]"
   ]
  },
  {
   "cell_type": "code",
   "execution_count": 165,
   "id": "b29c8e36-333b-4ffa-a635-3d125bae9e27",
   "metadata": {},
   "outputs": [],
   "source": [
    "rows = table('tr')\n",
    "del rows[0]\n",
    "\n",
    "data = []\n",
    "\n",
    "for row in rows:\n",
    "    d = {}\n",
    "    d['track_title'] = row('th')[0].text.strip().split('\"')[1]\n",
    "    d['album_title'] = row('td')[1].text.strip('\"').strip()\n",
    "    d['writers'] = ', '.join([x.text for x in row('td')[0].find_all('a')])\n",
    "    d['release_year'] = row('td')[2].text.strip()\n",
    "    data.append(d)\n",
    "wiki = pd.DataFrame(data)"
   ]
  },
  {
   "cell_type": "code",
   "execution_count": 167,
   "id": "98fa71d0-1242-4396-b4e3-ddb7573e060f",
   "metadata": {},
   "outputs": [],
   "source": [
    "wiki.to_csv('soundgarden_wiki.csv', index=False)"
   ]
  },
  {
   "cell_type": "markdown",
   "id": "0b8a09e1-3798-466d-ab8b-451ee9f21fc8",
   "metadata": {},
   "source": [
    "# AllMusic"
   ]
  },
  {
   "cell_type": "code",
   "execution_count": 2,
   "id": "0ae37f4d-a5d8-4cd5-b7fa-b8af75a86703",
   "metadata": {},
   "outputs": [],
   "source": [
    "from selenium import webdriver\n",
    "from selenium.webdriver.firefox.service import Service as FirefoxService\n",
    "from webdriver_manager.firefox import GeckoDriverManager\n",
    "from selenium.webdriver.chrome.service import Service as ChromeService\n",
    "from webdriver_manager.chrome import ChromeDriverManager\n",
    "from selenium.webdriver.common.by import By\n",
    "from selenium.webdriver.support.ui import Select\n",
    "\n",
    "from selenium.webdriver.support.ui import WebDriverWait\n",
    "from selenium.webdriver.support import expected_conditions as EC\n",
    "from selenium.common.exceptions import TimeoutException\n",
    "\n",
    "\n",
    "import pandas as pd"
   ]
  },
  {
   "cell_type": "code",
   "execution_count": 3,
   "id": "bd625ee5-8e56-4ad4-9f29-c0098ac36482",
   "metadata": {},
   "outputs": [],
   "source": [
    "from requests_html import HTMLSession\n",
    "session = HTMLSession()"
   ]
  },
  {
   "cell_type": "code",
   "execution_count": 4,
   "id": "ff6ffc8b-e226-4a42-bd30-ec91d96f44f0",
   "metadata": {},
   "outputs": [
    {
     "name": "stderr",
     "output_type": "stream",
     "text": [
      "C:\\Users\\ANA\\AppData\\Local\\Temp\\ipykernel_1316\\1819641072.py:2: DeprecationWarning: Firefox will soon stop logging to geckodriver.log by default; Specify desired logs with log_output\n",
      "  driver = webdriver.Firefox(service=FirefoxService(GeckoDriverManager().install()))\n"
     ]
    }
   ],
   "source": [
    "\n",
    "# driver = webdriver.Chrome(service=FireService(ChromeDriverManager().install()))\n",
    "driver = webdriver.Firefox(service=FirefoxService(GeckoDriverManager().install()))\n",
    "driver.get(\"https://www.allmusic.com/artist/soundgarden-mn0000001098#discography\")\n"
   ]
  },
  {
   "cell_type": "code",
   "execution_count": 24,
   "id": "01e4317a-a85e-4406-8459-f3d77f40795a",
   "metadata": {},
   "outputs": [],
   "source": [
    "# Select the option 'All' from Discography select options\n",
    "select = Select(driver.find_element(By.XPATH, '//*[@id=\"releaseType\"]'))\n",
    "select.select_by_value('all')\n",
    "\n",
    "# Get HTML page source\n",
    "source = driver.page_source\n",
    "\n",
    "# Convert HTML page source to BeautifulSoup object\n",
    "soup = BeautifulSoup(source, 'lxml')"
   ]
  },
  {
   "cell_type": "code",
   "execution_count": 25,
   "id": "47dacf09-94ee-4338-90cf-dad1ec7d6126",
   "metadata": {},
   "outputs": [],
   "source": [
    "def get_page_data(url):\n",
    "    \"\"\"\n",
    "    Input a page URL to get a BeautifulSoup object from that page.\n",
    "    \"\"\"\n",
    "    driver.get(url)\n",
    "    source = driver.page_source\n",
    "    soup = BeautifulSoup(source, 'lxml')\n",
    "    return soup"
   ]
  },
  {
   "cell_type": "code",
   "execution_count": 26,
   "id": "d43071ec-7a92-46a4-9d9b-7541883d7375",
   "metadata": {},
   "outputs": [],
   "source": [
    "def get_album_page_links(soup):\n",
    "    \"\"\"\n",
    "    Input a BeautifulSoup object to get links to all albums present on that discography page\n",
    "    \"\"\"\n",
    "    links = []\n",
    "    data = soup.find_all('td', class_ = 'meta')\n",
    "    for album in data:\n",
    "        if album.find('a'):\n",
    "            links.append(album.find('a')['href'])\n",
    "    return links\n",
    "\n",
    "def get_track_page_links(soup):\n",
    "    \"\"\"\n",
    "    Input a BeautifulSoup object to get links to all tracks present on that album page\n",
    "    \"\"\"\n",
    "    links = []\n",
    "    data = soup.find_all('div', class_ = 'title')\n",
    "    for track in data:\n",
    "        if track.find('a'):\n",
    "            links.append(track.find('a')['href'])\n",
    "    return links\n",
    "\n",
    "album_links = get_album_page_links(soup)"
   ]
  },
  {
   "cell_type": "code",
   "execution_count": 27,
   "id": "4bcd5627-2e99-4956-8a0d-0b7fc93f9e9a",
   "metadata": {},
   "outputs": [],
   "source": [
    "def calculate_rating(classes):\n",
    "    \"\"\"\n",
    "    A function to parse classes from AllMusic website as a rating on a scale from [0.5-5.0].\n",
    "    This function will expect a list of css classes as a parameter, and output \n",
    "    rating according to present class.\n",
    "    \"\"\"\n",
    "    if 'rating-unrated' in classes: rating = ''\n",
    "    elif 'ratingAllmusic0' in classes: rating = ''\n",
    "    elif 'ratingAllmusic1' in classes: rating = 1.0\n",
    "    elif 'ratingAllmusic2' in classes: rating = 1.5\n",
    "    elif 'ratingAllmusic3' in classes: rating = 2.0\n",
    "    elif 'ratingAllmusic4' in classes: rating = 2.5\n",
    "    elif 'ratingAllmusic5' in classes: rating = 3.0\n",
    "    elif 'ratingAllmusic6' in classes: rating = 3.5\n",
    "    elif 'ratingAllmusic7' in classes: rating = 4.0\n",
    "    elif 'ratingAllmusic8' in classes: rating = 4.5\n",
    "    elif 'ratingAllmusic9' in classes: rating = 5.0\n",
    "    return rating"
   ]
  },
  {
   "cell_type": "code",
   "execution_count": 9,
   "id": "14c3c0bc-5e88-4156-87e0-1a107b0f9f80",
   "metadata": {},
   "outputs": [],
   "source": [
    "def get_track_data(url):\n",
    "    \"\"\"\n",
    "    This function expects a track URL as a parameter. It returns information about the track\n",
    "    as a dictionary\"\"\"\n",
    "    \n",
    "    page = get_page_data(url)\n",
    "\n",
    "    # TRACK COMPOSERS\n",
    "    track_title = page.find('h1').text.strip()\n",
    "    if page.find('div', class_='composer'):\n",
    "        track_composers = ', '.join([x.text for x in page.find('div', class_='composer').find_all('a')])\n",
    "    else: track_composers = ''\n",
    "\n",
    "    # TRACK GENRES\n",
    "    if page.find('div', class_ = 'genre'):\n",
    "        genres = ', '.join([x.text for x in page.find('div', class_ = 'genre').find_all('a')])\n",
    "    else:\n",
    "        genres = ''\n",
    "\n",
    "    # TRACK STYLES\n",
    "    if page.find('div', class_ = 'styles'):\n",
    "        styles = ', '.join([x.text for x in page.find('div', class_ = 'styles').find_all('a')]) \n",
    "    else:\n",
    "        styles = ''\n",
    "\n",
    "    # OPEN MOODS & THEMES TAB on track page\n",
    "    button = driver.find_element(By.XPATH, '//*[@id=\"moodsThemesSidebarLink\"]')\n",
    "    driver.execute_script(\"arguments[0].click();\", button)\n",
    "    delay = 2\n",
    "\n",
    "    # TRACK MOODS\n",
    "    try:\n",
    "        WebDriverWait(driver, delay).until(EC.presence_of_element_located((By.ID, 'moodsGrid')))\n",
    "        if driver.find_element(By.ID, 'moodsGrid'):\n",
    "            moods = ', '.join([x.text[:-4] for x in driver.find_element(By.ID, 'moodsGrid').find_elements(By.TAG_NAME, 'a')]) \n",
    "        else:\n",
    "            moods = ''\n",
    "    except TimeoutException:\n",
    "        moods = ''\n",
    "\n",
    "    # TRACK THEMES\n",
    "    try:\n",
    "        WebDriverWait(driver, delay).until(EC.presence_of_element_located((By.ID, 'themesGrid')))\n",
    "        if driver.find_element(By.ID, 'themesGrid'):\n",
    "            themes = ', '.join([x.text[:-4] for x in driver.find_element(By.ID, 'themesGrid').find_elements(By.TAG_NAME, 'a')]) \n",
    "        else:\n",
    "            themes = ''\n",
    "    except TimeoutException:\n",
    "        themes = ''\n",
    "    \n",
    "            \n",
    "    return {\n",
    "        'track_title':track_title,\n",
    "        'track_composers':track_composers,\n",
    "        'track_genres':genres, \n",
    "        'track_styles':styles, \n",
    "        'track_moods':moods, \n",
    "        'track_themes':themes\n",
    "    }"
   ]
  },
  {
   "cell_type": "code",
   "execution_count": 10,
   "id": "f72fa95c-0a81-4c13-a80e-8f5201d71f06",
   "metadata": {},
   "outputs": [],
   "source": [
    "def get_data(url):\n",
    "    \"\"\"\n",
    "    This function expects an album page URL. It will scrape all data about the album and all tracks from that album.\n",
    "    It will return a list of all tracks from that album with its corresponding information as a dictionary\"\"\"\n",
    "\n",
    "    album_page = get_page_data(url)\n",
    "\n",
    "    # ALBUM data\n",
    "    album_title = album_page.find(id = 'albumTitle').text.strip()\n",
    "    print(album_title)\n",
    "    album_release_date = [album_page.find('div', class_ = 'release-date').span.text if album_page.find('div', class_ = 'release-date') else '']\n",
    "    album_duration = [album_page.find('div', class_ = 'duration').text.strip() if album_page.find('div', class_ = 'duration') else None ]\n",
    "    album_genre = [album_page.find('div', class_ = 'genre').div.a.text if album_page.find('div', class_ = 'genre') else '']\n",
    "    album_styles = [[a.text for a in album_page.find('div', class_ = 'styles').find_all('a')] if album_page.find('div', class_ = 'styles') else '']\n",
    "    album_recording_date = [album_page.find('div', class_ = 'recording-date').div.text if album_page.find('div', class_ = 'recording-date') else '']\n",
    "    album_recording_location = [album_page.find('div', class_ = 'recording-location').text.strip() if album_page.find('div', class_ = 'recording-location') else '']\n",
    "    album_moods = [x.text.strip() for x in album_page.find_all('span', class_ = 'mood')]\n",
    "    album_themes = [x.text.strip() for x in album_page.find_all('span', class_ = 'theme')]\n",
    "    album_rating = calculate_rating(album_page.find('div', class_ = 'allmusicRating').get('class'))\n",
    "\n",
    "    # OPEN MOODS & THEMES TAB on ablum page\n",
    "    try:\n",
    "        button = driver.find_element(By.XPATH, '//*[@id=\"moodsThemesTab\"]')\n",
    "        driver.execute_script(\"arguments[0].click();\", button)\n",
    "        delay = 2\n",
    "    \n",
    "        # ALBUM MOODS\n",
    "        try:\n",
    "            WebDriverWait(driver, delay).until(EC.presence_of_element_located((By.ID, 'moodsGrid')))\n",
    "            if driver.find_element(By.ID, 'moodsGrid'):\n",
    "                album_moods = ', '.join([x.text for x in driver.find_element(By.ID, 'moodsGrid').find_elements(By.TAG_NAME, 'a')]) \n",
    "            else:\n",
    "                album_moods = ''\n",
    "        except TimeoutException:\n",
    "            album_moods = ''\n",
    "    \n",
    "        # ALBUM THEMES\n",
    "        try:\n",
    "            WebDriverWait(driver, delay).until(EC.presence_of_element_located((By.ID, 'themesGrid')))\n",
    "            if driver.find_element(By.ID, 'themesGrid'):\n",
    "                album_themes = ', '.join([x.text for x in driver.find_element(By.ID, 'themesGrid').find_elements(By.TAG_NAME, 'a')]) \n",
    "            else:\n",
    "                album_themes = ''\n",
    "        except TimeoutException:\n",
    "            album_themes = ''\n",
    "    except:\n",
    "        pass\n",
    "    \n",
    "    # TRACK data\n",
    "    all_tracks_data = []\n",
    "\n",
    "    # OPEN TRACK LISTING TAB on album page\n",
    "    try:\n",
    "        button = driver.find_element(By.XPATH, '//*[@id=\"trackListingSidebarLink\"]')\n",
    "        print('Button was found')\n",
    "        driver.execute_script(\"arguments[0].click();\", button)\n",
    "        print('Button was clicked')\n",
    "        delay = 2\n",
    "        try:\n",
    "            WebDriverWait(driver, delay).until(EC.presence_of_element_located((By.ID, 'trackListing')))\n",
    "            album_page = BeautifulSoup(driver.page_source, 'lxml')\n",
    "            track_links = get_track_page_links(album_page)\n",
    "            print(track_links)\n",
    "            if len(track_links) > 0:\n",
    "                for track_link in track_links:\n",
    "                    all_tracks_data.append(get_track_data(track_link))\n",
    "        except TimeoutException:\n",
    "            print('Page took too much time to load')   \n",
    "    except:\n",
    "        print('No Track Listing Button')\n",
    "            \n",
    "    # FINAL data\n",
    "    final_data = []\n",
    "    \n",
    "    for track in all_tracks_data:\n",
    "        final_data.append({\n",
    "            'track_title' : track['track_title'],\n",
    "            'album_title': album_title,\n",
    "            'album_release_date': album_release_date,\n",
    "            'track_composers' : track['track_composers'],\n",
    "            'track_genres': track['track_genres'], \n",
    "            'track_styles': track['track_styles'], \n",
    "            'track_moods': track['track_moods'], \n",
    "            'track_themes': track['track_themes'],\n",
    "            'album_duration' : album_duration,\n",
    "            'album_genres' : album_genre,\n",
    "            'album_styles' : album_styles,\n",
    "            'album_recording_date' : album_recording_date,\n",
    "            'album_recording_location' : album_recording_location,\n",
    "            'album_moods' : album_moods,\n",
    "            'album_themes' : album_themes,\n",
    "            'album_rating' : album_rating\n",
    "        })\n",
    "    return final_data"
   ]
  },
  {
   "cell_type": "markdown",
   "id": "64573e98-fd69-4623-87ae-c2285d42cbcc",
   "metadata": {},
   "source": [
    "### Fetching all data from AllMusic"
   ]
  },
  {
   "cell_type": "code",
   "execution_count": null,
   "id": "e537579a-97d1-4897-bcc7-3181976e934a",
   "metadata": {},
   "outputs": [],
   "source": [
    "all_tracks  = []\n",
    "for i in range(len(album_links)):\n",
    "    new_data = get_data(album_links[i])\n",
    "    all_tracks.extend(new_data)"
   ]
  },
  {
   "cell_type": "code",
   "execution_count": 72,
   "id": "64a5db1f-5f0d-46ec-93f9-3fa2adf260f4",
   "metadata": {},
   "outputs": [],
   "source": [
    "allmusic = pd.DataFrame(all_tracks)"
   ]
  },
  {
   "cell_type": "code",
   "execution_count": 73,
   "id": "80ca8311-a8e9-4c83-8093-5d35911c76c6",
   "metadata": {},
   "outputs": [],
   "source": [
    "allmusic.drop('album_genres', axis=1, inplace=True)"
   ]
  },
  {
   "cell_type": "code",
   "execution_count": 74,
   "id": "cdd1e41d-49c7-4780-bc12-567f2ad6baa6",
   "metadata": {},
   "outputs": [],
   "source": [
    "allmusic['album_duration'] = allmusic['album_duration'].apply(lambda x: str(x[0]).replace('Duration\\n',''))\n",
    "allmusic['album_styles'] = allmusic['album_styles'].apply(lambda x: ', '.join(x[0]))\n",
    "allmusic['album_recording_date'] = allmusic['album_recording_date'].apply(lambda x: str(x[0]).split(' ')[-1])\n",
    "allmusic['album_release_date'] = allmusic['album_release_date'].apply(lambda x: x[0].split(' ')[-1])\n",
    "allmusic['album_recording_location'] = allmusic['album_recording_location'].apply(lambda x: x[0].replace('Recording Location\\n',''))\n",
    "allmusic['album_moods'] = allmusic['album_moods'].apply(lambda x: ''.join(x) if isinstance(x, list) else x)\n",
    "allmusic['album_themes'] = allmusic['album_themes'].apply(lambda x: ''.join(x) if isinstance(x, list) else x)"
   ]
  },
  {
   "cell_type": "code",
   "execution_count": 76,
   "id": "3d4b0d81-9bdf-45ef-8366-42534a14de7e",
   "metadata": {},
   "outputs": [],
   "source": [
    "allmusic.to_csv('soundgarden_allmusic.csv', index=False)"
   ]
  },
  {
   "cell_type": "markdown",
   "id": "47dbd3f2-7237-4eb4-951d-8503e223a7c4",
   "metadata": {},
   "source": [
    "# Billboard"
   ]
  },
  {
   "cell_type": "code",
   "execution_count": 85,
   "id": "506e96b0-d23d-40af-a7f5-04a24ec02306",
   "metadata": {},
   "outputs": [],
   "source": [
    "from selenium import webdriver\n",
    "from selenium.webdriver.chrome.service import Service as ChromeService\n",
    "from webdriver_manager.chrome import ChromeDriverManager\n",
    "from selenium.webdriver.common.by import By\n",
    "import pandas as pd"
   ]
  },
  {
   "cell_type": "code",
   "execution_count": 86,
   "id": "bf084d6e-cc5c-4ceb-a442-5e105d002ac0",
   "metadata": {},
   "outputs": [],
   "source": [
    "driver = webdriver.Chrome(service=ChromeService(ChromeDriverManager().install()))\n",
    "\n",
    "driver.get(\"https://www.billboard.com/artist/soundgarden/\")"
   ]
  },
  {
   "cell_type": "code",
   "execution_count": 87,
   "id": "fa80ee12-40d4-4d7f-a3d2-b16b86d10fdd",
   "metadata": {},
   "outputs": [],
   "source": [
    "def extract_data(chart_name = \"\"):\n",
    "    data = []\n",
    "    \n",
    "    table = driver.find_element(By.CLASS_NAME, 'artist-chart-history-items')\n",
    "    rows = table.find_elements(By.XPATH, '*')\n",
    "    \n",
    "    for row in rows:\n",
    "        track = {}\n",
    "        track_name = row.find_element(By.ID, 'title-of-a-story')\n",
    "        debut_date = row.find_element(By.CLASS_NAME, 'artist-chart-row-debut-date')\n",
    "        peak_pos = row.find_element(By.CLASS_NAME, 'artist-chart-row-peak-pos')\n",
    "        peak_date = row.find_element(By.CLASS_NAME, 'artist-chart-row-peak-date')\n",
    "        weaks_on_chart = row.find_element(By.CLASS_NAME, 'artist-chart-row-week-on-chart')\n",
    "\n",
    "        track['chart'] = chart_name\n",
    "        track['track_name'] = track_name.text\n",
    "        track['debut_date']  = debut_date.text\n",
    "        track['peak_pos'] = peak_pos.text\n",
    "        track['peak_date'] = peak_date.text\n",
    "        track['weaks_on_chart'] = weaks_on_chart.text\n",
    "        data.append(track)\n",
    "    \n",
    "    return data"
   ]
  },
  {
   "cell_type": "code",
   "execution_count": null,
   "id": "a859a1cd-5ffe-452a-b337-a1140a010f87",
   "metadata": {},
   "outputs": [],
   "source": [
    "import time\n",
    "\n",
    "driver.refresh()\n",
    "\n",
    "filter = driver.find_element(By.XPATH, '//*[@id=\"artist-chart-selector\"]')\n",
    "current_li = 1\n",
    "\n",
    "all_data = []\n",
    "\n",
    "while(True):\n",
    "    if current_li == 55:\n",
    "        break\n",
    "        \n",
    "    # filter.click(x)\n",
    "    delay = 2\n",
    "    try:\n",
    "        WebDriverWait(driver, delay).until(EC.element_to_be_clickable((By.ID, 'artist-chart-selector')))\n",
    "        driver.execute_script(\"arguments[0].click();\", filter)\n",
    "    except TimeoutException:\n",
    "        print('Filter took too much time to load!')\n",
    "\n",
    "    time.sleep(1)\n",
    "    \n",
    "    li_path = f'//*[@id=\"main-wrapper\"]/main/div[2]/div[2]/div/div[2]/div[1]/nav/ul/li[{current_li}]/a'\n",
    "    new_li = driver.find_element(By.XPATH, li_path)\n",
    "    # new_li.click()\n",
    "    try:\n",
    "        WebDriverWait(driver, delay).until(EC.element_to_be_clickable((By.XPATH, li_path)))\n",
    "        driver.execute_script(\"arguments[0].click();\", new_li)\n",
    "    except TimeoutException:\n",
    "        print('List item took too much time to load!')\n",
    "\n",
    "    time.sleep(1)\n",
    "\n",
    "    print(f\"Chart: {new_li.get_attribute('text').strip()}\", end='\\r')\n",
    "    \n",
    "    all_data.extend(extract_data(chart_name=new_li.get_attribute('text').strip()))\n",
    "    \n",
    "    current_li += 1\n",
    "driver.refresh()"
   ]
  },
  {
   "cell_type": "code",
   "execution_count": 94,
   "id": "1a728687-80f3-4b0e-9296-4c47d5d46798",
   "metadata": {},
   "outputs": [],
   "source": [
    "import pandas as pd\n",
    "\n",
    "bill = pd.DataFrame(all_data)"
   ]
  },
  {
   "cell_type": "code",
   "execution_count": 95,
   "id": "29ae3e9e-9387-4c5e-b278-5ccfd8670c8f",
   "metadata": {},
   "outputs": [],
   "source": [
    "# Taking into consideration only song charts\n",
    "\n",
    "bill['chart'].value_counts()\n",
    "useful_charts = [\n",
    "    'Mainstream Rock Airplay',\n",
    "    'Alternative Airplay',\n",
    "    'Radio Songs', \n",
    "    'LyricFind U.S.',\n",
    "    'Billboard Hot 100',\n",
    "    'Rock Digital Song Sales',\n",
    "    'Hot Alternative Songs',\n",
    "    'LyricFind Global',\n",
    "    'Alternative Digital Song Sales',\n",
    "    'Billboard Global 200',\n",
    "    'Canadian Digital Song Sales',\n",
    "    'Hot Rock Songs',\n",
    "    'Hot Rock & Alternative Songs',\n",
    "    'Digital Song Sales',\n",
    "    'Rock Streaming Songs',\n",
    "    'Alternative Streaming Songs'\n",
    "    ]\n",
    "indices = bill.loc[bill['chart'].isin(useful_charts),].index\n",
    "\n",
    "bill = bill.loc[indices,]\n",
    "bill.reset_index(drop=True, inplace=True)"
   ]
  },
  {
   "cell_type": "markdown",
   "id": "3637e153-efcf-4131-8b39-116f70bac5eb",
   "metadata": {},
   "source": [
    "## Cleaning"
   ]
  },
  {
   "cell_type": "code",
   "execution_count": 97,
   "id": "05ca590b-bb09-4d13-ba45-cd9e8d7d3147",
   "metadata": {},
   "outputs": [
    {
     "data": {
      "text/html": [
       "<div>\n",
       "<style scoped>\n",
       "    .dataframe tbody tr th:only-of-type {\n",
       "        vertical-align: middle;\n",
       "    }\n",
       "\n",
       "    .dataframe tbody tr th {\n",
       "        vertical-align: top;\n",
       "    }\n",
       "\n",
       "    .dataframe thead th {\n",
       "        text-align: right;\n",
       "    }\n",
       "</style>\n",
       "<table border=\"1\" class=\"dataframe\">\n",
       "  <thead>\n",
       "    <tr style=\"text-align: right;\">\n",
       "      <th></th>\n",
       "      <th>chart</th>\n",
       "      <th>track_name</th>\n",
       "      <th>debut_date</th>\n",
       "      <th>peak_pos</th>\n",
       "      <th>peak_date</th>\n",
       "      <th>weaks_on_chart</th>\n",
       "    </tr>\n",
       "  </thead>\n",
       "  <tbody>\n",
       "    <tr>\n",
       "      <th>51</th>\n",
       "      <td>LyricFind U.S.</td>\n",
       "      <td>4th Of July</td>\n",
       "      <td>07.11.20</td>\n",
       "      <td>7</td>\n",
       "      <td>07.10.21</td>\n",
       "      <td>2</td>\n",
       "    </tr>\n",
       "  </tbody>\n",
       "</table>\n",
       "</div>"
      ],
      "text/plain": [
       "             chart   track_name debut_date peak_pos peak_date weaks_on_chart\n",
       "51  LyricFind U.S.  4th Of July   07.11.20        7  07.10.21              2"
      ]
     },
     "execution_count": 97,
     "metadata": {},
     "output_type": "execute_result"
    }
   ],
   "source": [
    "bill.sample()"
   ]
  },
  {
   "cell_type": "markdown",
   "id": "9da4e7cb-f9b2-4e94-a27a-21b660f3dc9f",
   "metadata": {},
   "source": [
    "## Saving"
   ]
  },
  {
   "cell_type": "code",
   "execution_count": 98,
   "id": "1285a16f-1e6b-4dc0-8b6a-8649bcb62ce5",
   "metadata": {},
   "outputs": [],
   "source": [
    "bill.to_csv('soundgarden_billboard.csv', index=False)"
   ]
  },
  {
   "cell_type": "markdown",
   "id": "ab5a0dd7-97e4-4794-941c-6ee089a12fc1",
   "metadata": {},
   "source": [
    "# Merging Datasets"
   ]
  },
  {
   "cell_type": "code",
   "execution_count": 312,
   "id": "937ebd5f-d727-45a5-b5ab-ae0e870e0666",
   "metadata": {},
   "outputs": [],
   "source": [
    "spot = pd.read_csv('soundgarden_spotify.csv', usecols=range(1,19))\n",
    "wiki = pd.read_csv('soundgarden_wiki.csv')\n",
    "allmusic = pd.read_csv('soundgarden_allmusic.csv')\n",
    "bill = pd.read_csv('soundgarden_billboard.csv')"
   ]
  },
  {
   "cell_type": "markdown",
   "id": "9bb4dd5c-efbb-455f-af3f-154f006937d5",
   "metadata": {},
   "source": [
    "### Cleaning Spotify"
   ]
  },
  {
   "cell_type": "code",
   "execution_count": 313,
   "id": "adbf6ccd-68e0-40b7-a21f-a25f2f752e4b",
   "metadata": {},
   "outputs": [],
   "source": [
    "spot.loc[spot['album_name'] == 'Ultramega OK (Expanded Reissue)', 'album_name'] = 'Ultramega OK'"
   ]
  },
  {
   "cell_type": "code",
   "execution_count": 314,
   "id": "51fac776-38c2-40a5-8111-8569def8cfae",
   "metadata": {},
   "outputs": [],
   "source": [
    "spot = spot.drop(spot.loc[(spot['album_name'] == 'Badmotorfinger') & (spot['track_name'].str.contains('Live')),].index)"
   ]
  },
  {
   "cell_type": "code",
   "execution_count": 315,
   "id": "d73d4639-5e14-4f81-ba2e-8f13ae1b2a00",
   "metadata": {},
   "outputs": [],
   "source": [
    "spot = spot.reset_index(drop=True)"
   ]
  },
  {
   "cell_type": "code",
   "execution_count": 316,
   "id": "13df084c-826f-4a76-83c7-1e1411e03efc",
   "metadata": {},
   "outputs": [],
   "source": [
    "spot.loc[spot['album_name'] == 'Badmotorfinger', 'track_name'] = spot.loc[spot['album_name'] == 'Badmotorfinger', 'track_name'].str.replace(' - Remastered','')"
   ]
  },
  {
   "cell_type": "code",
   "execution_count": 317,
   "id": "76c180ed-18c5-4c06-8c75-140be97f2af6",
   "metadata": {},
   "outputs": [],
   "source": [
    "spot.loc[spot['album_name'].str.contains('Superunknown \\(20'), 'album_name'] = 'Superunknown'"
   ]
  },
  {
   "cell_type": "code",
   "execution_count": 318,
   "id": "18c4c4c5-ddcd-47cf-ab06-e9ef7cefe419",
   "metadata": {},
   "outputs": [],
   "source": [
    "spot = spot.drop(spot.loc[(spot['album_name'] == 'Superunknown (Super Deluxe)') | (spot['album_name'] == 'Superunknown (Deluxe Edition)')]. index)"
   ]
  },
  {
   "cell_type": "code",
   "execution_count": 319,
   "id": "2a50149c-2a62-4f57-9ca8-3b5ac958e740",
   "metadata": {},
   "outputs": [],
   "source": [
    "spot = spot.reset_index(drop=True)"
   ]
  },
  {
   "cell_type": "code",
   "execution_count": 320,
   "id": "eb991345-b880-4740-bb43-c96a9aea67aa",
   "metadata": {},
   "outputs": [],
   "source": [
    "spot.loc[spot['album_name'].str.contains('King Animal'), 'album_name'] = 'King Animal'"
   ]
  },
  {
   "cell_type": "code",
   "execution_count": 321,
   "id": "0a7dd011-6046-4812-bf16-7b86423c33a4",
   "metadata": {},
   "outputs": [],
   "source": [
    "spot.loc[spot['album_name'].str.contains('Screaming Life'), 'track_name'] = spot.loc[spot['album_name'].str.contains('Screaming Life'), 'track_name'].str.replace(' - Remastered', '')"
   ]
  },
  {
   "cell_type": "code",
   "execution_count": 322,
   "id": "41defaea-e3ed-4592-be18-a8c9122b0652",
   "metadata": {},
   "outputs": [],
   "source": [
    "relevant_albums = ['Ultramega OK', 'Louder Than Love', 'Down On The Upside', 'Badmotorfinger', 'Superunknown', 'King Animal', 'Screaming Life/Fopp']\n",
    "pattern = '|'.join(relevant_albums)\n",
    "spot = spot.loc[spot['album_name'].str.contains(pattern),]\n",
    "spot = spot.reset_index(drop=True)"
   ]
  },
  {
   "cell_type": "code",
   "execution_count": 323,
   "id": "133698b5-481a-437e-bb9e-25e603f9d272",
   "metadata": {},
   "outputs": [],
   "source": [
    "spot['track_album'] = spot['track_name'].str.lower() + ' ' + spot['album_name'].str.lower()"
   ]
  },
  {
   "cell_type": "markdown",
   "id": "eb558441-85d2-4f33-9c46-7906699920b0",
   "metadata": {},
   "source": [
    "### Cleaning Wikipedia"
   ]
  },
  {
   "cell_type": "code",
   "execution_count": 324,
   "id": "261f6d44-93b6-4a5d-9b13-046da85f0d88",
   "metadata": {},
   "outputs": [],
   "source": [
    "wiki = wiki.drop('release_year', axis=1)"
   ]
  },
  {
   "cell_type": "code",
   "execution_count": 325,
   "id": "b6f3fcf7-47c2-4ca2-b9e2-a9e2024750c1",
   "metadata": {},
   "outputs": [],
   "source": [
    "wiki.loc[(wiki['album_title'] == 'Screaming Life') | (wiki['album_title'] == 'Fopp'), 'album_title'] = 'Screaming Life/Fopp'"
   ]
  },
  {
   "cell_type": "code",
   "execution_count": 326,
   "id": "cfc8026b-359e-4dd9-a85a-bcd4d0e9375d",
   "metadata": {},
   "outputs": [],
   "source": [
    "wiki.loc[wiki['track_title'] == 'No Wrong, No Right', 'track_title'] = 'No Wrong No Right'"
   ]
  },
  {
   "cell_type": "code",
   "execution_count": 327,
   "id": "669842b3-ab91-41fd-a849-c7cc31fe4ec7",
   "metadata": {},
   "outputs": [],
   "source": [
    "wiki.loc[wiki['track_title'] == 'Full On (Reprise)', 'track_title'] = 'Full On'"
   ]
  },
  {
   "cell_type": "code",
   "execution_count": 328,
   "id": "ffc1f87e-10f5-4c21-87bc-11744008ab6c",
   "metadata": {},
   "outputs": [],
   "source": [
    "wiki['track_album'] = wiki['track_title'].str.lower() + ' ' + wiki['album_title'].str.lower()"
   ]
  },
  {
   "cell_type": "markdown",
   "id": "13217b4b-9e65-48d2-a70a-5354405ba8d2",
   "metadata": {},
   "source": [
    "### Merging (Spotify+Wikipedia)"
   ]
  },
  {
   "cell_type": "code",
   "execution_count": 329,
   "id": "1b75ccea-5acf-4b73-aa3b-a9fe839045d5",
   "metadata": {},
   "outputs": [],
   "source": [
    "v1 = spot.merge(wiki, how='left', left_on=['track_album'], right_on=['track_album']).drop(['track_title', 'album_title'], axis=1)"
   ]
  },
  {
   "cell_type": "code",
   "execution_count": 330,
   "id": "4b1e19eb-add4-4482-809a-120239e4a93c",
   "metadata": {},
   "outputs": [],
   "source": [
    "v1.replace(np.nan, '').to_csv('soundgarden_v1.csv', index=False)"
   ]
  },
  {
   "cell_type": "markdown",
   "id": "5a6ff37b-859e-4893-a0ef-683f3aa18c84",
   "metadata": {},
   "source": [
    "### Cleaning AllMusic"
   ]
  },
  {
   "cell_type": "code",
   "execution_count": 339,
   "id": "2dfcc243-6dc7-4529-831f-a390ba102c50",
   "metadata": {},
   "outputs": [],
   "source": [
    "allmusic.loc[allmusic['track_title'] == 'Full On (Reprise)', 'track_title'] = 'Full On'"
   ]
  },
  {
   "cell_type": "code",
   "execution_count": 340,
   "id": "c793365f-37c1-4b3c-9a50-6d3f71519540",
   "metadata": {},
   "outputs": [],
   "source": [
    "allmusic['track_album'] = allmusic['track_title'].str.lower() + ' ' + allmusic['album_title'].str.lower()"
   ]
  },
  {
   "cell_type": "markdown",
   "id": "8516314c-4493-4a01-b368-92be8a0e31df",
   "metadata": {},
   "source": [
    "### Merging (+AllMusic)"
   ]
  },
  {
   "cell_type": "code",
   "execution_count": 357,
   "id": "1c778280-38b8-4db4-9922-3124d8004343",
   "metadata": {},
   "outputs": [],
   "source": [
    "v2 = v1.merge(allmusic, how='left', on='track_album')"
   ]
  },
  {
   "cell_type": "code",
   "execution_count": 358,
   "id": "5a561a51-86e7-47a5-aa41-2bd71fba7a60",
   "metadata": {},
   "outputs": [],
   "source": [
    "v2.replace(np.nan, '').to_csv('soundgarden_v2.csv', index=False)"
   ]
  },
  {
   "cell_type": "markdown",
   "id": "2044e529-2033-405b-8ede-de90554ace58",
   "metadata": {},
   "source": [
    "### Cleaning Billboard"
   ]
  },
  {
   "cell_type": "code",
   "execution_count": 360,
   "id": "50565a7f-a857-4066-a743-1ad8173adb1d",
   "metadata": {},
   "outputs": [],
   "source": [
    "sound = v2\n",
    "sound = sound.drop_duplicates(subset=['track_name', 'album_name', 'release_year'])"
   ]
  },
  {
   "cell_type": "code",
   "execution_count": 361,
   "id": "5e0f5255-9aa3-49f0-95a8-e9969b634910",
   "metadata": {},
   "outputs": [],
   "source": [
    "for i in range(bill.shape[0]):\n",
    "\n",
    "    if sound.loc[sound['track_name'].str.title() == bill.loc[i,'track_name'],].index.size == 1:\n",
    "        # If song has only one occurence in sound_sound then input Billboard data there\n",
    "        chart = bill.loc[i,'chart'].lower().replace(' ','_')\n",
    "        track = bill.loc[i,'track_name']\n",
    "        index = sound.loc[sound['track_name'].str.title() == bill.loc[i,'track_name'],].index[0]\n",
    "\n",
    "        if chart + '_debut_date' not in sound.columns: sound[chart + '_debut_date'] = ''\n",
    "        sound[chart + '_debut_date'][index] = bill.loc[i,'debut_date']\n",
    "\n",
    "        if chart + '_peak_pos' not in sound.columns: sound[chart + '_peak_pos'] = ''\n",
    "        sound[chart + '_peak_pos'][index] = bill.loc[i,'peak_pos']\n",
    "\n",
    "        if chart + '_peak_date' not in sound.columns: sound[chart + '_peak_date'] = ''\n",
    "        sound[chart + '_peak_date'][index] = bill.loc[i,'peak_date']\n",
    "\n",
    "        if chart + '_weaks_on_chart' not in sound.columns: sound[chart + '_weaks_on_chart'] = ''\n",
    "        sound[chart + '_weaks_on_chart'][index] = bill.loc[i,'weaks_on_chart']\n"
   ]
  },
  {
   "cell_type": "code",
   "execution_count": 363,
   "id": "093c8a08-56e7-4fa8-b968-02bc4f2913fe",
   "metadata": {},
   "outputs": [],
   "source": [
    "sound.replace(np.nan, '').to_csv('soundgarden_v3.csv', index=False)"
   ]
  },
  {
   "cell_type": "code",
   "execution_count": 364,
   "id": "e0cc8310-4f08-4130-a302-233ed23d839c",
   "metadata": {},
   "outputs": [
    {
     "ename": "KeyError",
     "evalue": "'authors'",
     "output_type": "error",
     "traceback": [
      "\u001b[1;31m---------------------------------------------------------------------------\u001b[0m",
      "\u001b[1;31mKeyError\u001b[0m                                  Traceback (most recent call last)",
      "File \u001b[1;32m~\\AppData\\Local\\Programs\\Python\\Python310\\lib\\site-packages\\pandas\\core\\indexes\\base.py:3653\u001b[0m, in \u001b[0;36mIndex.get_loc\u001b[1;34m(self, key)\u001b[0m\n\u001b[0;32m   3652\u001b[0m \u001b[38;5;28;01mtry\u001b[39;00m:\n\u001b[1;32m-> 3653\u001b[0m     \u001b[38;5;28;01mreturn\u001b[39;00m \u001b[38;5;28;43mself\u001b[39;49m\u001b[38;5;241;43m.\u001b[39;49m\u001b[43m_engine\u001b[49m\u001b[38;5;241;43m.\u001b[39;49m\u001b[43mget_loc\u001b[49m\u001b[43m(\u001b[49m\u001b[43mcasted_key\u001b[49m\u001b[43m)\u001b[49m\n\u001b[0;32m   3654\u001b[0m \u001b[38;5;28;01mexcept\u001b[39;00m \u001b[38;5;167;01mKeyError\u001b[39;00m \u001b[38;5;28;01mas\u001b[39;00m err:\n",
      "File \u001b[1;32m~\\AppData\\Local\\Programs\\Python\\Python310\\lib\\site-packages\\pandas\\_libs\\index.pyx:147\u001b[0m, in \u001b[0;36mpandas._libs.index.IndexEngine.get_loc\u001b[1;34m()\u001b[0m\n",
      "File \u001b[1;32m~\\AppData\\Local\\Programs\\Python\\Python310\\lib\\site-packages\\pandas\\_libs\\index.pyx:176\u001b[0m, in \u001b[0;36mpandas._libs.index.IndexEngine.get_loc\u001b[1;34m()\u001b[0m\n",
      "File \u001b[1;32mpandas\\_libs\\hashtable_class_helper.pxi:7080\u001b[0m, in \u001b[0;36mpandas._libs.hashtable.PyObjectHashTable.get_item\u001b[1;34m()\u001b[0m\n",
      "File \u001b[1;32mpandas\\_libs\\hashtable_class_helper.pxi:7088\u001b[0m, in \u001b[0;36mpandas._libs.hashtable.PyObjectHashTable.get_item\u001b[1;34m()\u001b[0m\n",
      "\u001b[1;31mKeyError\u001b[0m: 'authors'",
      "\nThe above exception was the direct cause of the following exception:\n",
      "\u001b[1;31mKeyError\u001b[0m                                  Traceback (most recent call last)",
      "Cell \u001b[1;32mIn[364], line 1\u001b[0m\n\u001b[1;32m----> 1\u001b[0m \u001b[43msound\u001b[49m\u001b[43m[\u001b[49m\u001b[38;5;124;43m'\u001b[39;49m\u001b[38;5;124;43mauthors\u001b[39;49m\u001b[38;5;124;43m'\u001b[39;49m\u001b[43m]\u001b[49m\n",
      "File \u001b[1;32m~\\AppData\\Local\\Programs\\Python\\Python310\\lib\\site-packages\\pandas\\core\\frame.py:3761\u001b[0m, in \u001b[0;36mDataFrame.__getitem__\u001b[1;34m(self, key)\u001b[0m\n\u001b[0;32m   3759\u001b[0m \u001b[38;5;28;01mif\u001b[39;00m \u001b[38;5;28mself\u001b[39m\u001b[38;5;241m.\u001b[39mcolumns\u001b[38;5;241m.\u001b[39mnlevels \u001b[38;5;241m>\u001b[39m \u001b[38;5;241m1\u001b[39m:\n\u001b[0;32m   3760\u001b[0m     \u001b[38;5;28;01mreturn\u001b[39;00m \u001b[38;5;28mself\u001b[39m\u001b[38;5;241m.\u001b[39m_getitem_multilevel(key)\n\u001b[1;32m-> 3761\u001b[0m indexer \u001b[38;5;241m=\u001b[39m \u001b[38;5;28;43mself\u001b[39;49m\u001b[38;5;241;43m.\u001b[39;49m\u001b[43mcolumns\u001b[49m\u001b[38;5;241;43m.\u001b[39;49m\u001b[43mget_loc\u001b[49m\u001b[43m(\u001b[49m\u001b[43mkey\u001b[49m\u001b[43m)\u001b[49m\n\u001b[0;32m   3762\u001b[0m \u001b[38;5;28;01mif\u001b[39;00m is_integer(indexer):\n\u001b[0;32m   3763\u001b[0m     indexer \u001b[38;5;241m=\u001b[39m [indexer]\n",
      "File \u001b[1;32m~\\AppData\\Local\\Programs\\Python\\Python310\\lib\\site-packages\\pandas\\core\\indexes\\base.py:3655\u001b[0m, in \u001b[0;36mIndex.get_loc\u001b[1;34m(self, key)\u001b[0m\n\u001b[0;32m   3653\u001b[0m     \u001b[38;5;28;01mreturn\u001b[39;00m \u001b[38;5;28mself\u001b[39m\u001b[38;5;241m.\u001b[39m_engine\u001b[38;5;241m.\u001b[39mget_loc(casted_key)\n\u001b[0;32m   3654\u001b[0m \u001b[38;5;28;01mexcept\u001b[39;00m \u001b[38;5;167;01mKeyError\u001b[39;00m \u001b[38;5;28;01mas\u001b[39;00m err:\n\u001b[1;32m-> 3655\u001b[0m     \u001b[38;5;28;01mraise\u001b[39;00m \u001b[38;5;167;01mKeyError\u001b[39;00m(key) \u001b[38;5;28;01mfrom\u001b[39;00m \u001b[38;5;21;01merr\u001b[39;00m\n\u001b[0;32m   3656\u001b[0m \u001b[38;5;28;01mexcept\u001b[39;00m \u001b[38;5;167;01mTypeError\u001b[39;00m:\n\u001b[0;32m   3657\u001b[0m     \u001b[38;5;66;03m# If we have a listlike key, _check_indexing_error will raise\u001b[39;00m\n\u001b[0;32m   3658\u001b[0m     \u001b[38;5;66;03m#  InvalidIndexError. Otherwise we fall through and re-raise\u001b[39;00m\n\u001b[0;32m   3659\u001b[0m     \u001b[38;5;66;03m#  the TypeError.\u001b[39;00m\n\u001b[0;32m   3660\u001b[0m     \u001b[38;5;28mself\u001b[39m\u001b[38;5;241m.\u001b[39m_check_indexing_error(key)\n",
      "\u001b[1;31mKeyError\u001b[0m: 'authors'"
     ]
    }
   ],
   "source": []
  },
  {
   "cell_type": "code",
   "execution_count": null,
   "id": "9375aa8b-da84-4881-96a0-97ee02860704",
   "metadata": {},
   "outputs": [],
   "source": []
  }
 ],
 "metadata": {
  "kernelspec": {
   "display_name": "Python 3 (ipykernel)",
   "language": "python",
   "name": "python3"
  },
  "language_info": {
   "codemirror_mode": {
    "name": "ipython",
    "version": 3
   },
   "file_extension": ".py",
   "mimetype": "text/x-python",
   "name": "python",
   "nbconvert_exporter": "python",
   "pygments_lexer": "ipython3",
   "version": "3.10.9"
  }
 },
 "nbformat": 4,
 "nbformat_minor": 5
}
