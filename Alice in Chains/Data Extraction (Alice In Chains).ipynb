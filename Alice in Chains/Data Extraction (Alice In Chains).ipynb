{
 "cells": [
  {
   "cell_type": "markdown",
   "id": "c7edd205-6647-42ef-84d4-0ed4f9a470ad",
   "metadata": {},
   "source": [
    "# Spotify Data Extraction"
   ]
  },
  {
   "cell_type": "code",
   "execution_count": 158,
   "id": "95eb6c7a-cea0-40ce-955a-084e182ca7e3",
   "metadata": {},
   "outputs": [],
   "source": [
    "import spotipy\n",
    "import pandas as pd\n",
    "import math\n",
    "from spotipy.oauth2 import SpotifyClientCredentials\n",
    "\n",
    "import warnings\n",
    "warnings.filterwarnings(\"ignore\")\n",
    "\n",
    "pd.options.display.max_rows = 999\n",
    "pd.options.display.max_columns = 999"
   ]
  },
  {
   "cell_type": "code",
   "execution_count": 35,
   "id": "bda18efc-0dec-4e38-91b0-38f21ce6735e",
   "metadata": {},
   "outputs": [],
   "source": [
    "sp = spotipy.Spotify(\n",
    "    client_credentials_manager=SpotifyClientCredentials(\n",
    "        client_id='c3c6cbaa304c4c86b120e8d9603d44a4', \n",
    "        client_secret='b8819ea70b3142819602499ee139c24f'))\n",
    "\n",
    "nirvana_uri = 'spotify:artist:gB8MJK4WTc2PGssawZYu_w'"
   ]
  },
  {
   "cell_type": "code",
   "execution_count": 36,
   "id": "9b092cc4-344c-4bbd-b644-72dbf4724d71",
   "metadata": {},
   "outputs": [],
   "source": [
    "alice_uri = '64tNsm6TnZe2zpcMVMOoHL'\n",
    "\n",
    "all_tracks = []\n",
    "\n",
    "def get_data(results):\n",
    "    albums = results['items']\n",
    "    \n",
    "    while results['next']:\n",
    "        results = sp.next(results)\n",
    "        albums.extend(results['items'])\n",
    "    \n",
    "    for album in albums:\n",
    "        result = sp.album_tracks(album['uri'])\n",
    "        tracks = result['items']\n",
    "        \n",
    "        while result['next']:\n",
    "            result = sp.next(result)\n",
    "            tracks.extend(result['items'])\n",
    "            \n",
    "        for track in tracks:\n",
    "            new_track = {}\n",
    "            new_track['track_name'] = track['name']\n",
    "            new_track['album_name'] = album['name']\n",
    "            new_track['album_type'] = album['album_type']\n",
    "            new_track['release_year'] = album['release_date'][0:4]\n",
    "            new_track['artists'] = ', '.join([artist['name'] for artist in track['artists']])\n",
    "            new_track['duration'] = math.floor(track['duration_ms']/1000)\n",
    "    \n",
    "            audio = sp.audio_features(tracks=track['id'])\n",
    "            new_track['acousticness'] = audio[0]['acousticness']\n",
    "            new_track['danceability'] = audio[0]['danceability']\n",
    "            new_track['energy'] = audio[0]['energy']\n",
    "            new_track['instrumentalness'] = audio[0]['instrumentalness']\n",
    "            new_track['key'] = audio[0]['key']\n",
    "            new_track['liveness'] = audio[0]['liveness']\n",
    "            new_track['loudness'] = audio[0]['loudness']\n",
    "            new_track['mode'] = audio[0]['mode']\n",
    "            new_track['speechiness'] = audio[0]['speechiness']\n",
    "            new_track['tempo'] = audio[0]['tempo']\n",
    "            new_track['time_signature'] = audio[0]['time_signature']\n",
    "            new_track['valence'] = audio[0]['valence']\n",
    "            \n",
    "            all_tracks.append(new_track)\n",
    "\n",
    "r = sp.artist_albums(alice_uri, album_type='album')\n",
    "get_data(r)\n",
    "r = sp.artist_albums(alice_uri, album_type='compilation')\n",
    "get_data(r)"
   ]
  },
  {
   "cell_type": "code",
   "execution_count": 37,
   "id": "8581277c-2946-44f2-aa9b-38470d38e1ef",
   "metadata": {},
   "outputs": [],
   "source": [
    "df = pd.DataFrame(all_tracks)"
   ]
  },
  {
   "cell_type": "markdown",
   "id": "9f424fbe-b4ab-43e6-9676-e820e292594a",
   "metadata": {},
   "source": [
    "### Cleaning the dataset"
   ]
  },
  {
   "cell_type": "code",
   "execution_count": 38,
   "id": "0e38ba63-815c-4cb9-8ab4-e2220f7608bb",
   "metadata": {},
   "outputs": [],
   "source": [
    "# Dropping Discover Beyond, Discover More and Discover Further albums\n",
    "df.drop(df.loc[df['album_name'].isin(['Discover Beyond','Discover More','Discover Further'])].index, inplace=True)\n",
    "df.reset_index(drop=True, inplace=True)\n",
    "\n",
    "# Renaming album types\n",
    "df.loc[0:34,'album_type'] = 'studio album'\n",
    "df.loc[35:47, 'album_type'] = 'live album'\n",
    "df.loc[48:59, 'album_type'] = 'studio album'\n",
    "df.loc[60:66, 'album_type'] = 'extended play'\n",
    "df.loc[67:91, 'album_type'] = 'studio album'\n",
    "df.loc[92:149, 'album_type'] = 'compilation album'\n",
    "df.loc[150:163, 'album_type'] = 'live album'\n",
    "df.loc[164:191, 'album_type'] = 'compilation album'\n",
    "df.loc[192:, 'album_type'] = 'box set'\n",
    "df.loc[67:79, 'album_name'] = df.loc[67:79, 'album_name'].str.split(' ').str[0]\n",
    "\n",
    "# Cleaning track names\n",
    "df.loc[35:47,'track_name'] = df.loc[35:47,'track_name'].str.split(' - ').str[0]\n",
    "df.loc[67:79, 'track_name'] = df.loc[67:79, 'track_name'].str.split(' \\(2022 Remaster\\)').str[0]\n",
    "df.loc[150:163, 'track_name'] = df.loc[150:163, 'track_name'].str.split(' - ').str[0]\n",
    "\n",
    "# Cleaning data for merging purpose\n",
    "df.loc[df['track_name'].str.contains('Demo'), 'track_name'] = df.loc[df['track_name'].str.contains('Demo'),'track_name'].str.split(' - ').str[0]\n",
    "df.loc[106, 'track_name'] = 'Queen of the Rodeo'\n",
    "\n",
    "df.loc[df['track_name'].str.contains('Unplugged'), 'track_name'] = df.loc[df['track_name'].str.contains('Unplugged'), 'track_name'].str.split(' - ').str[0]\n",
    "df.loc[df['album_name'].str.contains('Box'), 'album_name'] = df.loc[df['album_name'].str.contains('Box'), 'album_name'].str.split(' - ').str[0]\n",
    "\n",
    "df.loc[df['album_name'] == 'Live', 'release_year'] = str(2000) # 1993 was incorrect\n",
    "df.loc[df['album_name'].str.contains('Esse'), 'release_year'] = str(2006) # 1990 was incorrect\n",
    "df.loc[df['album_name'].str.contains('Safe'), 'release_year'] = str(1999) # 1990 was incorrect\n",
    "\n",
    "df.loc[[199, 200], 'track_name'] = df.loc[[199, 200], 'track_name'].str.split(' - ').str[0]"
   ]
  },
  {
   "cell_type": "code",
   "execution_count": 39,
   "id": "0edf324e-11a6-47a7-bde1-5a4e57977da9",
   "metadata": {},
   "outputs": [],
   "source": [
    "df.to_csv('alice_spotify.csv', index=False)\n",
    "spot = df"
   ]
  },
  {
   "cell_type": "markdown",
   "id": "4afaed8b-7d48-46c2-bf4e-c134ca4528d4",
   "metadata": {},
   "source": [
    "# Wikipedia Data Extraction"
   ]
  },
  {
   "cell_type": "code",
   "execution_count": 40,
   "id": "6c1bbe01-55f0-499d-a0e8-08bcf0f3a69c",
   "metadata": {},
   "outputs": [],
   "source": [
    "import pandas as pd\n",
    "from bs4 import BeautifulSoup\n",
    "import requests\n",
    "import re"
   ]
  },
  {
   "cell_type": "code",
   "execution_count": 41,
   "id": "85bb3963-0f70-4d5f-be18-87bb611602e2",
   "metadata": {},
   "outputs": [],
   "source": [
    "url = 'https://en.wikipedia.org/wiki/List_of_songs_recorded_by_Alice_in_Chains'\n",
    "response = requests.get(url)\n",
    "soup = BeautifulSoup(response.content, 'html.parser')"
   ]
  },
  {
   "cell_type": "code",
   "execution_count": 42,
   "id": "8c8d5ced-4643-42f1-8773-b4b2bdc829f2",
   "metadata": {},
   "outputs": [],
   "source": [
    "table = soup.find_all('table', class_ = 'wikitable')[0]\n",
    "\n",
    "rows = table.find_all('tr')"
   ]
  },
  {
   "cell_type": "code",
   "execution_count": 43,
   "id": "f065cfbf-db59-4772-855c-7408948776e7",
   "metadata": {},
   "outputs": [],
   "source": [
    "# This code was used from this StackOverflow thread\n",
    "# https://stackoverflow.com/questions/9978445/parsing-a-table-with-rowspan-and-colspan\n",
    "# Answer by: Joshua\n",
    "\n",
    "def table_to_2d(table_tag):\n",
    "    rows = table_tag(\"tr\")\n",
    "    cols = rows[0]([\"td\", \"th\"])\n",
    "    table = [[None] * len(cols) for _ in range(len(rows))]\n",
    "    for row_i, row in enumerate(rows):\n",
    "        for col_i, col in enumerate(row([\"td\", \"th\"])):\n",
    "            insert(table, row_i, col_i, col)\n",
    "    return table\n",
    "\n",
    "\n",
    "def insert(table, row, col, element):\n",
    "    if row >= len(table) or col >= len(table[row]):\n",
    "        return\n",
    "    if table[row][col] is None:\n",
    "        value = element.get_text()\n",
    "        table[row][col] = value\n",
    "        if element.has_attr(\"colspan\"):\n",
    "            span = int(element[\"colspan\"])\n",
    "            for i in range(1, span):\n",
    "                table[row][col+i] = value\n",
    "        if element.has_attr(\"rowspan\"):\n",
    "            span = int(element[\"rowspan\"])\n",
    "            for i in range(1, span):\n",
    "                table[row+i][col] = value\n",
    "    else:\n",
    "        insert(table, row, col + 1, element)"
   ]
  },
  {
   "cell_type": "code",
   "execution_count": 44,
   "id": "6d833250-b180-4ebc-80c4-aef534b806ff",
   "metadata": {},
   "outputs": [],
   "source": [
    "t = table_to_2d(table)"
   ]
  },
  {
   "cell_type": "code",
   "execution_count": 45,
   "id": "f616df5f-65b3-4caa-9bd8-61717445c1f2",
   "metadata": {},
   "outputs": [],
   "source": [
    "df = pd.DataFrame(t)"
   ]
  },
  {
   "cell_type": "code",
   "execution_count": 46,
   "id": "90a40bba-f5fb-4eda-bb0d-5235732291d7",
   "metadata": {},
   "outputs": [],
   "source": [
    "column_names = df.iloc[0,:].str.strip().str.rstrip('\\(s\\)').str.lower()\n",
    "df.columns = column_names\n",
    "df.drop(0, axis=0, inplace=True)"
   ]
  },
  {
   "cell_type": "code",
   "execution_count": 47,
   "id": "397ba060-bd5a-44fb-8285-d43e99aef36f",
   "metadata": {},
   "outputs": [],
   "source": [
    "df = df.apply(lambda x: x.str.strip())"
   ]
  },
  {
   "cell_type": "code",
   "execution_count": 48,
   "id": "f6913b06-adb5-4af3-9dc1-971696ee3bea",
   "metadata": {},
   "outputs": [],
   "source": [
    "# Transforming author column\n",
    "def transform_author(x):\n",
    "    x = x.split('/')\n",
    "    x = [y.strip() for y in x]\n",
    "    z = []\n",
    "    if 'Staley' in x:\n",
    "        z.append('Layne Staley')\n",
    "    if 'Cantrell' in x:\n",
    "        z.append('Jerry Cantrell')\n",
    "    if 'Inez' in x:\n",
    "        z.append('Mike Inez')\n",
    "    if 'Kinney' in x:\n",
    "        z.append('Sean Kinney')\n",
    "    if 'DuVall' in x:\n",
    "        z.append('William DuVall')\n",
    "    if 'Jett Silver' in x:\n",
    "        z.append('Jett Silver')\n",
    "    return ', '.join(z)\n",
    "\n",
    "df['author'] = df['author'].apply(transform_author)"
   ]
  },
  {
   "cell_type": "code",
   "execution_count": 49,
   "id": "1851b0e8-2cad-49d5-8da8-a07e0f8f5b2b",
   "metadata": {},
   "outputs": [],
   "source": [
    "# Creating album_name column from release column\n",
    "df['album_name'] = df['release'].str.split('\\(').str[0]"
   ]
  },
  {
   "cell_type": "code",
   "execution_count": 50,
   "id": "4c8cc9c8-c645-4bd2-be12-5ff72016fba0",
   "metadata": {},
   "outputs": [],
   "source": [
    "# Creating release_year column from release column\n",
    "df['release_year'] = df['release'].str.split('\\(').str[1].str.split(', ').str[1].str[0:4]"
   ]
  },
  {
   "cell_type": "code",
   "execution_count": 51,
   "id": "fe1284e1-2f03-466e-a6b2-9dd24f2dbf66",
   "metadata": {},
   "outputs": [],
   "source": [
    "# Dropping release column\n",
    "df.drop('release', axis=1, inplace=True)"
   ]
  },
  {
   "cell_type": "code",
   "execution_count": 52,
   "id": "fa286f70-a760-4db8-a36c-55d11a1c3f37",
   "metadata": {},
   "outputs": [],
   "source": [
    "# Dropping recorded and location columns\n",
    "df.drop(['recorded','location'], axis=1, inplace=True)"
   ]
  },
  {
   "cell_type": "code",
   "execution_count": 53,
   "id": "a8b14837-18cf-4e7b-a234-4fa126746a0c",
   "metadata": {},
   "outputs": [],
   "source": [
    "# Dropping time column\n",
    "df.drop('time', axis=1, inplace=True)"
   ]
  },
  {
   "cell_type": "code",
   "execution_count": 54,
   "id": "192f6a3b-08d4-400b-8ed0-2c2ddb08c8f4",
   "metadata": {},
   "outputs": [],
   "source": [
    "# Transforming producer column\n",
    "df['producer'].value_counts()\n",
    "\n",
    "def transform_producer(x):\n",
    "    x = x.split('/')\n",
    "    x = [y.strip() for y in x]\n",
    "    for i in range(len(x)):\n",
    "        if x[i] == 'Raskulinecz': x[i] = 'Nick Raskulinecz'\n",
    "        if x[i] == 'Wright': x[i] = 'Toby Wright'\n",
    "        if x[i] == 'Jerden': x[i] = 'Dave Jerden'\n",
    "        if x[i] == 'Coletti': x[i] = 'Alex Coletti'\n",
    "        if x[i] == 'Wilson': x[i] = 'Tony Wilson'\n",
    "        if x[i] == 'Naficy': x[i] = 'Mark Naficy'\n",
    "    return ', '.join(x)\n",
    "\n",
    "df['producer'] = df['producer'].apply(transform_producer)"
   ]
  },
  {
   "cell_type": "code",
   "execution_count": 55,
   "id": "214e6e4b-583a-40fe-ba55-c92f73327510",
   "metadata": {},
   "outputs": [],
   "source": [
    "# Cleaning album_name column\n",
    "df.loc[df['album_name'].str.contains('Nothing Safe'), 'album_name'] = 'Nothing Safe'\n",
    "df.loc[df['album_name'].str.contains('Unplugged'), 'album_name'] = 'Unplugged'\n",
    "\n",
    "df['album_name'] = df['album_name'].apply(str.strip)"
   ]
  },
  {
   "cell_type": "code",
   "execution_count": 56,
   "id": "3f0be1ae-ea0b-4381-bee0-1a364c5c377b",
   "metadata": {},
   "outputs": [],
   "source": [
    "df.to_csv('alice_wiki.csv', index=False)\n",
    "wiki = df"
   ]
  },
  {
   "cell_type": "code",
   "execution_count": 57,
   "id": "684b6852-3742-47a7-b470-c40729ab7475",
   "metadata": {},
   "outputs": [
    {
     "data": {
      "text/html": [
       "<div>\n",
       "<style scoped>\n",
       "    .dataframe tbody tr th:only-of-type {\n",
       "        vertical-align: middle;\n",
       "    }\n",
       "\n",
       "    .dataframe tbody tr th {\n",
       "        vertical-align: top;\n",
       "    }\n",
       "\n",
       "    .dataframe thead th {\n",
       "        text-align: right;\n",
       "    }\n",
       "</style>\n",
       "<table border=\"1\" class=\"dataframe\">\n",
       "  <thead>\n",
       "    <tr style=\"text-align: right;\">\n",
       "      <th></th>\n",
       "      <th>title</th>\n",
       "      <th>author</th>\n",
       "      <th>producer</th>\n",
       "      <th>album_name</th>\n",
       "      <th>release_year</th>\n",
       "    </tr>\n",
       "  </thead>\n",
       "  <tbody>\n",
       "    <tr>\n",
       "      <th>101</th>\n",
       "      <td>I Can't Have You Blues</td>\n",
       "      <td>Jerry Cantrell</td>\n",
       "      <td>Alice in Chains, Parashar</td>\n",
       "      <td>Music Bank</td>\n",
       "      <td>1999</td>\n",
       "    </tr>\n",
       "    <tr>\n",
       "      <th>218</th>\n",
       "      <td>What The Hell Have I</td>\n",
       "      <td>Jerry Cantrell</td>\n",
       "      <td>Alice in Chains</td>\n",
       "      <td>Last Action Hero: Music from the Original Moti...</td>\n",
       "      <td>1993</td>\n",
       "    </tr>\n",
       "    <tr>\n",
       "      <th>219</th>\n",
       "      <td>What the Hell Have I - Remix</td>\n",
       "      <td>Jerry Cantrell</td>\n",
       "      <td>Alice in Chains</td>\n",
       "      <td>Nothing Safe</td>\n",
       "      <td>1999</td>\n",
       "    </tr>\n",
       "    <tr>\n",
       "      <th>220</th>\n",
       "      <td>What the Hell Have I - Remix</td>\n",
       "      <td>Jerry Cantrell</td>\n",
       "      <td>Alice in Chains</td>\n",
       "      <td>Music Bank</td>\n",
       "      <td>1999</td>\n",
       "    </tr>\n",
       "    <tr>\n",
       "      <th>221</th>\n",
       "      <td>What the Hell Have I - Remix</td>\n",
       "      <td>Jerry Cantrell</td>\n",
       "      <td>Alice in Chains</td>\n",
       "      <td>The Essential Alice In Chains</td>\n",
       "      <td>2006</td>\n",
       "    </tr>\n",
       "  </tbody>\n",
       "</table>\n",
       "</div>"
      ],
      "text/plain": [
       "0                           title          author                   producer  \\\n",
       "101        I Can't Have You Blues  Jerry Cantrell  Alice in Chains, Parashar   \n",
       "218          What The Hell Have I  Jerry Cantrell            Alice in Chains   \n",
       "219  What the Hell Have I - Remix  Jerry Cantrell            Alice in Chains   \n",
       "220  What the Hell Have I - Remix  Jerry Cantrell            Alice in Chains   \n",
       "221  What the Hell Have I - Remix  Jerry Cantrell            Alice in Chains   \n",
       "\n",
       "0                                           album_name release_year  \n",
       "101                                         Music Bank         1999  \n",
       "218  Last Action Hero: Music from the Original Moti...         1993  \n",
       "219                                       Nothing Safe         1999  \n",
       "220                                         Music Bank         1999  \n",
       "221                      The Essential Alice In Chains         2006  "
      ]
     },
     "execution_count": 57,
     "metadata": {},
     "output_type": "execute_result"
    }
   ],
   "source": [
    "# Cleaning data for merging purpose\n",
    "\n",
    "wiki.loc[100,'title'] = 'Hung on a Hook'\n",
    "wiki.loc[29, 'title'] = 'Black Gives Way to Blue - Piano Mix'\n",
    "wiki.loc[29, 'album_name'] = 'Black Gives Way to Blue'\n",
    "wiki.loc[wiki['album_name'].str.contains('Jar'),'album_name'] = 'Jar Of Flies'\n",
    "wiki.loc[wiki['album_name'] == 'Alice in Chains','album_name'] = 'Alice In Chains'\n",
    "wiki.loc[[30, 56, 60, 88, 186, 187, 89, 189, 200],'title'] = wiki.loc[[30, 56, 60, 88, 186, 187, 89, 189, 200],'title'].str.title()\n",
    "wiki.loc[[67,77, 73, 70],'album_name'] = 'Music Bank'\n",
    "wiki.loc[[68, 78, 74],'album_name'] = 'The Essential Alice In Chains'\n",
    "wiki.loc[30, 'title'] = 'Bleed the Freak'\n",
    "wiki.loc[[219, 220, 221], 'title'] = 'What the Hell Have I - Remix'\n",
    "wiki.loc[[1,2, 3], 'title'] = 'A Little Bitter - Remix'\n",
    "wiki.loc[13, 'title'] = 'Again - Tattoo of Pain Mix'\n",
    "\n",
    "wiki.loc[wiki['album_name'].str.contains('Esse'), 'album_name'] = wiki.loc[wiki['album_name'].str.contains('Esse'), 'album_name'].str.title()\n",
    "\n",
    "wiki.loc[53, 'title'] = wiki.loc[53, 'title'].split(' ')[0]\n",
    "\n",
    "wiki.loc[wiki['title'].str.contains('Have')]"
   ]
  },
  {
   "cell_type": "code",
   "execution_count": 58,
   "id": "95deafb6-cc8b-440a-a905-398dc58e25d5",
   "metadata": {},
   "outputs": [],
   "source": [
    "alice_v1 = spot.merge(wiki, how='left', left_on=['track_name', 'album_name', 'release_year'], right_on=['title', 'album_name', 'release_year']).drop('title', axis=1)\n",
    "alice_v1.to_csv('alice_v1.csv', index=False)"
   ]
  },
  {
   "cell_type": "markdown",
   "id": "c5dd8b71-b695-40ea-a47c-3fcd9b059634",
   "metadata": {},
   "source": [
    "# AllMusic Data Extraction"
   ]
  },
  {
   "cell_type": "code",
   "execution_count": 59,
   "id": "9746c18e-2fc0-49f6-9f57-796ca780059c",
   "metadata": {},
   "outputs": [],
   "source": [
    "from requests_html import HTMLSession\n",
    "from bs4 import BeautifulSoup\n",
    "import pandas as pd"
   ]
  },
  {
   "cell_type": "code",
   "execution_count": 60,
   "id": "8e43183f-463a-44c8-8a5b-7e4136358183",
   "metadata": {},
   "outputs": [],
   "source": [
    "session = HTMLSession()\n",
    "url = 'https://www.allmusic.com/artist/alice-in-chains-mn0000007920/discography/all'\n",
    "response = session.get(url)\n",
    "soup = BeautifulSoup(response.text, 'html.parser')"
   ]
  },
  {
   "cell_type": "code",
   "execution_count": 61,
   "id": "677c51bf-0de5-44a8-bfa2-2eb1235b6452",
   "metadata": {},
   "outputs": [],
   "source": [
    "def get_page_data(url):\n",
    "    \"\"\"\n",
    "    Input a page URL to get a BeautifulSoup object from that page.\n",
    "    \"\"\"\n",
    "    response = session.get(url)\n",
    "    soup = BeautifulSoup(response.text, 'html.parser')\n",
    "    return soup"
   ]
  },
  {
   "cell_type": "code",
   "execution_count": 62,
   "id": "2de0b700-d3db-43db-9664-35e5889aeaaa",
   "metadata": {},
   "outputs": [],
   "source": [
    "def get_album_page_links(soup):\n",
    "    \"\"\"\n",
    "    Input a BeautifulSoup object to get links to all albums present on that discography page\n",
    "    \"\"\"\n",
    "    links = []\n",
    "    data = soup.find_all('td', class_ = 'title')\n",
    "    for album in data:\n",
    "        if album.find('a'):\n",
    "            links.append(album.find('a')['href'])\n",
    "    return links\n",
    "\n",
    "def get_track_page_links(soup):\n",
    "    \"\"\"\n",
    "    Input a BeautifulSoup object to get links to all tracks present on that album page\n",
    "    \"\"\"\n",
    "    links = []\n",
    "    data = soup.find_all('div', class_ = 'title')\n",
    "    for track in data:\n",
    "        if track.find('a'):\n",
    "            links.append(track.find('a')['href'])\n",
    "    return links\n",
    "\n",
    "album_links = get_album_page_links(soup)"
   ]
  },
  {
   "cell_type": "code",
   "execution_count": 63,
   "id": "4f62f471-3fc9-4e2f-b480-1e47317fa44a",
   "metadata": {},
   "outputs": [],
   "source": [
    "def calculate_rating(classes):\n",
    "    \"\"\"\n",
    "    A function to parse classes from AllMusic website as a rating on a scale from [0.5-5.0].\n",
    "    This function will expect a list of css classes as a parameter, and output \n",
    "    rating according to present class.\n",
    "    \"\"\"\n",
    "    if 'rating-unrated' in classes: rating = ''\n",
    "    elif 'rating-allmusic-0' in classes: rating = ''\n",
    "    elif 'rating-allmusic-1' in classes: rating = 1.0\n",
    "    elif 'rating-allmusic-2' in classes: rating = 1.5\n",
    "    elif 'rating-allmusic-3' in classes: rating = 2.0\n",
    "    elif 'rating-allmusic-4' in classes: rating = 2.5\n",
    "    elif 'rating-allmusic-5' in classes: rating = 3.0\n",
    "    elif 'rating-allmusic-6' in classes: rating = 3.5\n",
    "    elif 'rating-allmusic-7' in classes: rating = 4.0\n",
    "    elif 'rating-allmusic-8' in classes: rating = 4.5\n",
    "    elif 'rating-allmusic-9' in classes: rating = 5.0\n",
    "    return rating"
   ]
  },
  {
   "cell_type": "code",
   "execution_count": 64,
   "id": "065db313-3ac9-44d1-a281-b4dd54b0d781",
   "metadata": {},
   "outputs": [],
   "source": [
    "def get_track_data(url):\n",
    "    \"\"\"\n",
    "    This function expects a track URL as a parameter. It returns information about the track\n",
    "    as a dictionary\"\"\"\n",
    "    overview_page = get_page_data(url)\n",
    "    attributes_page = get_page_data(str(url +  '/attributes'))\n",
    "        \n",
    "    track_title = overview_page.find('h1').text.strip()\n",
    "    track_composers = [x.a.text for x in overview_page.find_all('p', class_ = 'song-composer')]\n",
    "    genres = [x.text[:-4] for x in attributes_page.find('div', class_ = 'attribute-tab-genres').find_all('a')]\n",
    "    styles = [x.text[:-4] for x in attributes_page.find('div', class_ = 'attribute-tab-styles').find_all('a')] \n",
    "    moods = [x.text[:-4] for x in attributes_page.find('div', class_ = 'attribute-tab-moods').find_all('a')] \n",
    "    themes = [x.text[:-4] for x in attributes_page.find('div', class_ = 'attribute-tab-themes').find_all('a')] \n",
    "        \n",
    "    return {\n",
    "        'track_title' : track_title,\n",
    "        'track_composers' : track_composers,\n",
    "        'track_genres':genres, \n",
    "        'track_styles':styles, \n",
    "        'track_moods':moods, \n",
    "        'track_themes':themes\n",
    "    }\n",
    "        "
   ]
  },
  {
   "cell_type": "code",
   "execution_count": 65,
   "id": "c06750fd-3122-4e98-93b2-e01ed862414b",
   "metadata": {},
   "outputs": [],
   "source": [
    "def get_data(url):\n",
    "    \"\"\"\n",
    "    This function expects an album page URL. It will scrape all data about the album and all tracks from that album.\n",
    "    It will return a list of all tracks from that album with its corresponding information as a dictionary\"\"\"\n",
    "\n",
    "    # ALBUM data\n",
    "    album_page = get_page_data(url)\n",
    "    album_title = album_page.find('h1', class_ = 'album-title').text.strip()\n",
    "    album_release_date = [album_page.find('div', class_ = 'release-date').span.text if album_page.find('div', class_ = 'release-date') else '']\n",
    "    album_duration = [album_page.find('div', class_ = 'duration').text.strip() if album_page.find('div', class_ = 'duration') else None ]\n",
    "    album_genre = [album_page.find('div', class_ = 'genre').div.a.text if album_page.find('div', class_ = 'genre') else '']\n",
    "    album_styles = [[a.text for a in album_page.find('div', class_ = 'styles').find_all('a')] if album_page.find('div', class_ = 'styles') else '']\n",
    "    album_recording_date = [album_page.find('div', class_ = 'recording-date').div.text if album_page.find('div', class_ = 'recording-date') else '']\n",
    "    album_recording_location = [album_page.find('div', class_ = 'recording-location').li.text.strip() if album_page.find('div', class_ = 'recording-location') else '']\n",
    "    album_moods = [x.text.strip() for x in album_page.find_all('span', class_ = 'mood')]\n",
    "    album_themes = [x.text.strip() for x in album_page.find_all('span', class_ = 'theme')]\n",
    "    album_rating = calculate_rating(album_page.find('div', class_ = 'allmusic-rating').get('class'))\n",
    "\n",
    "    # TRACK data\n",
    "    all_tracks_data = []\n",
    "    track_links = get_track_page_links(album_page)\n",
    "    if len(track_links) > 0:\n",
    "        for track_link in track_links:\n",
    "            all_tracks_data.append(get_track_data(track_link))\n",
    "\n",
    "    # FINAL data\n",
    "    final_data = []\n",
    "    \n",
    "    for track in all_tracks_data:\n",
    "        final_data.append({\n",
    "            'track_title' : track['track_title'],\n",
    "            'track_composers' : track['track_composers'],\n",
    "            'track_genres': track['track_genres'], \n",
    "            'track_styles': track['track_styles'], \n",
    "            'track_moods': track['track_moods'], \n",
    "            'track_themes': track['track_themes'],\n",
    "            'album_title': album_title,\n",
    "            'album_release_date': album_release_date,\n",
    "            'album_duration' : album_duration,\n",
    "            'album_genres' : album_genre,\n",
    "            'album_styles' : album_styles,\n",
    "            'album_recording_date' : album_recording_date,\n",
    "            'album_recording_location' : album_recording_location,\n",
    "            'album_moods' : album_moods,\n",
    "            'album_themes' : album_themes,\n",
    "            'album_rating' : album_rating\n",
    "        })\n",
    "    return final_data"
   ]
  },
  {
   "cell_type": "markdown",
   "id": "edbd47f4-3a26-4443-b094-3700c2a2b608",
   "metadata": {},
   "source": [
    "### Fetching all data from AllMusic"
   ]
  },
  {
   "cell_type": "code",
   "execution_count": 66,
   "id": "1159c266-844c-4dfc-865f-e8169c2e16f8",
   "metadata": {},
   "outputs": [],
   "source": [
    "all_tracks = []\n",
    "for i in range(len(album_links)):\n",
    "    all_tracks.extend(get_data(album_links[i]))"
   ]
  },
  {
   "cell_type": "markdown",
   "id": "cdd1df04-2253-46f2-aaac-61f5977fed0b",
   "metadata": {},
   "source": [
    "### Cleaning fetched data"
   ]
  },
  {
   "cell_type": "code",
   "execution_count": 141,
   "id": "91502781-52b6-4ee4-91e7-330e5953ed60",
   "metadata": {},
   "outputs": [],
   "source": [
    "df = pd.DataFrame(all_tracks)"
   ]
  },
  {
   "cell_type": "code",
   "execution_count": 142,
   "id": "614f4960-a6e7-4e0b-a743-9281cd9c35cf",
   "metadata": {},
   "outputs": [],
   "source": [
    "# df.drop('album_release_date', axis=1, inplace=True)\n",
    "df.drop('album_genres', axis=1, inplace=True)"
   ]
  },
  {
   "cell_type": "code",
   "execution_count": 143,
   "id": "ba7c7bf9-d067-4c81-a489-76b1a0372d67",
   "metadata": {},
   "outputs": [
    {
     "name": "stdout",
     "output_type": "stream",
     "text": [
      "Columns:\t15\n",
      "Rows:\t\t472\n"
     ]
    }
   ],
   "source": [
    "print(f'Columns:\\t{df.shape[1]}\\nRows:\\t\\t{df.shape[0]}')"
   ]
  },
  {
   "cell_type": "code",
   "execution_count": 144,
   "id": "8a5da6e9-f7c2-4811-94e9-00eb02421515",
   "metadata": {},
   "outputs": [],
   "source": [
    "df['track_composers'] = df['track_composers'].apply(lambda x: ', '.join(x))\n",
    "df['track_genres'] = df['track_genres'].apply(lambda x: ', '.join(x))\n",
    "df['track_styles'] = df['track_styles'].apply(lambda x: ', '.join(x))\n",
    "df['track_moods'] = df['track_moods'].apply(lambda x: ', '.join(x))\n",
    "df['track_themes'] = df['track_themes'].apply(lambda x: ', '.join(x))\n",
    "df['album_duration'] = df['album_duration'].apply(lambda x: str(x[0])[9:])\n",
    "df['album_styles'] = df['album_styles'].apply(lambda x: ''.join(x[0]))\n",
    "df['album_recording_date'] = df['album_recording_date'].apply(lambda x: ', '.join(x))\n",
    "df['album_release_date'] = df['album_release_date'].apply(lambda x: str(x)[-6:-2])\n",
    "df['album_recording_location'] = df['album_recording_location'].apply(lambda x: ', '.join(x))\n",
    "df['album_moods'] = df['album_moods'].apply(lambda x: ', '.join(x))\n",
    "df['album_themes'] = df['album_themes'].apply(lambda x: ', '.join(x))"
   ]
  },
  {
   "cell_type": "code",
   "execution_count": 145,
   "id": "68eba902-8c0c-4d7c-96c8-ebb3e5ad204b",
   "metadata": {},
   "outputs": [],
   "source": [
    "# Cleaning the missing data format\n",
    "df.loc[df['track_genres'] == 'Would you like to contrib', 'track_genres'] = ''\n",
    "df.loc[df['track_styles'] == 'Would you like to contrib', 'track_styles'] = ''\n",
    "df.loc[df['track_moods'] == 'Would you like to contrib', 'track_moods'] = ''\n",
    "df.loc[df['track_themes'] == 'Would you like to contrib', 'track_themes'] = ''"
   ]
  },
  {
   "cell_type": "code",
   "execution_count": 151,
   "id": "8a242107-b9c6-463c-a3e1-eaf7d4fb3bee",
   "metadata": {},
   "outputs": [],
   "source": [
    "# Cleaning album names\n",
    "\n",
    "df.loc[df['album_title'] == 'MTV Unplugged', 'album_title'] = 'Unplugged'\n",
    "df.loc[df['album_title'] == 'Alice in Chains', 'album_title'] = 'Alice In Chains'\n",
    "df.loc[df['album_title'] == 'Jar of Flies', 'album_title'] = 'Jar Of Flies'\n",
    "df.loc[df['album_title'] == 'The Essential Alice in Chains', 'album_title'] = 'The Essential Alice In Chains'"
   ]
  },
  {
   "cell_type": "code",
   "execution_count": 161,
   "id": "7083b433-4a4e-4dfb-9efb-67bdfae7871f",
   "metadata": {},
   "outputs": [],
   "source": [
    "# Cleaning missmatched data\n",
    "\n",
    "df.loc[df['album_title'] == 'The Essential Alice In Chains', 'album_release_date' ] = '2006'"
   ]
  },
  {
   "cell_type": "code",
   "execution_count": 259,
   "id": "05f6cfae-5a3e-4992-a589-d440bbe15e0e",
   "metadata": {},
   "outputs": [],
   "source": [
    "# Cleaning track names\n",
    "\n",
    "df.loc[df['track_title'] == 'Rainer Fog', 'track_title'] = 'Rainier Fog'\n",
    "df.loc[387,'track_title'] = 'Breath on a Window'\n",
    "df.loc[390,'track_title'] = 'Hung on a Hook'\n",
    "df.loc[[89, 150], 'track_title'] = 'The Killer Is Me'\n",
    "df.loc[27, 'track_title'] = 'Untitled'\n",
    "\n",
    "list = [2, 3, 31, 38, 47, 59, 66, 81, 114, 123, 140, 262, 274]\n",
    "df.loc[list, 'track_title'] = df.loc[list, 'track_title'].str.title()"
   ]
  },
  {
   "cell_type": "code",
   "execution_count": 261,
   "id": "2a10160e-23c6-4fd9-96be-025401a82b76",
   "metadata": {},
   "outputs": [],
   "source": [
    "df.to_csv('alice_allmusic.csv', index=False)\n",
    "allmusic = df"
   ]
  },
  {
   "cell_type": "code",
   "execution_count": 262,
   "id": "2593616d-98b3-4660-a3ba-5c739fe190a9",
   "metadata": {},
   "outputs": [],
   "source": [
    "allmusic.drop_duplicates(inplace=True)"
   ]
  },
  {
   "cell_type": "code",
   "execution_count": 264,
   "id": "3cbe39a8-41eb-4895-b2cc-185d3404fec8",
   "metadata": {},
   "outputs": [],
   "source": [
    "alice_v2 = alice_v1.merge(allmusic, how='left', left_on=['track_name', 'album_name', 'release_year'], right_on=['track_title', 'album_title', 'album_release_date']).drop(['track_title','album_title', 'album_release_date'], axis=1)\n",
    "alice_v2.to_csv('alice_v2.csv', index=False)"
   ]
  },
  {
   "cell_type": "markdown",
   "id": "ed48e3b0-ed83-423a-8ff7-8b47ca3fe965",
   "metadata": {},
   "source": [
    "# Billboard data extraction"
   ]
  },
  {
   "cell_type": "code",
   "execution_count": 1,
   "id": "bc26533a-f910-49cd-ac55-14d39f1b679c",
   "metadata": {},
   "outputs": [],
   "source": [
    "from selenium import webdriver\n",
    "from selenium.webdriver.chrome.service import Service as ChromeService\n",
    "from webdriver_manager.chrome import ChromeDriverManager\n",
    "from selenium.webdriver.common.by import By\n",
    "import pandas as pd"
   ]
  },
  {
   "cell_type": "code",
   "execution_count": 16,
   "id": "ebb8b0b4-cd5e-4502-bd28-3420354ea498",
   "metadata": {},
   "outputs": [],
   "source": [
    "driver = webdriver.Chrome(service=ChromeService(ChromeDriverManager().install()))\n",
    "\n",
    "driver.get(\"https://www.billboard.com/artist/alice-in-chains/\")"
   ]
  },
  {
   "cell_type": "code",
   "execution_count": 3,
   "id": "5622691f-9d07-4dd1-9d29-c5e94e8189ee",
   "metadata": {},
   "outputs": [],
   "source": [
    "def extract_data(chart_name = \"\"):\n",
    "    data = []\n",
    "    \n",
    "    table = driver.find_element(By.CLASS_NAME, 'artist-chart-history-items')\n",
    "    rows = table.find_elements(By.XPATH, '*')\n",
    "    \n",
    "    for row in rows:\n",
    "        track = {}\n",
    "        track_name = row.find_element(By.ID, 'title-of-a-story')\n",
    "        debut_date = row.find_element(By.CLASS_NAME, 'artist-chart-row-debut-date')\n",
    "        peak_pos = row.find_element(By.CLASS_NAME, 'artist-chart-row-peak-pos')\n",
    "        peak_date = row.find_element(By.CLASS_NAME, 'artist-chart-row-peak-date')\n",
    "        weaks_on_chart = row.find_element(By.CLASS_NAME, 'artist-chart-row-week-on-chart')\n",
    "\n",
    "        track['chart'] = chart_name\n",
    "        track['track_name'] = track_name.text\n",
    "        track['debut_date']  = debut_date.text\n",
    "        track['peak_pos'] = peak_pos.text\n",
    "        track['peak_date'] = peak_date.text\n",
    "        track['weaks_on_chart'] = weaks_on_chart.text\n",
    "        data.append(track)\n",
    "\n",
    "    \n",
    "    return data\n",
    "        \n",
    "        # print(row)\n",
    "        \n",
    "    print()"
   ]
  },
  {
   "cell_type": "code",
   "execution_count": 25,
   "id": "70bd3c41-725a-42f6-a76d-d10373cf6202",
   "metadata": {},
   "outputs": [
    {
     "name": "stdout",
     "output_type": "stream",
     "text": [
      "Chart: Bandsintown x Billboard U.S. Top Artists Index\r"
     ]
    },
    {
     "ename": "NoSuchElementException",
     "evalue": "Message: no such element: Unable to locate element: {\"method\":\"xpath\",\"selector\":\"//*[@id=\"main-wrapper\"]/main/div[2]/div[2]/div/div[2]/div[1]/nav/ul/li[41]/a\"}\n  (Session info: chrome=117.0.5938.152); For documentation on this error, please visit: https://www.selenium.dev/documentation/webdriver/troubleshooting/errors#no-such-element-exception\nStacktrace:\n\tGetHandleVerifier [0x00FDCFE3+45267]\n\t(No symbol) [0x00F69741]\n\t(No symbol) [0x00E5BE1D]\n\t(No symbol) [0x00E8ED30]\n\t(No symbol) [0x00E8F1FB]\n\t(No symbol) [0x00EBF772]\n\t(No symbol) [0x00EAB084]\n\t(No symbol) [0x00EBDDDA]\n\t(No symbol) [0x00EAAE36]\n\t(No symbol) [0x00E8674E]\n\t(No symbol) [0x00E878ED]\n\tGetHandleVerifier [0x01295659+2897737]\n\tGetHandleVerifier [0x012DE78B+3197051]\n\tGetHandleVerifier [0x012D8571+3171937]\n\tGetHandleVerifier [0x01065E40+606000]\n\t(No symbol) [0x00F7338C]\n\t(No symbol) [0x00F6F508]\n\t(No symbol) [0x00F6F62F]\n\t(No symbol) [0x00F61D27]\n\tBaseThreadInitThunk [0x7600FCC9+25]\n\tRtlGetAppContainerNamedObjectPath [0x77E87C6E+286]\n\tRtlGetAppContainerNamedObjectPath [0x77E87C3E+238]\n",
     "output_type": "error",
     "traceback": [
      "\u001b[1;31m---------------------------------------------------------------------------\u001b[0m",
      "\u001b[1;31mNoSuchElementException\u001b[0m                    Traceback (most recent call last)",
      "Cell \u001b[1;32mIn[25], line 13\u001b[0m\n\u001b[0;32m     10\u001b[0m \u001b[38;5;28mfilter\u001b[39m\u001b[38;5;241m.\u001b[39mclick()\n\u001b[0;32m     12\u001b[0m li_path \u001b[38;5;241m=\u001b[39m \u001b[38;5;124mf\u001b[39m\u001b[38;5;124m'\u001b[39m\u001b[38;5;124m//*[@id=\u001b[39m\u001b[38;5;124m\"\u001b[39m\u001b[38;5;124mmain-wrapper\u001b[39m\u001b[38;5;124m\"\u001b[39m\u001b[38;5;124m]/main/div[2]/div[2]/div/div[2]/div[1]/nav/ul/li[\u001b[39m\u001b[38;5;132;01m{\u001b[39;00mcurrent_li\u001b[38;5;132;01m}\u001b[39;00m\u001b[38;5;124m]/a\u001b[39m\u001b[38;5;124m'\u001b[39m\n\u001b[1;32m---> 13\u001b[0m new_li \u001b[38;5;241m=\u001b[39m \u001b[43mdriver\u001b[49m\u001b[38;5;241;43m.\u001b[39;49m\u001b[43mfind_element\u001b[49m\u001b[43m(\u001b[49m\u001b[43mBy\u001b[49m\u001b[38;5;241;43m.\u001b[39;49m\u001b[43mXPATH\u001b[49m\u001b[43m,\u001b[49m\u001b[43m \u001b[49m\u001b[43mli_path\u001b[49m\u001b[43m)\u001b[49m\n\u001b[0;32m     14\u001b[0m new_li\u001b[38;5;241m.\u001b[39mclick()\n\u001b[0;32m     16\u001b[0m \u001b[38;5;28mprint\u001b[39m(\u001b[38;5;124mf\u001b[39m\u001b[38;5;124m\"\u001b[39m\u001b[38;5;124mChart: \u001b[39m\u001b[38;5;132;01m{\u001b[39;00mnew_li\u001b[38;5;241m.\u001b[39mget_attribute(\u001b[38;5;124m'\u001b[39m\u001b[38;5;124mtext\u001b[39m\u001b[38;5;124m'\u001b[39m)\u001b[38;5;241m.\u001b[39mstrip()\u001b[38;5;132;01m}\u001b[39;00m\u001b[38;5;124m\"\u001b[39m, end\u001b[38;5;241m=\u001b[39m\u001b[38;5;124m'\u001b[39m\u001b[38;5;130;01m\\r\u001b[39;00m\u001b[38;5;124m'\u001b[39m)\n",
      "File \u001b[1;32m~\\AppData\\Local\\Programs\\Python\\Python310\\lib\\site-packages\\selenium\\webdriver\\remote\\webdriver.py:739\u001b[0m, in \u001b[0;36mWebDriver.find_element\u001b[1;34m(self, by, value)\u001b[0m\n\u001b[0;32m    736\u001b[0m     by \u001b[38;5;241m=\u001b[39m By\u001b[38;5;241m.\u001b[39mCSS_SELECTOR\n\u001b[0;32m    737\u001b[0m     value \u001b[38;5;241m=\u001b[39m \u001b[38;5;124mf\u001b[39m\u001b[38;5;124m'\u001b[39m\u001b[38;5;124m[name=\u001b[39m\u001b[38;5;124m\"\u001b[39m\u001b[38;5;132;01m{\u001b[39;00mvalue\u001b[38;5;132;01m}\u001b[39;00m\u001b[38;5;124m\"\u001b[39m\u001b[38;5;124m]\u001b[39m\u001b[38;5;124m'\u001b[39m\n\u001b[1;32m--> 739\u001b[0m \u001b[38;5;28;01mreturn\u001b[39;00m \u001b[38;5;28;43mself\u001b[39;49m\u001b[38;5;241;43m.\u001b[39;49m\u001b[43mexecute\u001b[49m\u001b[43m(\u001b[49m\u001b[43mCommand\u001b[49m\u001b[38;5;241;43m.\u001b[39;49m\u001b[43mFIND_ELEMENT\u001b[49m\u001b[43m,\u001b[49m\u001b[43m \u001b[49m\u001b[43m{\u001b[49m\u001b[38;5;124;43m\"\u001b[39;49m\u001b[38;5;124;43musing\u001b[39;49m\u001b[38;5;124;43m\"\u001b[39;49m\u001b[43m:\u001b[49m\u001b[43m \u001b[49m\u001b[43mby\u001b[49m\u001b[43m,\u001b[49m\u001b[43m \u001b[49m\u001b[38;5;124;43m\"\u001b[39;49m\u001b[38;5;124;43mvalue\u001b[39;49m\u001b[38;5;124;43m\"\u001b[39;49m\u001b[43m:\u001b[49m\u001b[43m \u001b[49m\u001b[43mvalue\u001b[49m\u001b[43m}\u001b[49m\u001b[43m)\u001b[49m[\u001b[38;5;124m\"\u001b[39m\u001b[38;5;124mvalue\u001b[39m\u001b[38;5;124m\"\u001b[39m]\n",
      "File \u001b[1;32m~\\AppData\\Local\\Programs\\Python\\Python310\\lib\\site-packages\\selenium\\webdriver\\remote\\webdriver.py:345\u001b[0m, in \u001b[0;36mWebDriver.execute\u001b[1;34m(self, driver_command, params)\u001b[0m\n\u001b[0;32m    343\u001b[0m response \u001b[38;5;241m=\u001b[39m \u001b[38;5;28mself\u001b[39m\u001b[38;5;241m.\u001b[39mcommand_executor\u001b[38;5;241m.\u001b[39mexecute(driver_command, params)\n\u001b[0;32m    344\u001b[0m \u001b[38;5;28;01mif\u001b[39;00m response:\n\u001b[1;32m--> 345\u001b[0m     \u001b[38;5;28;43mself\u001b[39;49m\u001b[38;5;241;43m.\u001b[39;49m\u001b[43merror_handler\u001b[49m\u001b[38;5;241;43m.\u001b[39;49m\u001b[43mcheck_response\u001b[49m\u001b[43m(\u001b[49m\u001b[43mresponse\u001b[49m\u001b[43m)\u001b[49m\n\u001b[0;32m    346\u001b[0m     response[\u001b[38;5;124m\"\u001b[39m\u001b[38;5;124mvalue\u001b[39m\u001b[38;5;124m\"\u001b[39m] \u001b[38;5;241m=\u001b[39m \u001b[38;5;28mself\u001b[39m\u001b[38;5;241m.\u001b[39m_unwrap_value(response\u001b[38;5;241m.\u001b[39mget(\u001b[38;5;124m\"\u001b[39m\u001b[38;5;124mvalue\u001b[39m\u001b[38;5;124m\"\u001b[39m, \u001b[38;5;28;01mNone\u001b[39;00m))\n\u001b[0;32m    347\u001b[0m     \u001b[38;5;28;01mreturn\u001b[39;00m response\n",
      "File \u001b[1;32m~\\AppData\\Local\\Programs\\Python\\Python310\\lib\\site-packages\\selenium\\webdriver\\remote\\errorhandler.py:229\u001b[0m, in \u001b[0;36mErrorHandler.check_response\u001b[1;34m(self, response)\u001b[0m\n\u001b[0;32m    227\u001b[0m         alert_text \u001b[38;5;241m=\u001b[39m value[\u001b[38;5;124m\"\u001b[39m\u001b[38;5;124malert\u001b[39m\u001b[38;5;124m\"\u001b[39m]\u001b[38;5;241m.\u001b[39mget(\u001b[38;5;124m\"\u001b[39m\u001b[38;5;124mtext\u001b[39m\u001b[38;5;124m\"\u001b[39m)\n\u001b[0;32m    228\u001b[0m     \u001b[38;5;28;01mraise\u001b[39;00m exception_class(message, screen, stacktrace, alert_text)  \u001b[38;5;66;03m# type: ignore[call-arg]  # mypy is not smart enough here\u001b[39;00m\n\u001b[1;32m--> 229\u001b[0m \u001b[38;5;28;01mraise\u001b[39;00m exception_class(message, screen, stacktrace)\n",
      "\u001b[1;31mNoSuchElementException\u001b[0m: Message: no such element: Unable to locate element: {\"method\":\"xpath\",\"selector\":\"//*[@id=\"main-wrapper\"]/main/div[2]/div[2]/div/div[2]/div[1]/nav/ul/li[41]/a\"}\n  (Session info: chrome=117.0.5938.152); For documentation on this error, please visit: https://www.selenium.dev/documentation/webdriver/troubleshooting/errors#no-such-element-exception\nStacktrace:\n\tGetHandleVerifier [0x00FDCFE3+45267]\n\t(No symbol) [0x00F69741]\n\t(No symbol) [0x00E5BE1D]\n\t(No symbol) [0x00E8ED30]\n\t(No symbol) [0x00E8F1FB]\n\t(No symbol) [0x00EBF772]\n\t(No symbol) [0x00EAB084]\n\t(No symbol) [0x00EBDDDA]\n\t(No symbol) [0x00EAAE36]\n\t(No symbol) [0x00E8674E]\n\t(No symbol) [0x00E878ED]\n\tGetHandleVerifier [0x01295659+2897737]\n\tGetHandleVerifier [0x012DE78B+3197051]\n\tGetHandleVerifier [0x012D8571+3171937]\n\tGetHandleVerifier [0x01065E40+606000]\n\t(No symbol) [0x00F7338C]\n\t(No symbol) [0x00F6F508]\n\t(No symbol) [0x00F6F62F]\n\t(No symbol) [0x00F61D27]\n\tBaseThreadInitThunk [0x7600FCC9+25]\n\tRtlGetAppContainerNamedObjectPath [0x77E87C6E+286]\n\tRtlGetAppContainerNamedObjectPath [0x77E87C3E+238]\n"
     ]
    }
   ],
   "source": [
    "filter = driver.find_element(By.XPATH, '//*[@id=\"artist-chart-selector\"]')\n",
    "current_li = 1\n",
    "\n",
    "all_data = []\n",
    "\n",
    "while(True):\n",
    "    if current_li == 55:\n",
    "        break\n",
    "        \n",
    "    filter.click()\n",
    "    \n",
    "    li_path = f'//*[@id=\"main-wrapper\"]/main/div[2]/div[2]/div/div[2]/div[1]/nav/ul/li[{current_li}]/a'\n",
    "    new_li = driver.find_element(By.XPATH, li_path)\n",
    "    new_li.click()\n",
    "\n",
    "    print(f\"Chart: {new_li.get_attribute('text').strip()}\", end='\\r')\n",
    "    \n",
    "    all_data.extend(extract_data(chart_name=new_li.get_attribute('text').strip()))\n",
    "    \n",
    "    current_li += 1\n",
    "driver.refresh()"
   ]
  },
  {
   "cell_type": "code",
   "execution_count": 69,
   "id": "259e771f-6fe0-49c5-be5c-bfd10bff80ba",
   "metadata": {},
   "outputs": [],
   "source": [
    "import pandas as pd\n",
    "\n",
    "df = pd.DataFrame(all_data)"
   ]
  },
  {
   "cell_type": "code",
   "execution_count": 70,
   "id": "fcc86f1a-53bd-4c8f-82df-b50e6e064d82",
   "metadata": {},
   "outputs": [
    {
     "data": {
      "text/html": [
       "<div>\n",
       "<style scoped>\n",
       "    .dataframe tbody tr th:only-of-type {\n",
       "        vertical-align: middle;\n",
       "    }\n",
       "\n",
       "    .dataframe tbody tr th {\n",
       "        vertical-align: top;\n",
       "    }\n",
       "\n",
       "    .dataframe thead th {\n",
       "        text-align: right;\n",
       "    }\n",
       "</style>\n",
       "<table border=\"1\" class=\"dataframe\">\n",
       "  <thead>\n",
       "    <tr style=\"text-align: right;\">\n",
       "      <th></th>\n",
       "      <th>chart</th>\n",
       "      <th>track_name</th>\n",
       "      <th>debut_date</th>\n",
       "      <th>peak_pos</th>\n",
       "      <th>peak_date</th>\n",
       "      <th>weaks_on_chart</th>\n",
       "    </tr>\n",
       "  </thead>\n",
       "  <tbody>\n",
       "    <tr>\n",
       "      <th>0</th>\n",
       "      <td>Billboard Hot 100</td>\n",
       "      <td>Check My Brain</td>\n",
       "      <td>10.03.09</td>\n",
       "      <td>92</td>\n",
       "      <td>10.17.09</td>\n",
       "      <td>4</td>\n",
       "    </tr>\n",
       "    <tr>\n",
       "      <th>1</th>\n",
       "      <td>Billboard 200</td>\n",
       "      <td>Dirt</td>\n",
       "      <td>10.17.92</td>\n",
       "      <td>6</td>\n",
       "      <td>10.17.92</td>\n",
       "      <td>104</td>\n",
       "    </tr>\n",
       "    <tr>\n",
       "      <th>2</th>\n",
       "      <td>Billboard 200</td>\n",
       "      <td>Facelift</td>\n",
       "      <td>04.27.91</td>\n",
       "      <td>42</td>\n",
       "      <td>07.06.91</td>\n",
       "      <td>60</td>\n",
       "    </tr>\n",
       "    <tr>\n",
       "      <th>3</th>\n",
       "      <td>Billboard 200</td>\n",
       "      <td>Jar Of Flies (EP)</td>\n",
       "      <td>02.12.94</td>\n",
       "      <td>1</td>\n",
       "      <td>02.12.94</td>\n",
       "      <td>59</td>\n",
       "    </tr>\n",
       "    <tr>\n",
       "      <th>4</th>\n",
       "      <td>Billboard 200</td>\n",
       "      <td>Alice In Chains</td>\n",
       "      <td>11.25.95</td>\n",
       "      <td>1</td>\n",
       "      <td>11.25.95</td>\n",
       "      <td>46</td>\n",
       "    </tr>\n",
       "    <tr>\n",
       "      <th>...</th>\n",
       "      <td>...</td>\n",
       "      <td>...</td>\n",
       "      <td>...</td>\n",
       "      <td>...</td>\n",
       "      <td>...</td>\n",
       "      <td>...</td>\n",
       "    </tr>\n",
       "    <tr>\n",
       "      <th>115</th>\n",
       "      <td>LyricFind U.S.</td>\n",
       "      <td>Nutshell</td>\n",
       "      <td>10.23.21</td>\n",
       "      <td>15</td>\n",
       "      <td>10.23.21</td>\n",
       "      <td>1</td>\n",
       "    </tr>\n",
       "    <tr>\n",
       "      <th>116</th>\n",
       "      <td>Greatest of All Time Mainstream Rock Artists</td>\n",
       "      <td>Alice In Chains</td>\n",
       "      <td>05.29.21</td>\n",
       "      <td>23</td>\n",
       "      <td>05.29.21</td>\n",
       "      <td>1</td>\n",
       "    </tr>\n",
       "    <tr>\n",
       "      <th>117</th>\n",
       "      <td>Germany Albums</td>\n",
       "      <td>Rainier Fog</td>\n",
       "      <td>09.08.18</td>\n",
       "      <td>8</td>\n",
       "      <td>09.08.18</td>\n",
       "      <td>1</td>\n",
       "    </tr>\n",
       "    <tr>\n",
       "      <th>118</th>\n",
       "      <td>The Official U.K. Albums Chart</td>\n",
       "      <td>Rainier Fog</td>\n",
       "      <td>09.08.18</td>\n",
       "      <td>9</td>\n",
       "      <td>09.08.18</td>\n",
       "      <td>1</td>\n",
       "    </tr>\n",
       "    <tr>\n",
       "      <th>119</th>\n",
       "      <td>Bandsintown x Billboard U.S. Top Artists Index</td>\n",
       "      <td>Alice In Chains</td>\n",
       "      <td>09.17.22</td>\n",
       "      <td>44</td>\n",
       "      <td>09.17.22</td>\n",
       "      <td>1</td>\n",
       "    </tr>\n",
       "  </tbody>\n",
       "</table>\n",
       "<p>120 rows × 6 columns</p>\n",
       "</div>"
      ],
      "text/plain": [
       "                                              chart         track_name  \\\n",
       "0                                 Billboard Hot 100     Check My Brain   \n",
       "1                                     Billboard 200               Dirt   \n",
       "2                                     Billboard 200           Facelift   \n",
       "3                                     Billboard 200  Jar Of Flies (EP)   \n",
       "4                                     Billboard 200    Alice In Chains   \n",
       "..                                              ...                ...   \n",
       "115                                  LyricFind U.S.           Nutshell   \n",
       "116    Greatest of All Time Mainstream Rock Artists    Alice In Chains   \n",
       "117                                  Germany Albums        Rainier Fog   \n",
       "118                  The Official U.K. Albums Chart        Rainier Fog   \n",
       "119  Bandsintown x Billboard U.S. Top Artists Index    Alice In Chains   \n",
       "\n",
       "    debut_date peak_pos peak_date weaks_on_chart  \n",
       "0     10.03.09       92  10.17.09              4  \n",
       "1     10.17.92        6  10.17.92            104  \n",
       "2     04.27.91       42  07.06.91             60  \n",
       "3     02.12.94        1  02.12.94             59  \n",
       "4     11.25.95        1  11.25.95             46  \n",
       "..         ...      ...       ...            ...  \n",
       "115   10.23.21       15  10.23.21              1  \n",
       "116   05.29.21       23  05.29.21              1  \n",
       "117   09.08.18        8  09.08.18              1  \n",
       "118   09.08.18        9  09.08.18              1  \n",
       "119   09.17.22       44  09.17.22              1  \n",
       "\n",
       "[120 rows x 6 columns]"
      ]
     },
     "execution_count": 70,
     "metadata": {},
     "output_type": "execute_result"
    }
   ],
   "source": [
    "df"
   ]
  },
  {
   "cell_type": "code",
   "execution_count": 71,
   "id": "1d57c672-af28-44ee-925a-2849d419287b",
   "metadata": {},
   "outputs": [],
   "source": [
    "df['chart'].value_counts()\n",
    "useful_charts = [\n",
    "    'Mainstream Rock Airplay',\n",
    "    'Alternative Airplay',\n",
    "    'Radio Songs', \n",
    "    'LyricFind U.S.',\n",
    "    'Billboard Hot 100',\n",
    "    'Rock Digital Song Sales',\n",
    "    'Hot Alternative Songs',\n",
    "    'LyricFind Global',\n",
    "    'Alternative Digital Song Sales',\n",
    "    'Billboard Global 200',\n",
    "    'Canadian Digital Song Sales',\n",
    "    'Hot Rock Songs',\n",
    "    'Hot Rock & Alternative Songs',\n",
    "    'Digital Song Sales',\n",
    "    'Rock Streaming Songs',\n",
    "    'Alternative Streaming Songs'\n",
    "    ]\n",
    "indices = df.loc[df['chart'].isin(useful_charts),].index"
   ]
  },
  {
   "cell_type": "code",
   "execution_count": 72,
   "id": "58c8ba5b-07d7-42f8-a717-4d3476468237",
   "metadata": {},
   "outputs": [],
   "source": [
    "df = df.loc[indices,]\n",
    "df.reset_index(drop=True, inplace=True)"
   ]
  },
  {
   "cell_type": "code",
   "execution_count": 73,
   "id": "89dae485-8338-4f75-8ea8-363382732960",
   "metadata": {},
   "outputs": [],
   "source": [
    "df.to_csv('billboard.csv',index=False)"
   ]
  },
  {
   "cell_type": "markdown",
   "id": "2126a375-aecc-4b38-a7e9-ddd678a08b99",
   "metadata": {},
   "source": [
    "### Creating Billboard Charts columns"
   ]
  },
  {
   "cell_type": "code",
   "execution_count": 75,
   "id": "fc40c083-5735-4fc4-97c4-53678092df15",
   "metadata": {},
   "outputs": [],
   "source": [
    "df['chart'] = df['chart'].apply(lambda x: x.replace('\\xa0',' '))"
   ]
  },
  {
   "cell_type": "code",
   "execution_count": 150,
   "id": "3d0f8c0e-92f0-4d11-89b2-ace4a94dd5ec",
   "metadata": {},
   "outputs": [],
   "source": [
    "alice = pd.read_csv('alice_v2.csv')\n",
    "alice.drop_duplicates(subset=['track_name', 'album_name', 'release_year'], inplace=True)"
   ]
  },
  {
   "cell_type": "code",
   "execution_count": 166,
   "id": "162a5397-033d-44ab-a6ec-63cedff3d9e2",
   "metadata": {},
   "outputs": [],
   "source": [
    "for i in range(df.shape[0]):\n",
    "\n",
    "    if alice.loc[alice['track_name'].str.title() == df.loc[i,'track_name'],].index.size == 1:\n",
    "        # If song has only one occurence in alice_v2 then input Billboard data there\n",
    "        chart = df.loc[i,'chart'].lower().replace(' ','_')\n",
    "        track = df.loc[i,'track_name']\n",
    "        index = alice.loc[alice['track_name'].str.title() == df.loc[i,'track_name'],].index[0]\n",
    "\n",
    "        if chart + '_debut_date' not in alice.columns: alice[chart + '_debut_date'] = ''\n",
    "        alice[chart + '_debut_date'][index] = df.loc[i,'debut_date']\n",
    "\n",
    "        if chart + '_peak_pos' not in alice.columns: alice[chart + '_peak_pos'] = ''\n",
    "        alice[chart + '_peak_pos'][index] = df.loc[i,'peak_pos']\n",
    "\n",
    "        if chart + '_peak_date' not in alice.columns: alice[chart + '_peak_date'] = ''\n",
    "        alice[chart + '_peak_date'][index] = df.loc[i,'peak_date']\n",
    "\n",
    "        if chart + '_weaks_on_chart' not in alice.columns: alice[chart + '_weaks_on_chart'] = ''\n",
    "        alice[chart + '_weaks_on_chart'][index] = df.loc[i,'weaks_on_chart']\n",
    "    else:\n",
    "        # If song has multiple occurences in alice_v2 find the original (lowest release year)\n",
    "        chart = df.loc[i,'chart'].lower().replace(' ','_')\n",
    "        track = df.loc[i,'track_name']\n",
    "        original_release_year = min(alice.loc[alice.loc[alice['track_name'].str.title() == track,].index, 'release_year'])\n",
    "        index = alice.loc[(alice['release_year'] == original_release_year) & (alice['track_name'] == track),].iloc[:,:5].index\n",
    "\n",
    "        if chart + '_debut_date' not in alice.columns: alice[chart + '_debut_date'] = ''\n",
    "        alice[chart + '_debut_date'][index] = df.loc[i,'debut_date']\n",
    "\n",
    "        if chart + '_peak_pos' not in alice.columns: alice[chart + '_peak_pos'] = ''\n",
    "        alice[chart + '_peak_pos'][index] = df.loc[i,'peak_pos']\n",
    "\n",
    "        if chart + '_peak_date' not in alice.columns: alice[chart + '_peak_date'] = ''\n",
    "        alice[chart + '_peak_date'][index] = df.loc[i,'peak_date']\n",
    "\n",
    "        if chart + '_weaks_on_chart' not in alice.columns: alice[chart + '_weaks_on_chart'] = ''\n",
    "        alice[chart + '_weaks_on_chart'][index] = df.loc[i,'weaks_on_chart']\n",
    "        \n",
    "        \n",
    "        \n",
    "    # print(alice.loc[alice['track_name'].str.title() == df.loc[i,'track_name'],].index.size)\n"
   ]
  },
  {
   "cell_type": "code",
   "execution_count": 168,
   "id": "d2298c45-efa3-4391-bdce-a9085b3c2414",
   "metadata": {},
   "outputs": [],
   "source": [
    "alice.to_csv('alice_v3.csv', index=False)"
   ]
  },
  {
   "cell_type": "code",
   "execution_count": null,
   "id": "44005d90-fc87-4679-9fb1-6606594530e8",
   "metadata": {},
   "outputs": [],
   "source": []
  }
 ],
 "metadata": {
  "kernelspec": {
   "display_name": "Python 3 (ipykernel)",
   "language": "python",
   "name": "python3"
  },
  "language_info": {
   "codemirror_mode": {
    "name": "ipython",
    "version": 3
   },
   "file_extension": ".py",
   "mimetype": "text/x-python",
   "name": "python",
   "nbconvert_exporter": "python",
   "pygments_lexer": "ipython3",
   "version": "3.10.9"
  }
 },
 "nbformat": 4,
 "nbformat_minor": 5
}
