{
 "cells": [
  {
   "cell_type": "code",
   "execution_count": 1,
   "id": "cd5ed0a6-dc85-4ba8-861c-a155d90d61cb",
   "metadata": {},
   "outputs": [],
   "source": [
    "import pandas as pd\n",
    "import numpy as np"
   ]
  },
  {
   "cell_type": "code",
   "execution_count": 2,
   "id": "3252e93b-1718-48aa-8db3-0f919679651a",
   "metadata": {},
   "outputs": [],
   "source": [
    "import warnings\n",
    "warnings.filterwarnings(\"ignore\")\n",
    "pd.options.display.max_rows = 800\n",
    "pd.options.display.max_columns = 200"
   ]
  },
  {
   "cell_type": "code",
   "execution_count": 3,
   "id": "b418139f-35b7-43c4-900c-7b1233eb44c7",
   "metadata": {},
   "outputs": [],
   "source": [
    "nirvana = pd.read_csv('../Nirvana/nirvana_v5.csv')\n",
    "alice = pd.read_csv('../Alice in Chains/alice_v3.csv')\n",
    "pearl = pd.read_csv('../Pearl Jam/pearl_v3.csv')\n",
    "sound = pd.read_csv('../Soundgarden/soundgarden_v3.csv')"
   ]
  },
  {
   "cell_type": "code",
   "execution_count": 4,
   "id": "d49c4670-0397-49bd-90e5-eb0949bddb28",
   "metadata": {},
   "outputs": [],
   "source": [
    "nirvana.replace(np.nan, '', inplace=True)\n",
    "alice.replace(np.nan, '', inplace=True)\n",
    "pearl.replace(np.nan, '', inplace=True)\n",
    "sound.replace(np.nan, '', inplace=True)"
   ]
  },
  {
   "cell_type": "code",
   "execution_count": 5,
   "id": "bf765e67-5118-4c6a-8e4d-d1f500067fc4",
   "metadata": {},
   "outputs": [],
   "source": [
    "pearl['writers'] = pearl['authors']"
   ]
  },
  {
   "cell_type": "code",
   "execution_count": 6,
   "id": "a83b4f9f-17df-4ecb-adfe-a527530c7d8b",
   "metadata": {},
   "outputs": [],
   "source": [
    "alice['writers'] = alice['author']\n",
    "alice['producers'] = alice['producer']"
   ]
  },
  {
   "cell_type": "code",
   "execution_count": 7,
   "id": "4ab3b0b9-6009-449b-96fc-f0cd635e42a1",
   "metadata": {},
   "outputs": [],
   "source": [
    "df = pd.concat([nirvana, alice, pearl, sound])\n",
    "df.reset_index(inplace=True, drop=True)"
   ]
  },
  {
   "cell_type": "code",
   "execution_count": 8,
   "id": "3983b426-0994-4b59-92c5-8bc7c0750d9b",
   "metadata": {},
   "outputs": [],
   "source": [
    "df = df.drop(['album_release_date', 'track_album', 'track_title', 'album_title', 'authors'], axis=1)"
   ]
  },
  {
   "cell_type": "code",
   "execution_count": 9,
   "id": "936e2dcc-caaa-4b37-9e7c-f8f1af7986c3",
   "metadata": {},
   "outputs": [],
   "source": [
    "df.album_type[df.album_type == 'album'] = 'studio album'"
   ]
  },
  {
   "cell_type": "code",
   "execution_count": 10,
   "id": "699313cc-20cd-42a8-aa8d-ddfa6e8da0b4",
   "metadata": {},
   "outputs": [],
   "source": [
    "df.artists[df.artists == 'Alice In Chains, Praga Kahn, Oliver Adams'] = 'Alice In Chains'"
   ]
  },
  {
   "cell_type": "code",
   "execution_count": 11,
   "id": "5f924ef5-6776-45e1-b3c0-a65ea43ec98f",
   "metadata": {},
   "outputs": [],
   "source": [
    "df.producers[df.producers.isna()] = ''\n",
    "df.producers[df.producers == 'Brendan O\\'BrienPearl Jam'] = 'Brendan O\\'Brien, Pearl Jam'\n",
    "df.producers[df.producers == 'Josh EvansPearl Jam'] = 'Josh Evans, Pearl Jam'\n",
    "df.producers[df.producers == 'Rick ParasharPearl Jam'] = 'Rick Parashar, Pearl Jam'"
   ]
  },
  {
   "cell_type": "code",
   "execution_count": 12,
   "id": "fb54203a-7211-4d5a-94b9-11f3865dd87e",
   "metadata": {},
   "outputs": [],
   "source": [
    "df.writers[df.writers == 'Eddie VedderJeff AmentStone GossardMike McCreadyDave Abbruzzese'] = 'Eddie Vedder, Stone Gossard, Mike McCready, Jeff Ament, Dave Abbruzzese'"
   ]
  },
  {
   "cell_type": "code",
   "execution_count": 13,
   "id": "302d64ca-2110-412e-b929-011fad8a4b06",
   "metadata": {},
   "outputs": [],
   "source": [
    "df.track_genres = df.track_genres.str.strip()"
   ]
  },
  {
   "cell_type": "code",
   "execution_count": 14,
   "id": "7ba880a1-c56c-4aa4-b6bf-d2fdde211851",
   "metadata": {},
   "outputs": [],
   "source": [
    "df.track_styles = df.track_styles.apply(lambda x: x.replace(' ,', ','))"
   ]
  },
  {
   "cell_type": "code",
   "execution_count": 15,
   "id": "ebe206b1-daba-43d0-9621-deb819757814",
   "metadata": {},
   "outputs": [],
   "source": [
    "df.album_genres[df.album_genres.isna()] = ''"
   ]
  },
  {
   "cell_type": "code",
   "execution_count": 16,
   "id": "5f09716c-a472-4dfc-96ab-d3582f279c0a",
   "metadata": {},
   "outputs": [],
   "source": [
    "df.album_styles[df.album_styles == 'Alternative MetalAlternative Pop/RockAlternative/Indie RockGrungeHard RockHeavy Metal'] = 'Alternative Metal, Alternative Pop/Rock, Alternative/Indie Rock, Grunge, Hard Rock, Heavy Metal'\n",
    "df.album_styles[df.album_styles == 'Alternative MetalGrungeHard Rock'] = 'Alternative Metal, Grunge, Hard Rock'\n",
    "df.album_styles[df.album_styles == 'Alternative MetalHard RockHeavy MetalAlternative/Indie Rock'] = 'Alternative Metal, Hard Rock, Heavy Metal, Alternative/Indie Rock'\n",
    "df.album_styles[df.album_styles == 'Alternative MetalHeavy MetalAlternative Pop/RockAlternative/Indie RockGrunge'] = 'Alternative Metal, Heavy Metal, Alternative Pop/Rock, Alternative/Indie Rock, Grunge'\n",
    "df.album_styles[df.album_styles == 'Alternative MetalHeavy MetalHard Rock'] = 'Alternative Metal, Heavy Metal, Hard Rock'\n",
    "df.album_styles[df.album_styles == 'Alternative Pop/RockAlternative/Indie RockGrunge'] = 'Alternative Pop/Rock, Alternative/Indie Rock, Grunge'\n",
    "df.album_styles[df.album_styles == 'Alternative Pop/RockAlternative/Indie RockGrungeHard Rock'] = 'Alternative Pop/Rock, Alternative/Indie Rock, Grunge, Hard Rock'\n",
    "df.album_styles[df.album_styles == 'Alternative Pop/RockAlternative/Indie RockGrungeHard RockPost-Grunge'] = 'Alternative Pop/Rock, Alternative/Indie Rock, Grunge, Hard Rock, Post-Grunge'\n",
    "df.album_styles[df.album_styles == 'Alternative Pop/RockAlternative/Indie RockHard Rock'] = 'Alternative Pop/Rock, Alternative/Indie Rock, Hard Rock'\n",
    "df.album_styles[df.album_styles == 'Alternative Pop/RockAlternative/Indie RockHard RockGrunge'] = 'Alternative Pop/Rock, Alternative/Indie Rock, Hard Rock, Grunge'\n",
    "df.album_styles[df.album_styles == 'Alternative/Indie RockGrunge'] = 'Alternative/Indie Rock, Grunge'\n",
    "df.album_styles[df.album_styles == 'Alternative/Indie RockGrungeAlternative Pop/RockAlternative MetalHeavy Metal'] = 'Alternative/Indie Rock, Grunge, Alternative Pop/Rock, Alternative Metal, Heavy Metal'\n",
    "df.album_styles[df.album_styles == 'Alternative/Indie RockGrungeIndie Rock'] = 'Alternative/Indie Rock, Grunge, Indie Rock'\n",
    "df.album_styles[df.album_styles == 'Alternative/Indie RockHard Rock'] = 'Alternative/Indie Rock, Hard Rock'"
   ]
  },
  {
   "cell_type": "code",
   "execution_count": 17,
   "id": "f7b8f0ae-b3f6-421f-8a42-2060f6001de6",
   "metadata": {},
   "outputs": [],
   "source": [
    "df.album_recording_date = df.album_recording_date.astype(str).apply(lambda x: x.replace('.0',''))"
   ]
  },
  {
   "cell_type": "code",
   "execution_count": 18,
   "id": "7ff9de76-9f2e-4a13-806b-da5dbb637b12",
   "metadata": {},
   "outputs": [],
   "source": [
    "df.iloc[:, 33:] = df.iloc[:, 33:].replace(np.nan, None)\n",
    "df.iloc[:, 33:] = df.iloc[:, 33:].replace('', None)"
   ]
  },
  {
   "cell_type": "code",
   "execution_count": 19,
   "id": "87fce5ea-877f-41c7-bd08-2e0d9af801d5",
   "metadata": {},
   "outputs": [],
   "source": [
    "def merge_coulumns(df, col1, col2):\n",
    "    # col1 - column with the right name\n",
    "    # col2 - column with the wrong name\n",
    "    for key, value in df[col2].items():\n",
    "        if value != None:\n",
    "            df[col1].iloc[key] = value\n",
    "    df.drop(col2, axis=1,inplace=True)       "
   ]
  },
  {
   "cell_type": "code",
   "execution_count": 20,
   "id": "d7961a8b-059c-48ad-8af8-7a1c8e5e9a3d",
   "metadata": {},
   "outputs": [],
   "source": [
    "merge_coulumns(df, 'alternative_digital_song_sales_debut_date', 'alternative_digital_song\\xa0sales_debut_date')\n",
    "merge_coulumns(df, 'alternative_digital_song_sales_peak_date', 'alternative_digital_song\\xa0sales_peak_date')\n",
    "merge_coulumns(df, 'alternative_digital_song_sales_peak_pos', 'alternative_digital_song\\xa0sales_peak_pos')\n",
    "merge_coulumns(df, 'alternative_digital_song_sales_weaks_on_chart', 'alternative_digital_song\\xa0sales_weaks_on_chart')\n",
    "\n",
    "merge_coulumns(df, 'canadian_digital_song_sales_debut_date', 'canadian_digital_song\\xa0sales_debut_date')\n",
    "merge_coulumns(df, 'canadian_digital_song_sales_peak_date', 'canadian_digital_song\\xa0sales_peak_date')\n",
    "merge_coulumns(df, 'canadian_digital_song_sales_peak_pos', 'canadian_digital_song\\xa0sales_peak_pos')\n",
    "merge_coulumns(df, 'canadian_digital_song_sales_weaks_on_chart', 'canadian_digital_song\\xa0sales_weaks_on_chart')\n",
    "\n",
    "merge_coulumns(df, 'hot_rock_&_alternative_songs_debut_date', 'hot_rock_&_alternative\\xa0songs_debut_date')\n",
    "merge_coulumns(df, 'hot_rock_&_alternative_songs_peak_date', 'hot_rock_&_alternative\\xa0songs_peak_date')\n",
    "merge_coulumns(df, 'hot_rock_&_alternative_songs_peak_pos', 'hot_rock_&_alternative\\xa0songs_peak_pos')\n",
    "merge_coulumns(df, 'hot_rock_&_alternative_songs_weaks_on_chart', 'hot_rock_&_alternative\\xa0songs_weaks_on_chart')\n",
    "\n",
    "merge_coulumns(df, 'rock_digital_song_sales_debut_date', 'rock_digital_song\\xa0sales_debut_date')\n",
    "merge_coulumns(df, 'rock_digital_song_sales_peak_date', 'rock_digital_song\\xa0sales_peak_date')\n",
    "merge_coulumns(df, 'rock_digital_song_sales_peak_pos', 'rock_digital_song\\xa0sales_peak_pos')\n",
    "merge_coulumns(df, 'rock_digital_song_sales_weaks_on_chart', 'rock_digital_song\\xa0sales_weaks_on_chart')"
   ]
  },
  {
   "cell_type": "code",
   "execution_count": 21,
   "id": "78606e57-6c87-4739-bd5b-9002b77a063f",
   "metadata": {},
   "outputs": [],
   "source": [
    "df.drop(['author', 'producer'], axis=1, inplace=True)"
   ]
  },
  {
   "cell_type": "code",
   "execution_count": 24,
   "id": "c2a81619-7daa-487b-b90e-771b24f8e39c",
   "metadata": {},
   "outputs": [
    {
     "data": {
      "text/plain": [
       "(707, 97)"
      ]
     },
     "execution_count": 24,
     "metadata": {},
     "output_type": "execute_result"
    }
   ],
   "source": [
    "df.shape"
   ]
  },
  {
   "cell_type": "code",
   "execution_count": 23,
   "id": "90486088-d164-485f-91c8-9189f2e46e2c",
   "metadata": {},
   "outputs": [],
   "source": [
    "df.to_csv('grunge.csv', index=False)"
   ]
  }
 ],
 "metadata": {
  "kernelspec": {
   "display_name": "Python 3 (ipykernel)",
   "language": "python",
   "name": "python3"
  },
  "language_info": {
   "codemirror_mode": {
    "name": "ipython",
    "version": 3
   },
   "file_extension": ".py",
   "mimetype": "text/x-python",
   "name": "python",
   "nbconvert_exporter": "python",
   "pygments_lexer": "ipython3",
   "version": "3.10.9"
  }
 },
 "nbformat": 4,
 "nbformat_minor": 5
}
